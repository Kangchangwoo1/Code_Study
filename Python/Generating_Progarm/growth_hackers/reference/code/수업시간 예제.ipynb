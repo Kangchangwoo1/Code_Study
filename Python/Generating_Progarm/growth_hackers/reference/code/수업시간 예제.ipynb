{
 "cells": [
  {
   "cell_type": "code",
   "execution_count": 3,
   "metadata": {},
   "outputs": [
    {
     "name": "stdout",
     "output_type": "stream",
     "text": [
      "Coefficients:  [[ 1.313456]]\n",
      "intercept:  [ 16.99515723]\n"
     ]
    },
    {
     "data": {
      "image/png": "[encoded data removed]",
      "text/plain": [
       "<matplotlib.figure.Figure at 0x2c013724b70>"
      ]
     },
     "metadata": {},
     "output_type": "display_data"
    }
   ],
   "source": [
    "import matplotlib.pyplot as plt\n",
    "import numpy as np\n",
    "from sklearn import  linear_model\n",
    "\n",
    "\n",
    "%matplotlib inline\n",
    "\n",
    "raw_data = np.loadtxt('unemployment (1).csv', \n",
    "           delimiter=',', usecols=(0,1), \n",
    "           unpack=False, dtype=float, skiprows=1)\n",
    "\n",
    "x_data = raw_data[:, 0].reshape(42,1)\n",
    "y_data = raw_data[:, 1].reshape(42,1)\n",
    "regr = linear_model.LinearRegression()\n",
    "\n",
    "regr.fit(x_data, y_data)\n",
    "\n",
    "# # The coefficients\n",
    "print('Coefficients: ', regr.coef_)\n",
    "print('intercept: ', regr.intercept_)                                \n",
    "\n",
    "# Plot outputs\n",
    "plt.scatter(x_data, y_data,  color='black', )\n",
    "plt.plot(x_data, regr.predict(x_data), color='blue',\n",
    "         linewidth=3)\n",
    "\n",
    "plt.xticks(())\n",
    "plt.yticks(())\n",
    "\n",
    "plt.show()"
   ]
  },
  {
   "cell_type": "code",
   "execution_count": 13,
   "metadata": {},
   "outputs": [
    {
     "data": {
      "text/html": [
       "<div>\n",
       "<style>\n",
       "    .dataframe thead tr:only-child th {\n",
       "        text-align: right;\n",
       "    }\n",
       "\n",
       "    .dataframe thead th {\n",
       "        text-align: left;\n",
       "    }\n",
       "\n",
       "    .dataframe tbody tr th {\n",
       "        vertical-align: top;\n",
       "    }\n",
       "</style>\n",
       "<table border=\"1\" class=\"dataframe\">\n",
       "  <thead>\n",
       "    <tr style=\"text-align: right;\">\n",
       "      <th></th>\n",
       "      <th>0</th>\n",
       "    </tr>\n",
       "  </thead>\n",
       "  <tbody>\n",
       "    <tr>\n",
       "      <th>0</th>\n",
       "      <td>X,Y</td>\n",
       "    </tr>\n",
       "    <tr>\n",
       "      <th>1</th>\n",
       "      <td>6.2,29</td>\n",
       "    </tr>\n",
       "    <tr>\n",
       "      <th>2</th>\n",
       "      <td>9.5,44</td>\n",
       "    </tr>\n",
       "    <tr>\n",
       "      <th>3</th>\n",
       "      <td>10.5,36</td>\n",
       "    </tr>\n",
       "    <tr>\n",
       "      <th>4</th>\n",
       "      <td>7.7,37</td>\n",
       "    </tr>\n",
       "  </tbody>\n",
       "</table>\n",
       "</div>"
      ],
      "text/plain": [
       "         0\n",
       "0      X,Y\n",
       "1   6.2,29\n",
       "2   9.5,44\n",
       "3  10.5,36\n",
       "4   7.7,37"
      ]
     },
     "execution_count": 13,
     "metadata": {},
     "output_type": "execute_result"
    }
   ],
   "source": [
    "import pandas as pd\n",
    "\n",
    "data_url = 'fire_and_theft_data.csv'\n",
    "df_data=pd.read_csv(data_url, sep='\\s+',header = None)\n",
    "\n",
    "data_url1 = 'unemployment (1).csv'\n",
    "df_data1=pd.read_csv(data_url1, sep='\\s+',header = None)\n",
    "\n",
    "df_data.as_matrix()\n",
    "df_data1.head()\n",
    "\n",
    "X\n",
    "\n",
    "#상대 주소 절대주소는 알아야함\n"
   ]
  }
 ],
 "metadata": {
  "kernelspec": {
   "display_name": "Python 3",
   "language": "python",
   "name": "python3"
  },
  "language_info": {
   "codemirror_mode": {
    "name": "ipython",
    "version": 3
   },
   "file_extension": ".py",
   "mimetype": "text/x-python",
   "name": "python",
   "nbconvert_exporter": "python",
   "pygments_lexer": "ipython3",
   "version": "3.6.5"
  }
 },
 "nbformat": 4,
 "nbformat_minor": 2
}
