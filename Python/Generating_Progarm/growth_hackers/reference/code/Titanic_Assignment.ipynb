{
 "cells": [
  {
   "cell_type": "markdown",
   "metadata": {},
   "source": [
    "# Kaggle_Titanic_Assignment\n",
    "\n",
    "## 전처리 -> Logistic Regression &Metric  -> Naive Bayesian & Metric -> ROC Curve"
   ]
  },
  {
   "cell_type": "code",
   "execution_count": 248,
   "metadata": {
    "collapsed": true
   },
   "outputs": [],
   "source": [
    "\n",
    "### 0. 패키지 불러오기 & 데이터 프레임 불러오기\n",
    "\n",
    "\n",
    "#패키지 불러오기\n",
    "from sklearn.datasets import load_boston\n",
    "import matplotlib.pyplot as plt\n",
    "import numpy as np\n",
    "import pandas as pd\n",
    "from sklearn import  linear_model\n",
    "from sklearn import  preprocessing\n",
    "from pandas.plotting import scatter_matrix\n"
   ]
  },
  {
   "cell_type": "markdown",
   "metadata": {},
   "source": [
    "## 전처리"
   ]
  },
  {
   "cell_type": "code",
   "execution_count": 249,
   "metadata": {},
   "outputs": [
    {
     "data": {
      "text/html": [
       "<div>\n",
       "<style>\n",
       "    .dataframe thead tr:only-child th {\n",
       "        text-align: right;\n",
       "    }\n",
       "\n",
       "    .dataframe thead th {\n",
       "        text-align: left;\n",
       "    }\n",
       "\n",
       "    .dataframe tbody tr th {\n",
       "        vertical-align: top;\n",
       "    }\n",
       "</style>\n",
       "<table border=\"1\" class=\"dataframe\">\n",
       "  <thead>\n",
       "    <tr style=\"text-align: right;\">\n",
       "      <th></th>\n",
       "      <th>PassengerId</th>\n",
       "      <th>Survived</th>\n",
       "      <th>Pclass</th>\n",
       "      <th>Name</th>\n",
       "      <th>Sex</th>\n",
       "      <th>Age</th>\n",
       "      <th>SibSp</th>\n",
       "      <th>Parch</th>\n",
       "      <th>Ticket</th>\n",
       "      <th>Fare</th>\n",
       "      <th>Cabin</th>\n",
       "      <th>Embarked</th>\n",
       "    </tr>\n",
       "  </thead>\n",
       "  <tbody>\n",
       "    <tr>\n",
       "      <th>0</th>\n",
       "      <td>1</td>\n",
       "      <td>0</td>\n",
       "      <td>3</td>\n",
       "      <td>Braund, Mr. Owen Harris</td>\n",
       "      <td>male</td>\n",
       "      <td>22.0</td>\n",
       "      <td>1</td>\n",
       "      <td>0</td>\n",
       "      <td>A/5 21171</td>\n",
       "      <td>7.2500</td>\n",
       "      <td>NaN</td>\n",
       "      <td>S</td>\n",
       "    </tr>\n",
       "    <tr>\n",
       "      <th>1</th>\n",
       "      <td>2</td>\n",
       "      <td>1</td>\n",
       "      <td>1</td>\n",
       "      <td>Cumings, Mrs. John Bradley (Florence Briggs Th...</td>\n",
       "      <td>female</td>\n",
       "      <td>38.0</td>\n",
       "      <td>1</td>\n",
       "      <td>0</td>\n",
       "      <td>PC 17599</td>\n",
       "      <td>71.2833</td>\n",
       "      <td>C85</td>\n",
       "      <td>C</td>\n",
       "    </tr>\n",
       "    <tr>\n",
       "      <th>2</th>\n",
       "      <td>3</td>\n",
       "      <td>1</td>\n",
       "      <td>3</td>\n",
       "      <td>Heikkinen, Miss. Laina</td>\n",
       "      <td>female</td>\n",
       "      <td>26.0</td>\n",
       "      <td>0</td>\n",
       "      <td>0</td>\n",
       "      <td>STON/O2. 3101282</td>\n",
       "      <td>7.9250</td>\n",
       "      <td>NaN</td>\n",
       "      <td>S</td>\n",
       "    </tr>\n",
       "    <tr>\n",
       "      <th>3</th>\n",
       "      <td>4</td>\n",
       "      <td>1</td>\n",
       "      <td>1</td>\n",
       "      <td>Futrelle, Mrs. Jacques Heath (Lily May Peel)</td>\n",
       "      <td>female</td>\n",
       "      <td>35.0</td>\n",
       "      <td>1</td>\n",
       "      <td>0</td>\n",
       "      <td>113803</td>\n",
       "      <td>53.1000</td>\n",
       "      <td>C123</td>\n",
       "      <td>S</td>\n",
       "    </tr>\n",
       "    <tr>\n",
       "      <th>4</th>\n",
       "      <td>5</td>\n",
       "      <td>0</td>\n",
       "      <td>3</td>\n",
       "      <td>Allen, Mr. William Henry</td>\n",
       "      <td>male</td>\n",
       "      <td>35.0</td>\n",
       "      <td>0</td>\n",
       "      <td>0</td>\n",
       "      <td>373450</td>\n",
       "      <td>8.0500</td>\n",
       "      <td>NaN</td>\n",
       "      <td>S</td>\n",
       "    </tr>\n",
       "  </tbody>\n",
       "</table>\n",
       "</div>"
      ],
      "text/plain": [
       "   PassengerId  Survived  Pclass  \\\n",
       "0            1         0       3   \n",
       "1            2         1       1   \n",
       "2            3         1       3   \n",
       "3            4         1       1   \n",
       "4            5         0       3   \n",
       "\n",
       "                                                Name     Sex   Age  SibSp  \\\n",
       "0                            Braund, Mr. Owen Harris    male  22.0      1   \n",
       "1  Cumings, Mrs. John Bradley (Florence Briggs Th...  female  38.0      1   \n",
       "2                             Heikkinen, Miss. Laina  female  26.0      0   \n",
       "3       Futrelle, Mrs. Jacques Heath (Lily May Peel)  female  35.0      1   \n",
       "4                           Allen, Mr. William Henry    male  35.0      0   \n",
       "\n",
       "   Parch            Ticket     Fare Cabin Embarked  \n",
       "0      0         A/5 21171   7.2500   NaN        S  \n",
       "1      0          PC 17599  71.2833   C85        C  \n",
       "2      0  STON/O2. 3101282   7.9250   NaN        S  \n",
       "3      0            113803  53.1000  C123        S  \n",
       "4      0            373450   8.0500   NaN        S  "
      ]
     },
     "execution_count": 249,
     "metadata": {},
     "output_type": "execute_result"
    }
   ],
   "source": [
    "# Train - dataset 데이터 프레임 정의\n",
    "data_url ='titanic_train.csv'\n",
    "df_all=pd.read_csv(data_url, header = 'infer')\n",
    "load_train = pd.read_csv('train.csv')"
   ]
  },
  {
   "cell_type": "markdown",
   "metadata": {},
   "source": [
    "#### 데이터의 경우, Y값이 존재해야 roc curve를 판단할 수 있기 때문에 Y값이 존재하는 train 데이터 셋을 불러온 뒤 이를 분할하여 사용할 목적으로 train 데이터 셋만 불러옴"
   ]
  },
  {
   "cell_type": "code",
   "execution_count": 250,
   "metadata": {},
   "outputs": [
    {
     "data": {
      "text/plain": [
       "(891, 12)"
      ]
     },
     "execution_count": 250,
     "metadata": {},
     "output_type": "execute_result"
    }
   ],
   "source": [
    "df_all.shape"
   ]
  },
  {
   "cell_type": "code",
   "execution_count": 251,
   "metadata": {},
   "outputs": [
    {
     "data": {
      "text/plain": [
       "0    0\n",
       "1    1\n",
       "2    1\n",
       "3    1\n",
       "4    0\n",
       "Name: Survived, dtype: int64"
      ]
     },
     "execution_count": 251,
     "metadata": {},
     "output_type": "execute_result"
    }
   ],
   "source": [
    "# Y 값 (목적값) 을 따로 빼서 정리 del 보다 번거롭지 않아서 pop이 좋은듯.\n",
    "y_data = df_all.pop(\"Survived\")\n",
    "y_data.head()"
   ]
  },
  {
   "cell_type": "code",
   "execution_count": 252,
   "metadata": {},
   "outputs": [
    {
     "data": {
      "text/plain": [
       "Cabin       687\n",
       "Age         177\n",
       "Embarked      2\n",
       "Fare          0\n",
       "Ticket        0\n",
       "dtype: int64"
      ]
     },
     "execution_count": 252,
     "metadata": {},
     "output_type": "execute_result"
    }
   ],
   "source": [
    "# 결측치가 존재하는 행 순서대로 나타내기.\n",
    "\n",
    "df_all.isnull().sum().sort_values(ascending=False).head()"
   ]
  },
  {
   "cell_type": "markdown",
   "metadata": {
    "collapsed": true
   },
   "source": [
    "### 결측치가 높은 데이터와 기타 피쳐 전처리\n",
    "\n",
    " Cabin = \tCabin number 선실 번호\n",
    " -> 선실 배치에 대한 정보가 없기 때문에 해석이 무의미하며 결측치도 많기 때문에 소거 처리 \n",
    "\n",
    " Age = \tAge in years 나이\n",
    " Age 특징 = Age is fractional if less than 1. If the age is estimated, is it in the form of xx.5\n",
    " -> 평균값으로 대체\n",
    "\n",
    " Embarked = \tPort of Embarkation 태운 항구\n",
    " -> 수치도 2 정도로 작기 때문에 최빈값으로 대체\n",
    "\n",
    " Fare = \tPassenge fare 요금\n",
    " -> 평균값으로 대체\n",
    " \n",
    " PassengerId\n",
    " ->인덱스 값이기 때문에 소거 처리\n",
    " \n",
    " Name = 승객명\n",
    " -> 승객명은 무의미한 정보고 피쳐수가 상당히 증가하기 때문에 혼인 여부를 가늠할 수 있는 mrs, mr정도만 남긴다.\n",
    "\n",
    "\n"
   ]
  },
  {
   "cell_type": "code",
   "execution_count": 253,
   "metadata": {},
   "outputs": [],
   "source": [
    "#list_name = df_all['Name'].values().asmatrix\n",
    "#for i in list_name:\n",
    "#    if 'Mr.' in i :\n",
    "#        load_train.Name[i] = 'Mr.'\n",
    "#    elif 'Miss.' in i :\n",
    "#        load_train.Name[i] = 'Miss'\n",
    "#    elif 'Mrs.' in i :\n",
    "#        load_train.Name[i] = 'Mrs'\n",
    "#    elif 'Master.' in i :\n",
    "#        load_train.Name[i] = 'Master'\n",
    "#    else :\n",
    "#        load_train.Name[i] = 'nothing'\n",
    "\n",
    "#list_name\n",
    "\n"
   ]
  },
  {
   "cell_type": "code",
   "execution_count": 254,
   "metadata": {},
   "outputs": [],
   "source": [
    "\n",
    "# 승객명은 불필요한 정보지만 Mr, Miss, Mrs, Master 혼인여부는 유의미한 정보이기 때문에 변환. \n",
    "# (코드는 혼자 이것저것 해보다 김재영 학생의 코드를 참고했으나 잘 안되서 일단은 다 해당 컬럼을 지워버렸습니다.)\n",
    "# (더 해보고 다음 시간 이전까지 나이브 베이지안 과제와 같이 다시 제출하도록 해보겠습니다.)\n",
    "'''\n",
    "for i in range(len(df_all.Name)):\n",
    "    a = df_all.Name[i].split()\n",
    "    if 'Mr.' in a :\n",
    "        df_all.Name[i] = 'Mr.'\n",
    "    elif 'Miss.' in a :\n",
    "        df_all.Name[i] = 'Miss'\n",
    "    elif 'Mrs.' in a :\n",
    "        df_all.Name[i] = 'Mrs'\n",
    "    elif 'Master.' in a :\n",
    "        df_all.Name[i] = 'Master'\n",
    "    else :\n",
    "        df_all.Name[i] = 'nothing'\n",
    "        '''\n",
    "\n",
    "# 태운 항구는 최빈값으로 대체\n",
    "a = df_all[\"Embarked\"].value_counts()[0]\n",
    "df_all[\"Embarked\"] = df_all[\"Embarked\"].fillna(a)\n",
    "\n",
    "# 요금은 평균값으로 대체\n",
    "df_all[\"Fare\"] = df_all[\"Fare\"].fillna(df_all[\"Fare\"].mean())\n",
    "\n",
    "# 나이는 평균값으로 대체 \n",
    "df_all[\"Age\"] = df_all[\"Fare\"].fillna(df_all[\"Age\"].mean()  )\n",
    "\n",
    "# 해당 특성이 너무 많지만 무의미한 'Ticket', 인덱스를 나타내는 'Passengerld', 무의미하면서 결측치가 높은 'Cabin' 드랍\n",
    "after_data = df_all.drop(['Ticket','PassengerId','Cabin','Name'],axis=1)\n",
    "\n",
    "\n"
   ]
  },
  {
   "cell_type": "code",
   "execution_count": 255,
   "metadata": {},
   "outputs": [],
   "source": [
    "df_all = pd.get_dummies(df_all)\n"
   ]
  },
  {
   "cell_type": "code",
   "execution_count": 256,
   "metadata": {},
   "outputs": [
    {
     "data": {
      "text/plain": [
       "((712, 1731), (712,), (179, 1731), (179,))"
      ]
     },
     "execution_count": 256,
     "metadata": {},
     "output_type": "execute_result"
    }
   ],
   "source": [
    "from sklearn.model_selection import train_test_split\n",
    "\n",
    "# Train, Test 데이터 분할\n",
    "\n",
    "# id 컬럼을 제외한 1459번 까지의 row를 train 값으로 편성\n",
    "x_train = df_all.iloc[:891,0:].as_matrix()\n",
    "# id 컬럼을 제외한 1459번 부터의 row를 test 값으로 편성\n",
    "x_test = df_all.iloc[891:,0:].as_matrix()\n",
    "y_train = y_data.as_matrix()\n",
    "\n",
    "x_train, x_test, y_train, y_test = train_test_split(x_train,y_train,test_size =0.2, random_state=22)\n",
    "\n",
    "\n",
    "x_train.shape, y_train.shape, x_test.shape, y_test.shape"
   ]
  },
  {
   "cell_type": "code",
   "execution_count": 257,
   "metadata": {},
   "outputs": [],
   "source": [
    "from sklearn.preprocessing import LabelEncoder\n",
    "\n",
    "# 자동으로 M ,B 따위의 카테고리 데이터를 1과 0 으로 표현해줌\n",
    "le = LabelEncoder()\n",
    "y_train = le.fit_transform(y_train)"
   ]
  },
  {
   "cell_type": "markdown",
   "metadata": {},
   "source": [
    "## Logistic Regression  & Metric"
   ]
  },
  {
   "cell_type": "code",
   "execution_count": 258,
   "metadata": {},
   "outputs": [
    {
     "name": "stdout",
     "output_type": "stream",
     "text": [
      "Coefficients: [ -1.28597403e-01   9.62381811e-05  -2.95092576e-02  -2.13326925e-02\n",
      "   9.62381811e-05   2.76908512e-01  -2.76908512e-01   2.83561770e-02\n",
      "   3.85067070e-02  -2.36845161e-02  -4.31783678e-02]\n",
      "intercept: 0.807934605138\n"
     ]
    }
   ],
   "source": [
    "#Logistic Regression에 대입 후 파라미터 도출\n",
    "\n",
    "Lr = LogisticRegression()\n",
    "Lr.fit(x_train, y_train)\n",
    "\n",
    "print ('Coefficients:',regr.coef_)\n",
    "print ('intercept:',regr.intercept_)"
   ]
  },
  {
   "cell_type": "code",
   "execution_count": 259,
   "metadata": {},
   "outputs": [
    {
     "name": "stdout",
     "output_type": "stream",
     "text": [
      "             precision    recall  f1-score   support\n",
      "\n",
      "          0       0.79      0.84      0.81       110\n",
      "          1       0.71      0.65      0.68        69\n",
      "\n",
      "avg / total       0.76      0.77      0.76       179\n",
      "\n"
     ]
    }
   ],
   "source": [
    "from sklearn.metrics import classification_report\n",
    "print (classification_report(y_test, Lr.predict(x_test)))"
   ]
  },
  {
   "cell_type": "markdown",
   "metadata": {},
   "source": [
    "##  Naive Bayesian & Metric"
   ]
  },
  {
   "cell_type": "code",
   "execution_count": 260,
   "metadata": {},
   "outputs": [
    {
     "data": {
      "text/plain": [
       "GaussianNB(priors=None)"
      ]
     },
     "execution_count": 260,
     "metadata": {},
     "output_type": "execute_result"
    }
   ],
   "source": [
    "from sklearn.naive_bayes import MultinomialNB, BernoulliNB, GaussianNB\n",
    "\n",
    "\n",
    "mnb = MultinomialNB()\n",
    "bnb = BernoulliNB()\n",
    "gnb = GaussianNB()\n",
    "\n",
    "mnb.fit(x_train, y_train)\n",
    "bnb.fit(x_train, y_train)\n",
    "gnb.fit(x_train, y_train)\n"
   ]
  },
  {
   "cell_type": "code",
   "execution_count": 261,
   "metadata": {},
   "outputs": [
    {
     "name": "stdout",
     "output_type": "stream",
     "text": [
      "             precision    recall  f1-score   support\n",
      "\n",
      "          0       0.68      0.74      0.71       110\n",
      "          1       0.52      0.45      0.48        69\n",
      "\n",
      "avg / total       0.62      0.63      0.62       179\n",
      "\n"
     ]
    }
   ],
   "source": [
    "from sklearn.metrics import classification_report\n",
    "print (classification_report(y_test, mnb.predict(x_test)))"
   ]
  },
  {
   "cell_type": "code",
   "execution_count": 262,
   "metadata": {},
   "outputs": [
    {
     "name": "stdout",
     "output_type": "stream",
     "text": [
      "             precision    recall  f1-score   support\n",
      "\n",
      "          0       0.78      0.81      0.79       110\n",
      "          1       0.68      0.64      0.66        69\n",
      "\n",
      "avg / total       0.74      0.74      0.74       179\n",
      "\n"
     ]
    }
   ],
   "source": [
    "from sklearn.metrics import classification_report\n",
    "print (classification_report(y_test, bnb.predict(x_test)))"
   ]
  },
  {
   "cell_type": "code",
   "execution_count": 263,
   "metadata": {},
   "outputs": [
    {
     "name": "stdout",
     "output_type": "stream",
     "text": [
      "             precision    recall  f1-score   support\n",
      "\n",
      "          0       0.86      0.22      0.35       110\n",
      "          1       0.43      0.94      0.59        69\n",
      "\n",
      "avg / total       0.69      0.50      0.44       179\n",
      "\n"
     ]
    }
   ],
   "source": [
    "from sklearn.metrics import classification_report\n",
    "print (classification_report(y_test, gnb.predict(x_test)))"
   ]
  },
  {
   "cell_type": "markdown",
   "metadata": {},
   "source": [
    "##  ROC Curve\n",
    "\n",
    "#### 다양한 MinMax와 Standard 스케일러가 각각 처리했을때 차이가 있는 지 궁금해서 해봤으나 크게 차이는 없는 듯 하네요.."
   ]
  },
  {
   "cell_type": "code",
   "execution_count": 264,
   "metadata": {},
   "outputs": [
    {
     "name": "stdout",
     "output_type": "stream",
     "text": [
      "MinMaxScaler - LogisticRegression\n",
      "0.765363128492\n",
      "StandardScaler - LogisticRegression\n",
      "0.765363128492\n",
      "MinMaxScaler - MultinomialNB\n",
      "0.776536312849\n",
      "MinMaxScaler - BernoulliNB\n",
      "0.759776536313\n",
      "StandardScaler - BernoulliNB\n",
      "0.798882681564\n",
      "MinMaxScaler - GaussianNB\n",
      "0.497206703911\n",
      "StandardScaler - GaussianNB\n",
      "0.491620111732\n"
     ]
    }
   ],
   "source": [
    "from sklearn.preprocessing import StandardScaler\n",
    "from sklearn.preprocessing import MinMaxScaler\n",
    "from sklearn.linear_model import LogisticRegression\n",
    "from sklearn.ensemble import RandomForestClassifier\n",
    "from sklearn.pipeline import Pipeline\n",
    "\n",
    "pipe_lr = Pipeline(steps=[('scl',MinMaxScaler()), ('clf',LogisticRegression())])\n",
    "pipe_lr.fit(X = x_train, y = y_train)\n",
    "\n",
    "pipe_rf = Pipeline(steps=[('scl',StandardScaler()),('clf',LogisticRegression())])\n",
    "pipe_rf.fit(X=x_train,y=y_train)\n",
    "\n",
    "pipe_mmnb = Pipeline(steps=[('scl',MinMaxScaler()), ('clf',MultinomialNB())])\n",
    "pipe_mmnb.fit(X = x_train, y = y_train)\n",
    "\n",
    "pipe_mbnb = Pipeline(steps=[('scl',MinMaxScaler()),('clf',BernoulliNB())])\n",
    "pipe_mbnb.fit(X=x_train,y=y_train)\n",
    "\n",
    "pipe_sbnb = Pipeline(steps=[('scl',StandardScaler()),('clf',BernoulliNB())])\n",
    "pipe_sbnb.fit(X=x_train,y=y_train)\n",
    "\n",
    "pipe_mgnb = Pipeline(steps=[('scl',MinMaxScaler()),('clf',GaussianNB())])\n",
    "pipe_mgnb.fit(X=x_train,y=y_train)\n",
    "\n",
    "pipe_sgnb = Pipeline(steps=[('scl',StandardScaler()),('clf',GaussianNB())])\n",
    "pipe_sgnb.fit(X=x_train,y=y_train)\n",
    "\n",
    "print (\"MinMaxScaler - LogisticRegression\")\n",
    "print (pipe_lr.score(x_test,y_test))\n",
    "print (\"StandardScaler - LogisticRegression\")\n",
    "print (pipe_rf.score(x_test,y_test))\n",
    "print (\"MinMaxScaler - MultinomialNB\")\n",
    "print (pipe_mmnb.score(x_test,y_test))\n",
    "print (\"MinMaxScaler - BernoulliNB\")\n",
    "print (pipe_mbnb.score(x_test,y_test))\n",
    "print (\"StandardScaler - BernoulliNB\")\n",
    "print (pipe_sbnb.score(x_test,y_test))\n",
    "print (\"MinMaxScaler - GaussianNB\")\n",
    "print (pipe_mgnb.score(x_test,y_test))\n",
    "print (\"StandardScaler - GaussianNB\")\n",
    "print (pipe_sgnb.score(x_test,y_test))"
   ]
  },
  {
   "cell_type": "code",
   "execution_count": 265,
   "metadata": {},
   "outputs": [
    {
     "data": {
      "text/plain": [
       "array([[ 0.32567335,  0.67432665],\n",
       "       [ 0.58177766,  0.41822234],\n",
       "       [ 0.87519939,  0.12480061],\n",
       "       [ 0.33975644,  0.66024356],\n",
       "       [ 0.13194024,  0.86805976],\n",
       "       [ 0.85094107,  0.14905893],\n",
       "       [ 0.07672287,  0.92327713],\n",
       "       [ 0.91448796,  0.08551204],\n",
       "       [ 0.91202263,  0.08797737],\n",
       "       [ 0.08434247,  0.91565753],\n",
       "       [ 0.3431708 ,  0.6568292 ],\n",
       "       [ 0.32332862,  0.67667138],\n",
       "       [ 0.95956295,  0.04043705],\n",
       "       [ 0.91200397,  0.08799603],\n",
       "       [ 0.33330407,  0.66669593],\n",
       "       [ 0.9587427 ,  0.0412573 ],\n",
       "       [ 0.1300161 ,  0.8699839 ],\n",
       "       [ 0.65481885,  0.34518115],\n",
       "       [ 0.06019652,  0.93980348],\n",
       "       [ 0.9004344 ,  0.0995656 ],\n",
       "       [ 0.30996344,  0.69003656],\n",
       "       [ 0.97036713,  0.02963287],\n",
       "       [ 0.19505586,  0.80494414],\n",
       "       [ 0.90678527,  0.09321473],\n",
       "       [ 0.90950687,  0.09049313],\n",
       "       [ 0.90613779,  0.09386221],\n",
       "       [ 0.90628678,  0.09371322],\n",
       "       [ 0.38303345,  0.61696655],\n",
       "       [ 0.05049978,  0.94950022],\n",
       "       [ 0.90778566,  0.09221434],\n",
       "       [ 0.55206385,  0.44793615],\n",
       "       [ 0.91210847,  0.08789153],\n",
       "       [ 0.05128589,  0.94871411],\n",
       "       [ 0.18083975,  0.81916025],\n",
       "       [ 0.74615601,  0.25384399],\n",
       "       [ 0.80764979,  0.19235021],\n",
       "       [ 0.96669062,  0.03330938],\n",
       "       [ 0.72217849,  0.27782151],\n",
       "       [ 0.91152595,  0.08847405],\n",
       "       [ 0.91178692,  0.08821308],\n",
       "       [ 0.82291014,  0.17708986],\n",
       "       [ 0.58065   ,  0.41935   ],\n",
       "       [ 0.05512199,  0.94487801],\n",
       "       [ 0.08811603,  0.91188397],\n",
       "       [ 0.32608205,  0.67391795],\n",
       "       [ 0.53324932,  0.46675068],\n",
       "       [ 0.90694228,  0.09305772],\n",
       "       [ 0.91174319,  0.08825681],\n",
       "       [ 0.19028536,  0.80971464],\n",
       "       [ 0.90926637,  0.09073363],\n",
       "       [ 0.05627628,  0.94372372],\n",
       "       [ 0.33682925,  0.66317075],\n",
       "       [ 0.53650945,  0.46349055],\n",
       "       [ 0.90709948,  0.09290052],\n",
       "       [ 0.90158646,  0.09841354],\n",
       "       [ 0.90558544,  0.09441456],\n",
       "       [ 0.80144392,  0.19855608],\n",
       "       [ 0.85110557,  0.14889443],\n",
       "       [ 0.38675624,  0.61324376],\n",
       "       [ 0.21513581,  0.78486419],\n",
       "       [ 0.90638071,  0.09361929],\n",
       "       [ 0.52230014,  0.47769986],\n",
       "       [ 0.6565022 ,  0.3434978 ],\n",
       "       [ 0.3126003 ,  0.6873997 ],\n",
       "       [ 0.52913607,  0.47086393],\n",
       "       [ 0.84674379,  0.15325621],\n",
       "       [ 0.91636093,  0.08363907],\n",
       "       [ 0.76707708,  0.23292292],\n",
       "       [ 0.83764355,  0.16235645],\n",
       "       [ 0.90724706,  0.09275294],\n",
       "       [ 0.94497876,  0.05502124],\n",
       "       [ 0.9118503 ,  0.0881497 ],\n",
       "       [ 0.82450743,  0.17549257],\n",
       "       [ 0.94790487,  0.05209513],\n",
       "       [ 0.90058982,  0.09941018],\n",
       "       [ 0.6531265 ,  0.3468735 ],\n",
       "       [ 0.82294178,  0.17705822],\n",
       "       [ 0.59886966,  0.40113034],\n",
       "       [ 0.90742995,  0.09257005],\n",
       "       [ 0.04877564,  0.95122436],\n",
       "       [ 0.91117359,  0.08882641],\n",
       "       [ 0.97225426,  0.02774574],\n",
       "       [ 0.58347636,  0.41652364],\n",
       "       [ 0.55098084,  0.44901916],\n",
       "       [ 0.82292596,  0.17707404],\n",
       "       [ 0.81936301,  0.18063699],\n",
       "       [ 0.20106161,  0.79893839],\n",
       "       [ 0.91135299,  0.08864701],\n",
       "       [ 0.67605029,  0.32394971],\n",
       "       [ 0.65557376,  0.34442624],\n",
       "       [ 0.3115947 ,  0.6884053 ],\n",
       "       [ 0.97938911,  0.02061089],\n",
       "       [ 0.91780971,  0.08219029],\n",
       "       [ 0.67255955,  0.32744045],\n",
       "       [ 0.09143101,  0.90856899],\n",
       "       [ 0.82620815,  0.17379185],\n",
       "       [ 0.53519693,  0.46480307],\n",
       "       [ 0.82173633,  0.17826367],\n",
       "       [ 0.90713029,  0.09286971],\n",
       "       [ 0.97128037,  0.02871963],\n",
       "       [ 0.10371151,  0.89628849],\n",
       "       [ 0.07918264,  0.92081736],\n",
       "       [ 0.91011264,  0.08988736],\n",
       "       [ 0.8395126 ,  0.1604874 ],\n",
       "       [ 0.22859552,  0.77140448],\n",
       "       [ 0.90745228,  0.09254772],\n",
       "       [ 0.71061102,  0.28938898],\n",
       "       [ 0.11115997,  0.88884003],\n",
       "       [ 0.81665531,  0.18334469],\n",
       "       [ 0.82857461,  0.17142539],\n",
       "       [ 0.41252144,  0.58747856],\n",
       "       [ 0.50858142,  0.49141858],\n",
       "       [ 0.21649328,  0.78350672],\n",
       "       [ 0.05053759,  0.94946241],\n",
       "       [ 0.16563271,  0.83436729],\n",
       "       [ 0.91138739,  0.08861261],\n",
       "       [ 0.06755199,  0.93244801],\n",
       "       [ 0.90725489,  0.09274511],\n",
       "       [ 0.67872275,  0.32127725],\n",
       "       [ 0.33227374,  0.66772626],\n",
       "       [ 0.95985324,  0.04014676],\n",
       "       [ 0.0537261 ,  0.9462739 ],\n",
       "       [ 0.71580174,  0.28419826],\n",
       "       [ 0.9075491 ,  0.0924509 ],\n",
       "       [ 0.21999594,  0.78000406],\n",
       "       [ 0.8497252 ,  0.1502748 ],\n",
       "       [ 0.82497319,  0.17502681],\n",
       "       [ 0.84746774,  0.15253226],\n",
       "       [ 0.15868703,  0.84131297],\n",
       "       [ 0.33282175,  0.66717825],\n",
       "       [ 0.90841083,  0.09158917],\n",
       "       [ 0.90825716,  0.09174284],\n",
       "       [ 0.9052322 ,  0.0947678 ],\n",
       "       [ 0.18960356,  0.81039644],\n",
       "       [ 0.91805757,  0.08194243],\n",
       "       [ 0.1562306 ,  0.8437694 ],\n",
       "       [ 0.58609315,  0.41390685],\n",
       "       [ 0.14494048,  0.85505952],\n",
       "       [ 0.83746262,  0.16253738],\n",
       "       [ 0.90144188,  0.09855812],\n",
       "       [ 0.13093173,  0.86906827],\n",
       "       [ 0.90586561,  0.09413439],\n",
       "       [ 0.82486845,  0.17513155],\n",
       "       [ 0.91099685,  0.08900315],\n",
       "       [ 0.67747524,  0.32252476],\n",
       "       [ 0.91218705,  0.08781295],\n",
       "       [ 0.9091791 ,  0.0908209 ],\n",
       "       [ 0.36344032,  0.63655968],\n",
       "       [ 0.67659062,  0.32340938],\n",
       "       [ 0.67796277,  0.32203723],\n",
       "       [ 0.32746353,  0.67253647],\n",
       "       [ 0.33871523,  0.66128477],\n",
       "       [ 0.14032953,  0.85967047],\n",
       "       [ 0.89382385,  0.10617615],\n",
       "       [ 0.90486754,  0.09513246],\n",
       "       [ 0.32355171,  0.67644829],\n",
       "       [ 0.18738964,  0.81261036],\n",
       "       [ 0.9066642 ,  0.0933358 ],\n",
       "       [ 0.3352786 ,  0.6647214 ],\n",
       "       [ 0.11134446,  0.88865554],\n",
       "       [ 0.73343695,  0.26656305],\n",
       "       [ 0.90625237,  0.09374763],\n",
       "       [ 0.82175732,  0.17824268],\n",
       "       [ 0.54044022,  0.45955978],\n",
       "       [ 0.91612775,  0.08387225],\n",
       "       [ 0.22871383,  0.77128617],\n",
       "       [ 0.80662763,  0.19337237],\n",
       "       [ 0.17856235,  0.82143765],\n",
       "       [ 0.8394241 ,  0.1605759 ],\n",
       "       [ 0.36805037,  0.63194963],\n",
       "       [ 0.91127915,  0.08872085],\n",
       "       [ 0.07418875,  0.92581125],\n",
       "       [ 0.81876141,  0.18123859],\n",
       "       [ 0.58080931,  0.41919069],\n",
       "       [ 0.16406049,  0.83593951],\n",
       "       [ 0.11337748,  0.88662252],\n",
       "       [ 0.22182315,  0.77817685],\n",
       "       [ 0.44377994,  0.55622006],\n",
       "       [ 0.82101956,  0.17898044]])"
      ]
     },
     "execution_count": 265,
     "metadata": {},
     "output_type": "execute_result"
    }
   ],
   "source": [
    "#왼쪽은 파산이 안날 확률 오른쪽은 1일 확률\n",
    "pipe_lr.predict_proba(x_test)"
   ]
  },
  {
   "cell_type": "code",
   "execution_count": 266,
   "metadata": {
    "collapsed": true
   },
   "outputs": [],
   "source": [
    "#1일 확률만 필요하니까 뽑는 것.\n",
    "pipe_lr_scores = pipe_lr.predict_proba(x_test)[:,1]\n",
    "pipe_rf_scores = pipe_rf.predict_proba(x_test)[:,1]\n",
    "pipe_mmnb_scores = pipe_mmnb.predict_proba(x_test)[:,1]\n",
    "pipe_mbnb_scores = pipe_mbnb.predict_proba(x_test)[:,1]\n",
    "pipe_sbnb_scores = pipe_sbnb.predict_proba(x_test)[:,1]\n",
    "pipe_mgnb_scores = pipe_mgnb.predict_proba(x_test)[:,1]\n",
    "pipe_sgnb_scores = pipe_sgnb.predict_proba(x_test)[:,1]\n",
    "\n",
    "y_real = y_test"
   ]
  },
  {
   "cell_type": "code",
   "execution_count": 267,
   "metadata": {
    "collapsed": true
   },
   "outputs": [],
   "source": [
    "from sklearn.metrics import roc_curve\n",
    "from sklearn.metrics import roc_auc_score\n",
    "\n",
    "# pipe_lr_scores Predict\n",
    "scores= pipe_lr.predict_proba(x_test)[:,1]\n",
    "fpr_lr, tpr_lr, thresholds = roc_curve(y_real, scores)\n",
    "roc_auc_lr = roc_auc_score(y_real,scores)\n",
    "\n",
    "# pipe_rf_scores Predict\n",
    "scores= pipe_rf.predict_proba(x_test)[:,1]\n",
    "fpr_rf, tpr_rf, thresholds = roc_curve(y_real, scores)\n",
    "roc_auc_rf = roc_auc_score(y_real,scores)\n",
    "\n",
    "# pipe_mmnb_scores Predict\n",
    "scores= pipe_mmnb.predict_proba(x_test)[:,1]\n",
    "fpr_rf, tpr_rf, thresholds = roc_curve(y_real, scores)\n",
    "roc_auc_mmnb = roc_auc_score(y_real,scores)\n",
    "\n",
    "# pipe_mbnb_scores Predict\n",
    "scores= pipe_mbnb.predict_proba(x_test)[:,1]\n",
    "fpr_rf, tpr_rf, thresholds = roc_curve(y_real, scores)\n",
    "roc_auc_mbnb = roc_auc_score(y_real,scores)\n",
    "\n",
    "# pipe_sbnb_scores Predict\n",
    "scores= pipe_sbnb.predict_proba(x_test)[:,1]\n",
    "fpr_rf, tpr_rf, thresholds = roc_curve(y_real, scores)\n",
    "roc_auc_sbnb = roc_auc_score(y_real,scores)\n",
    "\n",
    "# pipe_mgnb_scores Predict\n",
    "scores= pipe_mgnb.predict_proba(x_test)[:,1]\n",
    "fpr_rf, tpr_rf, thresholds = roc_curve(y_real, scores)\n",
    "roc_auc_mgnb = roc_auc_score(y_real,scores)\n",
    "\n",
    "# pipe_sgnb_scores Predict\n",
    "scores= pipe_sgnb.predict_proba(x_test)[:,1]\n",
    "fpr_rf, tpr_rf, thresholds = roc_curve(y_real, scores)\n",
    "roc_auc_sgnb = roc_auc_score(y_real,scores)\n"
   ]
  },
  {
   "cell_type": "code",
   "execution_count": 268,
   "metadata": {},
   "outputs": [
    {
     "data": {
      "image/png": "[encoded data removed]",
      "text/plain": [
       "<matplotlib.figure.Figure at 0x145df511b38>"
      ]
     },
     "metadata": {},
     "output_type": "display_data"
    }
   ],
   "source": [
    "import matplotlib.pyplot as plt\n",
    "\n",
    "plt.figure()\n",
    "lw=0.3\n",
    "plt.plot(fpr_lr, tpr_lr, color='green',lw=lw,label='ROC curve(area=%0.2f)' %roc_auc_lr)\n",
    "plt.plot(fpr_lr, tpr_lr, color='yellow',lw=lw,label='ROC curve(area=%0.2f)' %roc_auc_mmnb)\n",
    "plt.plot(fpr_lr, tpr_lr, color='cyan',lw=lw,label='ROC curve(area=%0.2f)' %roc_auc_mbnb)\n",
    "plt.plot(fpr_lr, tpr_lr, color='magenta',lw=lw,label='ROC curve(area=%0.2f)' %roc_auc_sbnb)\n",
    "plt.plot(fpr_lr, tpr_lr, color='black',lw=lw,label='ROC curve(area=%0.2f)' %roc_auc_mgnb)\n",
    "plt.plot(fpr_lr, tpr_lr, color='yellow',lw=lw,label='ROC curve(area=%0.2f)' %roc_auc_sgnb)\n",
    "plt.plot(fpr_rf, tpr_rf, color='red',lw=lw,label='ROC curve of class {0} (area = {1:02f})' ''.format(\"rf\",roc_auc_rf))\n",
    "\n",
    "\n",
    "plt.plot([0,1],[0,1], color='navy', lw=lw, linestyle = '--')\n",
    "plt.xlim([0.0,1.0])\n",
    "plt.ylim([0.0,1.05])\n",
    "plt.xlabel('False Positive Rate')\n",
    "plt.ylabel('True Positive Rate')\n",
    "plt.title('Receiver operating characteristic example')\n",
    "plt.legend(loc='lower right')\n",
    "plt.show()"
   ]
  }
 ],
 "metadata": {
  "kernelspec": {
   "display_name": "Python 3",
   "language": "python",
   "name": "python3"
  },
  "language_info": {
   "codemirror_mode": {
    "name": "ipython",
    "version": 3
   },
   "file_extension": ".py",
   "mimetype": "text/x-python",
   "name": "python",
   "nbconvert_exporter": "python",
   "pygments_lexer": "ipython3",
   "version": "3.6.5"
  }
 },
 "nbformat": 4,
 "nbformat_minor": 2
}
