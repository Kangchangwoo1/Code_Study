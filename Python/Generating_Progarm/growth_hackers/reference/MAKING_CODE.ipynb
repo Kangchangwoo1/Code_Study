{
 "cells": [
  {
   "cell_type": "code",
   "execution_count": 660,
   "metadata": {},
   "outputs": [],
   "source": [
    "#패키지 불러오기\n",
    "from sklearn.datasets import load_boston\n",
    "import matplotlib.pyplot as plt\n",
    "import numpy as np\n",
    "import pandas as pd\n",
    "from sklearn import  linear_model\n",
    "from sklearn import  preprocessing\n",
    "from pandas.plotting import scatter_matrix\n",
    "\n",
    "#데이터 프레임 정의\n",
    "df_data = pd.read_csv('./Boston_data/train.csv', header = 'infer')\n",
    "sample_df = pd.read_csv('./Boston_data/sample_submission.csv', header = 'infer')\n",
    "test_df = pd.read_csv('./Boston_data/test.csv', header = 'infer') "
   ]
  },
  {
   "cell_type": "code",
   "execution_count": 661,
   "metadata": {
    "collapsed": true
   },
   "outputs": [],
   "source": [
    "# Y값 따로 정리\n",
    "target_df = df_data['SalePrice'] \n",
    "del df_data['SalePrice']"
   ]
  },
  {
   "cell_type": "code",
   "execution_count": 662,
   "metadata": {},
   "outputs": [
    {
     "data": {
      "text/plain": [
       "((1460, 80), (1459, 2), (1459, 80))"
      ]
     },
     "execution_count": 662,
     "metadata": {},
     "output_type": "execute_result"
    }
   ],
   "source": [
    "df_data.shape  , sample_df.shape, test_df.shape"
   ]
  },
  {
   "cell_type": "code",
   "execution_count": 663,
   "metadata": {},
   "outputs": [],
   "source": [
    "all_df = pd.concat([df_data, test_df]) # .sort_values(ascending=False) .sum()"
   ]
  },
  {
   "cell_type": "code",
   "execution_count": 664,
   "metadata": {},
   "outputs": [
    {
     "data": {
      "text/plain": [
       "(2919, 80)"
      ]
     },
     "execution_count": 664,
     "metadata": {},
     "output_type": "execute_result"
    }
   ],
   "source": [
    "all_df.shape"
   ]
  },
  {
   "cell_type": "code",
   "execution_count": 665,
   "metadata": {},
   "outputs": [
    {
     "data": {
      "text/plain": [
       "PoolQC         99.657417\n",
       "MiscFeature    96.402878\n",
       "Alley          93.216855\n",
       "Fence          80.438506\n",
       "FireplaceQu    48.646797\n",
       "dtype: float64"
      ]
     },
     "execution_count": 665,
     "metadata": {},
     "output_type": "execute_result"
    }
   ],
   "source": [
    "# 결측률 측정\n",
    "((all_df.isnull().sum() / all_df.isnull().count())*100).sort_values(ascending=False).head()"
   ]
  },
  {
   "cell_type": "code",
   "execution_count": 666,
   "metadata": {},
   "outputs": [],
   "source": [
    "# df_data 내에 목표치인 'SalePrice'과 단순 인덱스인 'Id' 그리고 nan 값이 너무 컸던 컬럼 제거\n",
    "del all_df['Id']\n",
    "del all_df['PoolQC']\n",
    "del all_df['MiscFeature']\n",
    "del all_df['Alley']\n",
    "del all_df['Fence']\n",
    "del all_df['FireplaceQu']"
   ]
  },
  {
   "cell_type": "code",
   "execution_count": 667,
   "metadata": {},
   "outputs": [],
   "source": [
    "## 오브젝트형태의 데이터와 아닌 데이터를 분류하여 결측치 별개 처리 // 각 평균, 최빈값은 각기 missing_values 딕셔너리에 저장하여 보관\n",
    "\n",
    "missing_values = {} \n",
    "for column_name in all_df.columns:\n",
    "    if all_df[column_name].dtypes == \"object\":\n",
    "        mode_value = all_df[column_name].value_counts()[0]    #  오브젝트 데이터이기 때문에 해당 컬럼의 최빈값으로 편성\n",
    "        missing_values[column_name] = mode_value\n",
    "        all_df[column_name] = all_df[column_name].fillna(mode_value)\n",
    "    else:\n",
    "        mean_value = all_df[column_name].mean()  #수치기 떄문에 해당 컬럼의 평균값으로 대체\n",
    "        missing_values[column_name] = mean_value\n",
    "        all_df[column_name] = all_df[column_name].fillna(mean_value)"
   ]
  },
  {
   "cell_type": "markdown",
   "metadata": {},
   "source": [
    "# 추가"
   ]
  },
  {
   "cell_type": "code",
   "execution_count": 668,
   "metadata": {
    "collapsed": true
   },
   "outputs": [],
   "source": [
    "def seperate_type(df):\n",
    "    dtypes = df.dtypes\n",
    "    numerical = [df.columns[idx] for idx, _ in enumerate(dtypes) if dtypes[idx] != object]\n",
    "    category = [df.columns[idx] for idx, _ in enumerate(dtypes) if dtypes[idx] == object]\n",
    "    \n",
    "    return numerical, category\n",
    "\n",
    "numerical_feature = seperate_type(all_df)[0]\n",
    "category_feature = seperate_type(all_df)[1]"
   ]
  },
  {
   "cell_type": "code",
   "execution_count": 669,
   "metadata": {},
   "outputs": [
    {
     "data": {
      "text/plain": [
       "['MSSubClass',\n",
       " 'LotFrontage',\n",
       " 'LotArea',\n",
       " 'OverallQual',\n",
       " 'OverallCond',\n",
       " 'YearBuilt',\n",
       " 'YearRemodAdd',\n",
       " 'MasVnrArea',\n",
       " 'BsmtFinSF1',\n",
       " 'BsmtFinSF2',\n",
       " 'BsmtUnfSF',\n",
       " 'TotalBsmtSF',\n",
       " '1stFlrSF',\n",
       " '2ndFlrSF',\n",
       " 'LowQualFinSF',\n",
       " 'GrLivArea',\n",
       " 'BsmtFullBath',\n",
       " 'BsmtHalfBath',\n",
       " 'FullBath',\n",
       " 'HalfBath',\n",
       " 'BedroomAbvGr',\n",
       " 'KitchenAbvGr',\n",
       " 'TotRmsAbvGrd',\n",
       " 'Fireplaces',\n",
       " 'GarageYrBlt',\n",
       " 'GarageCars',\n",
       " 'GarageArea',\n",
       " 'WoodDeckSF',\n",
       " 'OpenPorchSF',\n",
       " 'EnclosedPorch',\n",
       " '3SsnPorch',\n",
       " 'ScreenPorch',\n",
       " 'PoolArea',\n",
       " 'MiscVal',\n",
       " 'MoSold',\n",
       " 'YrSold']"
      ]
     },
     "execution_count": 669,
     "metadata": {},
     "output_type": "execute_result"
    }
   ],
   "source": [
    "numerical_feature"
   ]
  },
  {
   "cell_type": "code",
   "execution_count": 670,
   "metadata": {},
   "outputs": [
    {
     "data": {
      "text/plain": [
       "OverallQual      0.387199\n",
       "GrLivArea        0.371790\n",
       "TotalBsmtSF      0.322925\n",
       "GarageCars       0.322363\n",
       "GarageArea       0.320355\n",
       "1stFlrSF         0.302698\n",
       "FullBath         0.289523\n",
       "TotRmsAbvGrd     0.285441\n",
       "YearBuilt        0.276095\n",
       "YearRemodAdd     0.262294\n",
       "Fireplaces       0.255804\n",
       "GarageYrBlt      0.251269\n",
       "MasVnrArea       0.230320\n",
       "BsmtFinSF1       0.195104\n",
       "LotArea          0.178802\n",
       "WoodDeckSF       0.171967\n",
       "LotFrontage      0.170388\n",
       "2ndFlrSF         0.164464\n",
       "OpenPorchSF      0.160202\n",
       "HalfBath         0.151402\n",
       "BsmtUnfSF        0.128485\n",
       "BsmtFullBath     0.121601\n",
       "BedroomAbvGr     0.096905\n",
       "EnclosedPorch    0.075003\n",
       "ScreenPorch      0.071186\n",
       "KitchenAbvGr     0.061826\n",
       "PoolArea         0.054391\n",
       "MoSold           0.037384\n",
       "OverallCond      0.037003\n",
       "MSSubClass       0.030953\n",
       "LowQualFinSF     0.024322\n",
       "3SsnPorch        0.020964\n",
       "BsmtFinSF2       0.017919\n",
       "MiscVal          0.011403\n",
       "YrSold           0.010297\n",
       "BsmtHalfBath     0.004534\n",
       "dtype: float64"
      ]
     },
     "execution_count": 670,
     "metadata": {},
     "output_type": "execute_result"
    }
   ],
   "source": [
    "abs(all_df[numerical_feature].corrwith(target_df)).sort_values(ascending=False)\n",
    "# 3SsnPorch        0.020964\n",
    "# BsmtFinSF2       0.017919\n",
    "# MiscVal          0.011403\n",
    "# YrSold           0.010297\n",
    "# BsmtHalfBath     0.004534"
   ]
  },
  {
   "cell_type": "code",
   "execution_count": 671,
   "metadata": {},
   "outputs": [
    {
     "data": {
      "text/html": [
       "<div>\n",
       "<style>\n",
       "    .dataframe thead tr:only-child th {\n",
       "        text-align: right;\n",
       "    }\n",
       "\n",
       "    .dataframe thead th {\n",
       "        text-align: left;\n",
       "    }\n",
       "\n",
       "    .dataframe tbody tr th {\n",
       "        vertical-align: top;\n",
       "    }\n",
       "</style>\n",
       "<table border=\"1\" class=\"dataframe\">\n",
       "  <thead>\n",
       "    <tr style=\"text-align: right;\">\n",
       "      <th></th>\n",
       "      <th>BsmtFinSF1</th>\n",
       "      <th>BsmtFinSF2</th>\n",
       "      <th>BsmtUnfSF</th>\n",
       "      <th>TotalBsmtSF</th>\n",
       "    </tr>\n",
       "  </thead>\n",
       "  <tbody>\n",
       "    <tr>\n",
       "      <th>0</th>\n",
       "      <td>706.0</td>\n",
       "      <td>0.0</td>\n",
       "      <td>150.0</td>\n",
       "      <td>856.0</td>\n",
       "    </tr>\n",
       "    <tr>\n",
       "      <th>1</th>\n",
       "      <td>978.0</td>\n",
       "      <td>0.0</td>\n",
       "      <td>284.0</td>\n",
       "      <td>1262.0</td>\n",
       "    </tr>\n",
       "    <tr>\n",
       "      <th>2</th>\n",
       "      <td>486.0</td>\n",
       "      <td>0.0</td>\n",
       "      <td>434.0</td>\n",
       "      <td>920.0</td>\n",
       "    </tr>\n",
       "    <tr>\n",
       "      <th>3</th>\n",
       "      <td>216.0</td>\n",
       "      <td>0.0</td>\n",
       "      <td>540.0</td>\n",
       "      <td>756.0</td>\n",
       "    </tr>\n",
       "    <tr>\n",
       "      <th>4</th>\n",
       "      <td>655.0</td>\n",
       "      <td>0.0</td>\n",
       "      <td>490.0</td>\n",
       "      <td>1145.0</td>\n",
       "    </tr>\n",
       "  </tbody>\n",
       "</table>\n",
       "</div>"
      ],
      "text/plain": [
       "   BsmtFinSF1  BsmtFinSF2  BsmtUnfSF  TotalBsmtSF\n",
       "0       706.0         0.0      150.0        856.0\n",
       "1       978.0         0.0      284.0       1262.0\n",
       "2       486.0         0.0      434.0        920.0\n",
       "3       216.0         0.0      540.0        756.0\n",
       "4       655.0         0.0      490.0       1145.0"
      ]
     },
     "execution_count": 671,
     "metadata": {},
     "output_type": "execute_result"
    }
   ],
   "source": [
    "all_df[['BsmtFinSF1','BsmtFinSF2', 'BsmtUnfSF', 'TotalBsmtSF']].head()"
   ]
  },
  {
   "cell_type": "code",
   "execution_count": 672,
   "metadata": {},
   "outputs": [
    {
     "data": {
      "image/png": "[encoded data removed]",
      "text/plain": [
       "<matplotlib.figure.Figure at 0x1ccf9b6b4e0>"
      ]
     },
     "metadata": {},
     "output_type": "display_data"
    }
   ],
   "source": [
    "all_df[numerical_feature].corrwith(target_df).sort_values(ascending=False).plot(kind='barh') #barh : 가로로 뻗은 막대그래프\n",
    "plt.title('Correlation SalePrice and other numerical datas')\n",
    "plt.ylabel('Column name')\n",
    "plt.xlabel('Correlation')\n",
    "\n",
    "plt.show()"
   ]
  },
  {
   "cell_type": "code",
   "execution_count": 673,
   "metadata": {
    "scrolled": true
   },
   "outputs": [],
   "source": [
    "# * 1stFlrSF + '2ndFlrSF' -> TotalFlrSF\n",
    "# * OpenPorchSF + EnclosedPorch + 3SsnPorch + ScreenPorch -> TotalPorchSF\n",
    "# * TotalBsmtSF의 경우 BsmtFinSF1 + BsmtFinSF2 + BsmtUnfSF 이므로 BsmtFinSF1, BsmtFinSF2, BsmtUnfSF 삭제\n",
    "\n",
    "# del all_df['1stFlrSF']\n",
    "# del all_df['2ndFlrSF']\n",
    "# del all_df['BsmtFinSF1']\n",
    "# del all_df['BsmtFinSF2']\n",
    "# del all_df['BsmtUnfSF']\n",
    "# del all_df['EnclosedPorch']\n",
    "# del all_df['OpenPorchSF']\n",
    "# del all_df['3SsnPorch']\n",
    "# del all_df['ScreenPorch']"
   ]
  },
  {
   "cell_type": "code",
   "execution_count": null,
   "metadata": {},
   "outputs": [],
   "source": []
  },
  {
   "cell_type": "code",
   "execution_count": 674,
   "metadata": {},
   "outputs": [
    {
     "data": {
      "text/plain": [
       "(2919, 74)"
      ]
     },
     "execution_count": 674,
     "metadata": {},
     "output_type": "execute_result"
    }
   ],
   "source": [
    "all_df.shape"
   ]
  },
  {
   "cell_type": "code",
   "execution_count": 675,
   "metadata": {},
   "outputs": [
    {
     "ename": "SyntaxError",
     "evalue": "invalid syntax (<ipython-input-675-ebc2758a7b70>, line 1)",
     "output_type": "error",
     "traceback": [
      "\u001b[1;36m  File \u001b[1;32m\"<ipython-input-675-ebc2758a7b70>\"\u001b[1;36m, line \u001b[1;32m1\u001b[0m\n\u001b[1;33m    df_data  target_df\u001b[0m\n\u001b[1;37m                     ^\u001b[0m\n\u001b[1;31mSyntaxError\u001b[0m\u001b[1;31m:\u001b[0m invalid syntax\n"
     ]
    }
   ],
   "source": [
    " df_data  target_df"
   ]
  },
  {
   "cell_type": "code",
   "execution_count": 676,
   "metadata": {},
   "outputs": [
    {
     "data": {
      "text/plain": [
       "array([208500, 181500, 223500, ..., 266500, 142125, 147500], dtype=int64)"
      ]
     },
     "execution_count": 676,
     "metadata": {},
     "output_type": "execute_result"
    }
   ],
   "source": [
    "target_df.values"
   ]
  },
  {
   "cell_type": "code",
   "execution_count": null,
   "metadata": {
    "collapsed": true
   },
   "outputs": [],
   "source": []
  },
  {
   "cell_type": "code",
   "execution_count": 677,
   "metadata": {
    "scrolled": true
   },
   "outputs": [
    {
     "data": {
      "text/plain": [
       "((1460, 74), (1460,))"
      ]
     },
     "execution_count": 677,
     "metadata": {},
     "output_type": "execute_result"
    }
   ],
   "source": [
    "all_df.iloc[:1460].shape , target_df.shape"
   ]
  },
  {
   "cell_type": "code",
   "execution_count": 678,
   "metadata": {},
   "outputs": [],
   "source": [
    "test = all_df.iloc[:1460]\n"
   ]
  },
  {
   "cell_type": "code",
   "execution_count": 679,
   "metadata": {
    "scrolled": false
   },
   "outputs": [],
   "source": [
    "# numerical_feature = seperate_type(all_df)[0]\n",
    "# analysis_data = pd.concat(all_df.iloc[:1460]  , target_df)\n",
    "\n",
    "analysis_data = pd.concat([test , target_df], axis=1)"
   ]
  },
  {
   "cell_type": "code",
   "execution_count": 680,
   "metadata": {},
   "outputs": [
    {
     "data": {
      "text/plain": [
       "(1460, 75)"
      ]
     },
     "execution_count": 680,
     "metadata": {},
     "output_type": "execute_result"
    }
   ],
   "source": [
    "analysis_data.shape"
   ]
  },
  {
   "cell_type": "code",
   "execution_count": 681,
   "metadata": {},
   "outputs": [],
   "source": [
    "# numerical_feature = seperate_type(Big_X_copy)[0]\n",
    "# analysis_data = pd.concat([Big_X_copy[numerical_feature][0:train_df.shape[0]], train_df['SalePrice']], axis=1)\n",
    "# corr_price_and_other = pd.DataFrame(analysis_data.loc[:,:'Evaluate_Lot'].corrwith(analysis_data['SalePrice']).sort_values(ascending=False),\n",
    "#                                    columns=['Correlation'])\n",
    "# sns.heatmap(analysis_data.corr())\n",
    "# plt.title('Correlation heatmap(Target With Numerical Datas)')\n",
    "# plt.show()\n"
   ]
  },
  {
   "cell_type": "code",
   "execution_count": 682,
   "metadata": {},
   "outputs": [],
   "source": [
    "all_df.loc[:, 'ExterQual'] = all_df.loc[:, 'ExterQual'].replace({'Ex' : 5, 'Gd' : 4, 'TA' : 3, 'Fa' : 2, 'Po' : 1})\n",
    "# all_df.loc[:, 'ExterCond'] = all_df.loc[:, 'ExterCond'].replace({'Ex' : 5, 'Gd' : 4, 'TA' : 3, 'Fa' : 2, 'Po' : 1})\n",
    "all_df.loc[:, 'BsmtQual'] = all_df.loc[:, 'BsmtQual'].replace({'Ex' : 5, 'Gd' : 4, 'TA' : 3, 'Fa' : 2, 'Po' : 1, 'NE' : 0})\n",
    "all_df.loc[:, 'BsmtCond'] = all_df.loc[:, 'BsmtCond'].replace({'Ex' : 5, 'Gd' : 4, 'TA' : 3, 'Fa' : 2, 'Po' : 1, 'NE' : 0})\n",
    "all_df.loc[:, 'HeatingQC'] = all_df.loc[:, 'HeatingQC'].replace({'Ex' : 5, 'Gd' : 4, 'TA' : 3, 'Fa' : 2, 'Po' : 1})\n",
    "all_df.loc[:, 'KitchenQual'] = all_df.loc[:, 'KitchenQual'].replace({'Ex' : 5, 'Gd' : 4, 'TA' : 3, 'Fa' : 2, 'Po' : 1})\n",
    "# all_df.loc[:, 'FireplaceQu'] = all_df.loc[:, 'FireplaceQu'].replace({'Ex' : 5, 'Gd' : 4, 'TA' : 3, 'Fa' : 2, 'Po' : 1, 'NE' : 0})\n",
    "all_df.loc[:, 'GarageFinish'] = all_df.loc[:, 'GarageFinish'].replace({'Fin' : 5, 'RFn' : 3, 'Unf' : 1, 'NE' : 0})\n",
    "all_df.loc[:, 'GarageQual'] = all_df.loc[:, 'GarageQual'].replace({'Ex' : 5, 'Gd' : 4, 'TA' : 3, 'Fa' : 2, 'Po' : 1, 'NE' : 0})\n",
    "all_df.loc[:, 'GarageCond'] = all_df.loc[:, 'GarageCond'].replace({'Ex' : 5, 'Gd' : 4, 'TA' : 3, 'Fa' : 2, 'Po' : 1, 'NE' : 0})\n",
    "all_df.loc[:, 'Electrical'] = all_df.loc[:, 'Electrical'].replace({'SBrkr' : 5, 'FuseA' : 4, 'FuseF' : 3, 'Mix': 2, 'FuseP' : 1})\n",
    "all_df.loc[:, 'LandSlope'] = all_df.loc[:, 'LandSlope'].replace({'Gtl' : 5, 'Mod' : 3, 'Sev' : 1})\n",
    "all_df.loc[:, 'LandContour'] = all_df.loc[:, 'LandContour'].replace({'Lvl' : 5, 'Bnk' : 3, 'HLS' : 2, 'Low' : 1})\n",
    "all_df.loc[:, 'BsmtExposure'] = all_df.loc[:, 'BsmtExposure'].replace({'Gd' : 4, 'Av' : 3, 'Mn' : 2, 'No' : 1, 'NE' : 0 })\n",
    "all_df.loc[:, 'BsmtFinType1'] = all_df.loc[:, 'BsmtFinType1'].replace({'GLQ' : 6, 'ALQ' : 5, 'BLQ' : 4, 'Rec' : 3,\n",
    "                                                                               'LwQ' : 2, 'Unf' : 1, 'NE' : 0})\n",
    "all_df.loc[:, 'BsmtFinType2'] = all_df.loc[:, 'BsmtFinType2'].replace({'GLQ' : 6, 'ALQ' : 5, 'BLQ' : 4, 'Rec' : 3,\n",
    "                                                                               'LwQ' : 2, 'Unf' : 1, 'NE' : 0})\n",
    "all_df.loc[:, 'LotShape'] = all_df.loc[:, 'LotShape'].replace({'Reg' : 4, 'IR1' : 3, 'IR2' : 2, 'IR3' : 1})"
   ]
  },
  {
   "cell_type": "code",
   "execution_count": 683,
   "metadata": {
    "collapsed": true
   },
   "outputs": [],
   "source": [
    "del all_df['ExterCond']\n",
    "del all_df['OverallCond']\n",
    "del all_df['LowQualFinSF']\n",
    "del all_df['MoSold']\n",
    "del all_df['YrSold']\n",
    "del all_df['BsmtHalfBath']"
   ]
  },
  {
   "cell_type": "code",
   "execution_count": 684,
   "metadata": {},
   "outputs": [],
   "source": [
    "numerical_feature = seperate_type(all_df)[0]\n",
    "category_feature = seperate_type(all_df)[1]"
   ]
  },
  {
   "cell_type": "code",
   "execution_count": null,
   "metadata": {
    "collapsed": true
   },
   "outputs": [],
   "source": []
  },
  {
   "cell_type": "code",
   "execution_count": 685,
   "metadata": {
    "collapsed": true
   },
   "outputs": [],
   "source": [
    "minmax_scale= preprocessing.MinMaxScaler()\n",
    "OneHot_encode= preprocessing.OneHotEncoder()"
   ]
  },
  {
   "cell_type": "code",
   "execution_count": 686,
   "metadata": {},
   "outputs": [],
   "source": [
    "A= minmax_scale.fit(all_df[numerical_feature])\n",
    "# B= OneHot_encode.fit(all_df[category_feature])\n",
    "# df_minmax = minmax_scale.transform(sum_pd[sum_pd.columns])"
   ]
  },
  {
   "cell_type": "code",
   "execution_count": 687,
   "metadata": {},
   "outputs": [],
   "source": [
    "minmax = preprocessing.MinMaxScaler()\n",
    "train_X_mm = minmax.fit_transform(all_df[numerical_feature])\n",
    "train_X_mm_df = pd.DataFrame(train_X_mm, columns=all_df[numerical_feature].columns, index=all_df[numerical_feature].index)\n",
    "# train_X_fin = pd.concat([train_X_mm_df, train_X_ca], axis=1)\n",
    "# train_X_fin.index = range(len(train_X))"
   ]
  },
  {
   "cell_type": "code",
   "execution_count": 688,
   "metadata": {
    "scrolled": true
   },
   "outputs": [
    {
     "ename": "AttributeError",
     "evalue": "'MinMaxScaler' object has no attribute 'columns'",
     "output_type": "error",
     "traceback": [
      "\u001b[1;31m---------------------------------------------------------------------------\u001b[0m",
      "\u001b[1;31mAttributeError\u001b[0m                            Traceback (most recent call last)",
      "\u001b[1;32m<ipython-input-688-974fcb2d23a8>\u001b[0m in \u001b[0;36m<module>\u001b[1;34m()\u001b[0m\n\u001b[1;32m----> 1\u001b[1;33m \u001b[0mminmax_scale_df\u001b[0m \u001b[1;33m=\u001b[0m \u001b[0mpd\u001b[0m\u001b[1;33m.\u001b[0m\u001b[0mDataFrame\u001b[0m\u001b[1;33m(\u001b[0m\u001b[0mA\u001b[0m\u001b[1;33m,\u001b[0m \u001b[0mcolumns\u001b[0m\u001b[1;33m=\u001b[0m \u001b[0mA\u001b[0m\u001b[1;33m.\u001b[0m\u001b[0mcolumns\u001b[0m\u001b[1;33m,\u001b[0m \u001b[0mindex\u001b[0m\u001b[1;33m=\u001b[0m\u001b[0mtrain_X_nu\u001b[0m\u001b[1;33m.\u001b[0m\u001b[0mindex\u001b[0m\u001b[1;33m)\u001b[0m\u001b[1;33m\u001b[0m\u001b[0m\n\u001b[0m\u001b[0;32m      2\u001b[0m \u001b[1;31m# OneHot_encode_df = pd.DataFrame(B, columns=train_X_nu.columns, index=train_X_nu.index)\u001b[0m\u001b[1;33m\u001b[0m\u001b[1;33m\u001b[0m\u001b[0m\n\u001b[0;32m      3\u001b[0m \u001b[1;31m# minmax = MinMaxScaler()\u001b[0m\u001b[1;33m\u001b[0m\u001b[1;33m\u001b[0m\u001b[0m\n\u001b[0;32m      4\u001b[0m \u001b[1;31m# train_X_mm = minmax.fit_transform(train_X_nu)\u001b[0m\u001b[1;33m\u001b[0m\u001b[1;33m\u001b[0m\u001b[0m\n\u001b[0;32m      5\u001b[0m \u001b[1;31m# train_X_mm_df = pd.DataFrame(train_X_mm, columns=train_X_nu.columns, index=train_X_nu.index)\u001b[0m\u001b[1;33m\u001b[0m\u001b[1;33m\u001b[0m\u001b[0m\n",
      "\u001b[1;31mAttributeError\u001b[0m: 'MinMaxScaler' object has no attribute 'columns'"
     ]
    }
   ],
   "source": [
    "minmax_scale_df = pd.DataFrame(A, columns= A.columns, index=train_X_nu.index)\n",
    "# OneHot_encode_df = pd.DataFrame(B, columns=train_X_nu.columns, index=train_X_nu.index)\n",
    "# minmax = MinMaxScaler()\n",
    "# train_X_mm = minmax.fit_transform(train_X_nu)\n",
    "# train_X_mm_df = pd.DataFrame(train_X_mm, columns=train_X_nu.columns, index=train_X_nu.index)"
   ]
  },
  {
   "cell_type": "code",
   "execution_count": 689,
   "metadata": {},
   "outputs": [
    {
     "data": {
      "text/plain": [
       "((2919, 46), (2919, 46))"
      ]
     },
     "execution_count": 689,
     "metadata": {},
     "output_type": "execute_result"
    }
   ],
   "source": [
    "train_X_mm_df.shape, all_df[numerical_feature].shape"
   ]
  },
  {
   "cell_type": "code",
   "execution_count": 690,
   "metadata": {
    "scrolled": true
   },
   "outputs": [],
   "source": [
    "all_df = pd.concat([train_X_mm_df  , all_df[numerical_feature]], axis= 1)"
   ]
  },
  {
   "cell_type": "code",
   "execution_count": 691,
   "metadata": {},
   "outputs": [
    {
     "data": {
      "text/plain": [
       "['MSSubClass',\n",
       " 'LotFrontage',\n",
       " 'LotArea',\n",
       " 'LotShape',\n",
       " 'LandContour',\n",
       " 'LandSlope',\n",
       " 'OverallQual',\n",
       " 'YearBuilt',\n",
       " 'YearRemodAdd',\n",
       " 'MasVnrArea',\n",
       " 'ExterQual',\n",
       " 'BsmtQual',\n",
       " 'BsmtCond',\n",
       " 'BsmtExposure',\n",
       " 'BsmtFinType1',\n",
       " 'BsmtFinSF1',\n",
       " 'BsmtFinType2',\n",
       " 'BsmtFinSF2',\n",
       " 'BsmtUnfSF',\n",
       " 'TotalBsmtSF',\n",
       " 'HeatingQC',\n",
       " 'Electrical',\n",
       " '1stFlrSF',\n",
       " '2ndFlrSF',\n",
       " 'GrLivArea',\n",
       " 'BsmtFullBath',\n",
       " 'FullBath',\n",
       " 'HalfBath',\n",
       " 'BedroomAbvGr',\n",
       " 'KitchenAbvGr',\n",
       " 'KitchenQual',\n",
       " 'TotRmsAbvGrd',\n",
       " 'Fireplaces',\n",
       " 'GarageYrBlt',\n",
       " 'GarageFinish',\n",
       " 'GarageCars',\n",
       " 'GarageArea',\n",
       " 'GarageQual',\n",
       " 'GarageCond',\n",
       " 'WoodDeckSF',\n",
       " 'OpenPorchSF',\n",
       " 'EnclosedPorch',\n",
       " '3SsnPorch',\n",
       " 'ScreenPorch',\n",
       " 'PoolArea',\n",
       " 'MiscVal']"
      ]
     },
     "execution_count": 691,
     "metadata": {},
     "output_type": "execute_result"
    }
   ],
   "source": [
    "numerical_feature"
   ]
  },
  {
   "cell_type": "code",
   "execution_count": 692,
   "metadata": {},
   "outputs": [
    {
     "data": {
      "text/html": [
       "<div>\n",
       "<style>\n",
       "    .dataframe thead tr:only-child th {\n",
       "        text-align: right;\n",
       "    }\n",
       "\n",
       "    .dataframe thead th {\n",
       "        text-align: left;\n",
       "    }\n",
       "\n",
       "    .dataframe tbody tr th {\n",
       "        vertical-align: top;\n",
       "    }\n",
       "</style>\n",
       "<table border=\"1\" class=\"dataframe\">\n",
       "  <thead>\n",
       "    <tr style=\"text-align: right;\">\n",
       "      <th></th>\n",
       "      <th>WoodDeckSF</th>\n",
       "      <th>WoodDeckSF</th>\n",
       "    </tr>\n",
       "  </thead>\n",
       "  <tbody>\n",
       "    <tr>\n",
       "      <th>0</th>\n",
       "      <td>0.000000</td>\n",
       "      <td>0</td>\n",
       "    </tr>\n",
       "    <tr>\n",
       "      <th>1</th>\n",
       "      <td>0.209270</td>\n",
       "      <td>298</td>\n",
       "    </tr>\n",
       "    <tr>\n",
       "      <th>2</th>\n",
       "      <td>0.000000</td>\n",
       "      <td>0</td>\n",
       "    </tr>\n",
       "    <tr>\n",
       "      <th>3</th>\n",
       "      <td>0.000000</td>\n",
       "      <td>0</td>\n",
       "    </tr>\n",
       "    <tr>\n",
       "      <th>4</th>\n",
       "      <td>0.134831</td>\n",
       "      <td>192</td>\n",
       "    </tr>\n",
       "  </tbody>\n",
       "</table>\n",
       "</div>"
      ],
      "text/plain": [
       "   WoodDeckSF  WoodDeckSF\n",
       "0    0.000000           0\n",
       "1    0.209270         298\n",
       "2    0.000000           0\n",
       "3    0.000000           0\n",
       "4    0.134831         192"
      ]
     },
     "execution_count": 692,
     "metadata": {},
     "output_type": "execute_result"
    }
   ],
   "source": [
    "all_df['WoodDeckSF'].head()"
   ]
  },
  {
   "cell_type": "code",
   "execution_count": null,
   "metadata": {
    "collapsed": true
   },
   "outputs": [],
   "source": []
  },
  {
   "cell_type": "code",
   "execution_count": 693,
   "metadata": {},
   "outputs": [],
   "source": [
    "OneHot_encode= preprocessing.OneHotEncoder().fit(sum_pd[sum_pd.columns])\n"
   ]
  },
  {
   "cell_type": "code",
   "execution_count": 694,
   "metadata": {
    "collapsed": true
   },
   "outputs": [],
   "source": [
    "#이산형 데이터 제거\n",
    "sum_pd = pd.get_dummies(all_df)"
   ]
  },
  {
   "cell_type": "code",
   "execution_count": 695,
   "metadata": {
    "collapsed": true
   },
   "outputs": [],
   "source": [
    "just_x_data = sum_pd.iloc[:1460]\n",
    "target_x_data = sum_pd.iloc[1460:]"
   ]
  },
  {
   "cell_type": "code",
   "execution_count": 696,
   "metadata": {},
   "outputs": [
    {
     "data": {
      "text/plain": [
       "((1460, 92), (1459, 92))"
      ]
     },
     "execution_count": 696,
     "metadata": {},
     "output_type": "execute_result"
    }
   ],
   "source": [
    "just_x_data.shape , target_x_data.shape"
   ]
  },
  {
   "cell_type": "code",
   "execution_count": 697,
   "metadata": {},
   "outputs": [
    {
     "data": {
      "text/plain": [
       "OverallQual    0.790982\n",
       "OverallQual    0.790982\n",
       "GrLivArea      0.708624\n",
       "GrLivArea      0.708624\n",
       "ExterQual      0.682639\n",
       "dtype: float64"
      ]
     },
     "execution_count": 697,
     "metadata": {},
     "output_type": "execute_result"
    }
   ],
   "source": [
    "#데이터 프레임의 각 컬럼과 판매가격과의 상관관계\n",
    "just_x_data.corrwith(house_target).sort_values(ascending=False).head()"
   ]
  },
  {
   "cell_type": "code",
   "execution_count": 698,
   "metadata": {
    "collapsed": true
   },
   "outputs": [],
   "source": [
    "#변수 지정\n",
    "\n",
    "x_data = just_x_data\n",
    "y_data = house_target\n"
   ]
  },
  {
   "cell_type": "code",
   "execution_count": 699,
   "metadata": {},
   "outputs": [
    {
     "name": "stdout",
     "output_type": "stream",
     "text": [
      "Coefficients: [ -1.11449210e+00  -3.17736665e-01   1.71315994e-06  -2.51007622e+02\n",
      "  -6.79779227e+01  -7.43515282e+02   1.51683803e+03   3.91974730e-01\n",
      "   1.07146958e+00   1.74028154e-02   3.58026094e+03   8.56691855e+00\n",
      "  -2.31671864e+00  -6.36653355e-03   2.36136894e+00   1.04671335e-03\n",
      "  -1.58433435e-03   2.92928050e-03  -4.71984227e-04   1.51803138e-03\n",
      "   4.28166369e+02   3.56267038e-03   5.56532280e-03   1.36270767e-02\n",
      "   2.37064979e-03   1.38426502e+03   3.62974405e+02   2.48237278e+02\n",
      "  -6.43155628e+02  -3.86594686e+03   6.78917145e+00   3.24343542e+02\n",
      "   1.02819139e+03  -5.45380537e-01   5.13646994e-01   2.31897437e+03\n",
      "   1.08267563e-02   3.32353286e+00  -3.30587760e+00   1.79839351e-02\n",
      "  -2.19165803e-02  -5.98670486e-03   4.73773961e-02   8.87888645e-02\n",
      "  -1.85687758e-02   2.89629333e-05  -1.89463657e+02  -9.27791065e+01\n",
      "   3.67113719e-01  -7.53022867e+02  -2.71911691e+02  -2.97406113e+03\n",
      "   1.36515423e+04   5.40925125e+01   6.42881747e+01   2.78445036e+01\n",
      "   1.07407828e+04   1.09742227e+04  -6.03505207e+03  -1.21155153e+01\n",
      "   2.00716360e+03   5.90764540e+00  -3.94816045e+00   4.47008190e+00\n",
      "  -1.10255529e+00   9.27517201e+00   1.71266547e+03   9.51233002e+00\n",
      "   2.64965020e+01   2.81399132e+01   1.25834095e+01   4.15279507e+03\n",
      "   1.45189762e+03   4.96474556e+02  -5.14524503e+03  -1.15978406e+04\n",
      "   1.01158655e+04   4.21646605e+03   4.11276558e+03  -1.70158728e+02\n",
      "   6.31272156e+02   1.15948718e+04   1.61102134e+01   8.65115603e+03\n",
      "  -8.77049326e+03   2.56091236e+01  -1.62621026e+01  -6.05854530e+00\n",
      "   2.40677172e+01   5.11423860e+01  -1.48550207e+01   4.92369860e-01]\n",
      "intercept: 7597.11510195\n"
     ]
    }
   ],
   "source": [
    "#선형회귀 모델에 대입 후 파라미터 도출\n",
    "\n",
    "regr = linear_model.LinearRegression()\n",
    "regr.fit(x_data, y_data)\n",
    "\n",
    "print ('Coefficients:',regr.coef_)\n",
    "print ('intercept:',regr.intercept_)"
   ]
  },
  {
   "cell_type": "code",
   "execution_count": 700,
   "metadata": {
    "scrolled": true
   },
   "outputs": [
    {
     "name": "stdout",
     "output_type": "stream",
     "text": [
      "20399.6754921 1081962790.51 0.828444734453\n"
     ]
    }
   ],
   "source": [
    "#선형회귀 모델에 대입 후 mae, mse, r2 도출\n",
    "\n",
    "from sklearn.metrics import mean_absolute_error\n",
    "from sklearn.metrics import mean_squared_error\n",
    "from sklearn.metrics import r2_score\n",
    "\n",
    "mae = mean_absolute_error(y_data, regr.predict(x_data))\n",
    "mse = mean_squared_error(y_data, regr.predict(x_data))\n",
    "r2 = r2_score(y_data, regr.predict(x_data))\n",
    "\n",
    "print(mae, mse, r2)"
   ]
  },
  {
   "cell_type": "code",
   "execution_count": 701,
   "metadata": {},
   "outputs": [],
   "source": [
    "submission = regr.predict(target_x_data)"
   ]
  },
  {
   "cell_type": "code",
   "execution_count": 702,
   "metadata": {},
   "outputs": [],
   "source": [
    "easy_submit = pd.DataFrame(submission.reshape(submission.size,1))"
   ]
  },
  {
   "cell_type": "code",
   "execution_count": 703,
   "metadata": {
    "collapsed": true
   },
   "outputs": [],
   "source": [
    "easy_submit['ID'] = test_df['Id']"
   ]
  },
  {
   "cell_type": "code",
   "execution_count": 704,
   "metadata": {
    "scrolled": true
   },
   "outputs": [],
   "source": [
    "easy_submit.index.name = 'ID'"
   ]
  },
  {
   "cell_type": "code",
   "execution_count": 705,
   "metadata": {},
   "outputs": [
    {
     "data": {
      "text/html": [
       "<div>\n",
       "<style>\n",
       "    .dataframe thead tr:only-child th {\n",
       "        text-align: right;\n",
       "    }\n",
       "\n",
       "    .dataframe thead th {\n",
       "        text-align: left;\n",
       "    }\n",
       "\n",
       "    .dataframe tbody tr th {\n",
       "        vertical-align: top;\n",
       "    }\n",
       "</style>\n",
       "<table border=\"1\" class=\"dataframe\">\n",
       "  <thead>\n",
       "    <tr style=\"text-align: right;\">\n",
       "      <th></th>\n",
       "      <th>0</th>\n",
       "      <th>ID</th>\n",
       "    </tr>\n",
       "    <tr>\n",
       "      <th>ID</th>\n",
       "      <th></th>\n",
       "      <th></th>\n",
       "    </tr>\n",
       "  </thead>\n",
       "  <tbody>\n",
       "    <tr>\n",
       "      <th>0</th>\n",
       "      <td>117208.966284</td>\n",
       "      <td>1461</td>\n",
       "    </tr>\n",
       "    <tr>\n",
       "      <th>1</th>\n",
       "      <td>171816.043206</td>\n",
       "      <td>1462</td>\n",
       "    </tr>\n",
       "    <tr>\n",
       "      <th>2</th>\n",
       "      <td>171780.953978</td>\n",
       "      <td>1463</td>\n",
       "    </tr>\n",
       "    <tr>\n",
       "      <th>3</th>\n",
       "      <td>190667.615016</td>\n",
       "      <td>1464</td>\n",
       "    </tr>\n",
       "    <tr>\n",
       "      <th>4</th>\n",
       "      <td>205090.384061</td>\n",
       "      <td>1465</td>\n",
       "    </tr>\n",
       "  </tbody>\n",
       "</table>\n",
       "</div>"
      ],
      "text/plain": [
       "                0    ID\n",
       "ID                     \n",
       "0   117208.966284  1461\n",
       "1   171816.043206  1462\n",
       "2   171780.953978  1463\n",
       "3   190667.615016  1464\n",
       "4   205090.384061  1465"
      ]
     },
     "execution_count": 705,
     "metadata": {},
     "output_type": "execute_result"
    }
   ],
   "source": [
    "easy_submit.head()"
   ]
  },
  {
   "cell_type": "code",
   "execution_count": 706,
   "metadata": {},
   "outputs": [],
   "source": [
    "easy_submit.set_index(easy_submit['ID'], inplace=True)"
   ]
  },
  {
   "cell_type": "code",
   "execution_count": 707,
   "metadata": {},
   "outputs": [],
   "source": [
    "del easy_submit['ID']"
   ]
  },
  {
   "cell_type": "code",
   "execution_count": 708,
   "metadata": {},
   "outputs": [],
   "source": [
    "easy_submit[\"SalePrice\"] = easy_submit[easy_submit.columns]"
   ]
  },
  {
   "cell_type": "code",
   "execution_count": 709,
   "metadata": {
    "scrolled": true
   },
   "outputs": [],
   "source": [
    "del easy_submit[easy_submit.columns[0]]"
   ]
  },
  {
   "cell_type": "code",
   "execution_count": 710,
   "metadata": {},
   "outputs": [],
   "source": [
    "easy_submit.to_csv(\"easy_result_v6.csv\", sep=',')"
   ]
  },
  {
   "cell_type": "code",
   "execution_count": 711,
   "metadata": {},
   "outputs": [
    {
     "data": {
      "text/html": [
       "<div>\n",
       "<style>\n",
       "    .dataframe thead tr:only-child th {\n",
       "        text-align: right;\n",
       "    }\n",
       "\n",
       "    .dataframe thead th {\n",
       "        text-align: left;\n",
       "    }\n",
       "\n",
       "    .dataframe tbody tr th {\n",
       "        vertical-align: top;\n",
       "    }\n",
       "</style>\n",
       "<table border=\"1\" class=\"dataframe\">\n",
       "  <thead>\n",
       "    <tr style=\"text-align: right;\">\n",
       "      <th></th>\n",
       "      <th>SalePrice</th>\n",
       "    </tr>\n",
       "    <tr>\n",
       "      <th>ID</th>\n",
       "      <th></th>\n",
       "    </tr>\n",
       "  </thead>\n",
       "  <tbody>\n",
       "    <tr>\n",
       "      <th>1461</th>\n",
       "      <td>117208.966284</td>\n",
       "    </tr>\n",
       "    <tr>\n",
       "      <th>1462</th>\n",
       "      <td>171816.043206</td>\n",
       "    </tr>\n",
       "    <tr>\n",
       "      <th>1463</th>\n",
       "      <td>171780.953978</td>\n",
       "    </tr>\n",
       "    <tr>\n",
       "      <th>1464</th>\n",
       "      <td>190667.615016</td>\n",
       "    </tr>\n",
       "    <tr>\n",
       "      <th>1465</th>\n",
       "      <td>205090.384061</td>\n",
       "    </tr>\n",
       "    <tr>\n",
       "      <th>1466</th>\n",
       "      <td>170053.009206</td>\n",
       "    </tr>\n",
       "    <tr>\n",
       "      <th>1467</th>\n",
       "      <td>183007.562149</td>\n",
       "    </tr>\n",
       "    <tr>\n",
       "      <th>1468</th>\n",
       "      <td>158057.493298</td>\n",
       "    </tr>\n",
       "    <tr>\n",
       "      <th>1469</th>\n",
       "      <td>205690.422034</td>\n",
       "    </tr>\n",
       "    <tr>\n",
       "      <th>1470</th>\n",
       "      <td>116196.687152</td>\n",
       "    </tr>\n",
       "    <tr>\n",
       "      <th>1471</th>\n",
       "      <td>211089.101060</td>\n",
       "    </tr>\n",
       "    <tr>\n",
       "      <th>1472</th>\n",
       "      <td>108414.791882</td>\n",
       "    </tr>\n",
       "    <tr>\n",
       "      <th>1473</th>\n",
       "      <td>88271.486481</td>\n",
       "    </tr>\n",
       "    <tr>\n",
       "      <th>1474</th>\n",
       "      <td>149494.171151</td>\n",
       "    </tr>\n",
       "    <tr>\n",
       "      <th>1475</th>\n",
       "      <td>109492.704936</td>\n",
       "    </tr>\n",
       "    <tr>\n",
       "      <th>1476</th>\n",
       "      <td>332287.554789</td>\n",
       "    </tr>\n",
       "    <tr>\n",
       "      <th>1477</th>\n",
       "      <td>244793.488121</td>\n",
       "    </tr>\n",
       "    <tr>\n",
       "      <th>1478</th>\n",
       "      <td>314652.353753</td>\n",
       "    </tr>\n",
       "    <tr>\n",
       "      <th>1479</th>\n",
       "      <td>295044.257211</td>\n",
       "    </tr>\n",
       "    <tr>\n",
       "      <th>1480</th>\n",
       "      <td>429155.907547</td>\n",
       "    </tr>\n",
       "    <tr>\n",
       "      <th>1481</th>\n",
       "      <td>292486.582686</td>\n",
       "    </tr>\n",
       "    <tr>\n",
       "      <th>1482</th>\n",
       "      <td>218496.138670</td>\n",
       "    </tr>\n",
       "    <tr>\n",
       "      <th>1483</th>\n",
       "      <td>180298.761163</td>\n",
       "    </tr>\n",
       "    <tr>\n",
       "      <th>1484</th>\n",
       "      <td>181478.705646</td>\n",
       "    </tr>\n",
       "    <tr>\n",
       "      <th>1485</th>\n",
       "      <td>206961.336980</td>\n",
       "    </tr>\n",
       "    <tr>\n",
       "      <th>1486</th>\n",
       "      <td>211564.791708</td>\n",
       "    </tr>\n",
       "    <tr>\n",
       "      <th>1487</th>\n",
       "      <td>302838.986717</td>\n",
       "    </tr>\n",
       "    <tr>\n",
       "      <th>1488</th>\n",
       "      <td>233004.903367</td>\n",
       "    </tr>\n",
       "    <tr>\n",
       "      <th>1489</th>\n",
       "      <td>182150.271454</td>\n",
       "    </tr>\n",
       "    <tr>\n",
       "      <th>1490</th>\n",
       "      <td>240345.290783</td>\n",
       "    </tr>\n",
       "    <tr>\n",
       "      <th>...</th>\n",
       "      <td>...</td>\n",
       "    </tr>\n",
       "    <tr>\n",
       "      <th>2890</th>\n",
       "      <td>60683.723804</td>\n",
       "    </tr>\n",
       "    <tr>\n",
       "      <th>2891</th>\n",
       "      <td>148511.899573</td>\n",
       "    </tr>\n",
       "    <tr>\n",
       "      <th>2892</th>\n",
       "      <td>66854.545566</td>\n",
       "    </tr>\n",
       "    <tr>\n",
       "      <th>2893</th>\n",
       "      <td>65262.534800</td>\n",
       "    </tr>\n",
       "    <tr>\n",
       "      <th>2894</th>\n",
       "      <td>58598.128859</td>\n",
       "    </tr>\n",
       "    <tr>\n",
       "      <th>2895</th>\n",
       "      <td>297296.527155</td>\n",
       "    </tr>\n",
       "    <tr>\n",
       "      <th>2896</th>\n",
       "      <td>269312.386508</td>\n",
       "    </tr>\n",
       "    <tr>\n",
       "      <th>2897</th>\n",
       "      <td>195766.267983</td>\n",
       "    </tr>\n",
       "    <tr>\n",
       "      <th>2898</th>\n",
       "      <td>145299.875942</td>\n",
       "    </tr>\n",
       "    <tr>\n",
       "      <th>2899</th>\n",
       "      <td>230359.747215</td>\n",
       "    </tr>\n",
       "    <tr>\n",
       "      <th>2900</th>\n",
       "      <td>144818.525603</td>\n",
       "    </tr>\n",
       "    <tr>\n",
       "      <th>2901</th>\n",
       "      <td>229022.865052</td>\n",
       "    </tr>\n",
       "    <tr>\n",
       "      <th>2902</th>\n",
       "      <td>202108.290404</td>\n",
       "    </tr>\n",
       "    <tr>\n",
       "      <th>2903</th>\n",
       "      <td>305634.268354</td>\n",
       "    </tr>\n",
       "    <tr>\n",
       "      <th>2904</th>\n",
       "      <td>334477.367742</td>\n",
       "    </tr>\n",
       "    <tr>\n",
       "      <th>2905</th>\n",
       "      <td>61679.437095</td>\n",
       "    </tr>\n",
       "    <tr>\n",
       "      <th>2906</th>\n",
       "      <td>218642.082012</td>\n",
       "    </tr>\n",
       "    <tr>\n",
       "      <th>2907</th>\n",
       "      <td>93646.663876</td>\n",
       "    </tr>\n",
       "    <tr>\n",
       "      <th>2908</th>\n",
       "      <td>108958.564730</td>\n",
       "    </tr>\n",
       "    <tr>\n",
       "      <th>2909</th>\n",
       "      <td>148711.306583</td>\n",
       "    </tr>\n",
       "    <tr>\n",
       "      <th>2910</th>\n",
       "      <td>71799.842390</td>\n",
       "    </tr>\n",
       "    <tr>\n",
       "      <th>2911</th>\n",
       "      <td>68302.682276</td>\n",
       "    </tr>\n",
       "    <tr>\n",
       "      <th>2912</th>\n",
       "      <td>152342.891256</td>\n",
       "    </tr>\n",
       "    <tr>\n",
       "      <th>2913</th>\n",
       "      <td>61278.923174</td>\n",
       "    </tr>\n",
       "    <tr>\n",
       "      <th>2914</th>\n",
       "      <td>62715.391504</td>\n",
       "    </tr>\n",
       "    <tr>\n",
       "      <th>2915</th>\n",
       "      <td>65238.527688</td>\n",
       "    </tr>\n",
       "    <tr>\n",
       "      <th>2916</th>\n",
       "      <td>64168.984238</td>\n",
       "    </tr>\n",
       "    <tr>\n",
       "      <th>2917</th>\n",
       "      <td>162006.820891</td>\n",
       "    </tr>\n",
       "    <tr>\n",
       "      <th>2918</th>\n",
       "      <td>119540.525789</td>\n",
       "    </tr>\n",
       "    <tr>\n",
       "      <th>2919</th>\n",
       "      <td>241971.917621</td>\n",
       "    </tr>\n",
       "  </tbody>\n",
       "</table>\n",
       "<p>1459 rows × 1 columns</p>\n",
       "</div>"
      ],
      "text/plain": [
       "          SalePrice\n",
       "ID                 \n",
       "1461  117208.966284\n",
       "1462  171816.043206\n",
       "1463  171780.953978\n",
       "1464  190667.615016\n",
       "1465  205090.384061\n",
       "1466  170053.009206\n",
       "1467  183007.562149\n",
       "1468  158057.493298\n",
       "1469  205690.422034\n",
       "1470  116196.687152\n",
       "1471  211089.101060\n",
       "1472  108414.791882\n",
       "1473   88271.486481\n",
       "1474  149494.171151\n",
       "1475  109492.704936\n",
       "1476  332287.554789\n",
       "1477  244793.488121\n",
       "1478  314652.353753\n",
       "1479  295044.257211\n",
       "1480  429155.907547\n",
       "1481  292486.582686\n",
       "1482  218496.138670\n",
       "1483  180298.761163\n",
       "1484  181478.705646\n",
       "1485  206961.336980\n",
       "1486  211564.791708\n",
       "1487  302838.986717\n",
       "1488  233004.903367\n",
       "1489  182150.271454\n",
       "1490  240345.290783\n",
       "...             ...\n",
       "2890   60683.723804\n",
       "2891  148511.899573\n",
       "2892   66854.545566\n",
       "2893   65262.534800\n",
       "2894   58598.128859\n",
       "2895  297296.527155\n",
       "2896  269312.386508\n",
       "2897  195766.267983\n",
       "2898  145299.875942\n",
       "2899  230359.747215\n",
       "2900  144818.525603\n",
       "2901  229022.865052\n",
       "2902  202108.290404\n",
       "2903  305634.268354\n",
       "2904  334477.367742\n",
       "2905   61679.437095\n",
       "2906  218642.082012\n",
       "2907   93646.663876\n",
       "2908  108958.564730\n",
       "2909  148711.306583\n",
       "2910   71799.842390\n",
       "2911   68302.682276\n",
       "2912  152342.891256\n",
       "2913   61278.923174\n",
       "2914   62715.391504\n",
       "2915   65238.527688\n",
       "2916   64168.984238\n",
       "2917  162006.820891\n",
       "2918  119540.525789\n",
       "2919  241971.917621\n",
       "\n",
       "[1459 rows x 1 columns]"
      ]
     },
     "execution_count": 711,
     "metadata": {},
     "output_type": "execute_result"
    }
   ],
   "source": [
    "easy_submit"
   ]
  },
  {
   "cell_type": "code",
   "execution_count": null,
   "metadata": {
    "collapsed": true
   },
   "outputs": [],
   "source": []
  }
 ],
 "metadata": {
  "kernelspec": {
   "display_name": "Python 3",
   "language": "python",
   "name": "python3"
  },
  "language_info": {
   "codemirror_mode": {
    "name": "ipython",
    "version": 3
   },
   "file_extension": ".py",
   "mimetype": "text/x-python",
   "name": "python",
   "nbconvert_exporter": "python",
   "pygments_lexer": "ipython3",
   "version": "3.6.5"
  }
 },
 "nbformat": 4,
 "nbformat_minor": 2
}
