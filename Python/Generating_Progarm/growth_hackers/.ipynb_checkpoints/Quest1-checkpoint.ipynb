{
 "cells": [
  {
   "cell_type": "code",
   "execution_count": 51,
   "metadata": {},
   "outputs": [],
   "source": [
    "# 문자열에서 숨겨진 문자를 찾아주는 함수\n",
    "def count_hidden_letter(search_line, hidden_letter, overlap = True):\n",
    "    \n",
    "    # 문자 숫자를 세는 변수\n",
    "    hidden_letter_count = 0\n",
    "    # 문자를 찾을 문자열을 복사\n",
    "    copy_of_line = search_line\n",
    "    \n",
    "    # 숨겨진 문자가 없을 때까지 반복하는 While문 실행\n",
    "    while hidden_letter in copy_of_line:\n",
    "        # 찾을 문자의 인덱스 값 추출\n",
    "        search_index = copy_of_line.find(hidden_letter)\n",
    "        # 중복이 허용될 경우,\n",
    "        if overlap == True:\n",
    "            # (인덱스 값 + 1) 부터 문자열에서 호출 한 뒤 저장\n",
    "            copy_of_line = copy_of_line[search_index+1:]\n",
    "            # 문자 숫자 +1\n",
    "            hidden_letter_count += 1\n",
    "        # 중복이 불가할 경우,\n",
    "        else:\n",
    "            # (인덱스값 + 찾을 문자길이) 부터 문자열에서 호출 한 뒤 저장\n",
    "            copy_of_line = copy_of_line[search_index+len(hidden_letter):]\n",
    "            # 문자 숫자 +1\n",
    "            hidden_letter_count += 1\n",
    "            \n",
    "    # 목적 문자열 내에서 문자 숫자를 반환\n",
    "    return hidden_letter_count"
   ]
  },
  {
   "cell_type": "code",
   "execution_count": 52,
   "metadata": {},
   "outputs": [],
   "source": [
    "#문자열 선언\n",
    "Text_1 = 'azcbobobegghakl'\n",
    "Text_2 = 'incbobqadlbbobobbobd'"
   ]
  },
  {
   "cell_type": "code",
   "execution_count": 53,
   "metadata": {},
   "outputs": [
    {
     "data": {
      "text/plain": [
       "2"
      ]
     },
     "execution_count": 53,
     "metadata": {},
     "output_type": "execute_result"
    }
   ],
   "source": [
    "#1번 문자열 결과값 출력, 중복허용\n",
    "count_hidden_letter(Text_1,'bob')"
   ]
  },
  {
   "cell_type": "code",
   "execution_count": 54,
   "metadata": {},
   "outputs": [
    {
     "data": {
      "text/plain": [
       "1"
      ]
     },
     "execution_count": 54,
     "metadata": {},
     "output_type": "execute_result"
    }
   ],
   "source": [
    "#1번 문자열 결과값 출력, 중복불가\n",
    "count_hidden_letter(Text_1,'bob',False)"
   ]
  },
  {
   "cell_type": "code",
   "execution_count": 55,
   "metadata": {},
   "outputs": [
    {
     "data": {
      "text/plain": [
       "4"
      ]
     },
     "execution_count": 55,
     "metadata": {},
     "output_type": "execute_result"
    }
   ],
   "source": [
    "#2번 문자열 결과값 출력, 중복허용\n",
    "count_hidden_letter(Text_2,'bob')"
   ]
  },
  {
   "cell_type": "code",
   "execution_count": 56,
   "metadata": {},
   "outputs": [
    {
     "data": {
      "text/plain": [
       "3"
      ]
     },
     "execution_count": 56,
     "metadata": {},
     "output_type": "execute_result"
    }
   ],
   "source": [
    "#2번 문자열 결과값 출력, 중복불가\n",
    "count_hidden_letter(Text_2,'bob',False)"
   ]
  },
  {
   "cell_type": "code",
   "execution_count": 3,
   "metadata": {},
   "outputs": [
    {
     "data": {
      "text/plain": [
       "1"
      ]
     },
     "execution_count": 3,
     "metadata": {},
     "output_type": "execute_result"
    }
   ],
   "source": [
    "Text_1 = 'azcbobobegghakl'\n",
    "Text_2 = 'incbobqadlbbobobbobd'\n",
    "\n",
    "\n",
    "def count_hidden_letter(for_search_word, hidden_letter, overlap = True):\n",
    "    hidden_letter_count = 0\n",
    "    for_search_wordlist = list(for_search_word)\n",
    "    \n",
    "    while ''.join(for_search_wordlist).find(hidden_letter) != -1:\n",
    "        if overlap == True:\n",
    "            index_of_hidden_letter = ''.join(for_search_wordlist).find(hidden_letter)\n",
    "            for i in range(3):\n",
    "                for_search_wordlist.pop(index_of_hidden_letter)\n",
    "            hidden_letter_count += 1\n",
    "        else:\n",
    "            index_of_hidden_letter = ''.join(for_search_wordlist).find(hidden_letter)\n",
    "            for i in range(2):\n",
    "                for_search_wordlist.pop(index_of_hidden_letter)\n",
    "            hidden_letter_count += 1\n",
    "            \n",
    "    return hidden_letter_count\n",
    "\n",
    "\n",
    "count_hidden_letter(Text_1,'bob')"
   ]
  },
  {
   "cell_type": "code",
   "execution_count": 78,
   "metadata": {},
   "outputs": [],
   "source": [
    "# dict 내의 문자를 색출하는 함수\n",
    "def gathering_letter(target_dict):\n",
    "    # 반환할 문자를 담을 list 선언\n",
    "    letter_box = []\n",
    "\n",
    "    #입력받은 dict의 길이만큼 for 구문을 통해 반복\n",
    "    for i in range(len(target_dict)):\n",
    "        # 입력받은 dict를 복사 \n",
    "        copy_target_dict = target_dict\n",
    "        # 입력받은 dict의 i번째 key값을 저장\n",
    "        key_of_dictionary = list(copy_target_dict.keys())[i]\n",
    "        # 각 key값을 'letter_box' 변수에 추가\n",
    "        letter_box.append(key_of_dictionary)\n",
    "        # i번째 Key&Value를 뽑아서 'target_dict'로 선언\n",
    "        copy_target_dict = dict(copy_target_dict[key_of_dictionary])\n",
    "\n",
    "        # i번째 key&Value가 더이상 나눠지지 않을때까지 탐색\n",
    "        while True:\n",
    "            try:\n",
    "                # dict 내의 첫번째 key 값을 뽑아서 key 값으로 저장\n",
    "                key_of_dictionary = list(copy_target_dict.keys())[0]\n",
    "                # 저장한 key값을 마찬가지로 'letter_box'에 저장\n",
    "                letter_box.append(key_of_dictionary)\n",
    "                # 저장한 key값으로 value를 뽑은 뒤 dict 선언\n",
    "                copy_target_dict = dict(copy_target_dict[key_of_dictionary])\n",
    "            except Exception as E:\n",
    "                # 안 나눠질 경우 while문 종료\n",
    "                break\n",
    "\n",
    "    # 저장된 문자 박스를 반환\n",
    "    return letter_box          "
   ]
  },
  {
   "cell_type": "code",
   "execution_count": 244,
   "metadata": {},
   "outputs": [
    {
     "ename": "SyntaxError",
     "evalue": "invalid syntax (<ipython-input-244-d52a53d9b9a4>, line 29)",
     "output_type": "error",
     "traceback": [
      "\u001b[1;36m  File \u001b[1;32m\"<ipython-input-244-d52a53d9b9a4>\"\u001b[1;36m, line \u001b[1;32m29\u001b[0m\n\u001b[1;33m    else\u001b[0m\n\u001b[1;37m        ^\u001b[0m\n\u001b[1;31mSyntaxError\u001b[0m\u001b[1;31m:\u001b[0m invalid syntax\n"
     ]
    }
   ],
   "source": [
    "# dict 내의 문자를 색출하는 함수\n",
    "def gathering_letter(target_dict):\n",
    "    # 반환할 문자를 담을 list 선언\n",
    "    letter_box = []\n",
    "\n",
    "    #입력받은 dict의 길이만큼 for 구문을 통해 반복\n",
    "    for i in range(len(target_dict)):\n",
    "        # 입력받은 dict를 복사 \n",
    "        copy_target_dict = target_dict\n",
    "        # 입력받은 dict의 i번째 key값을 저장\n",
    "        key_of_dictionary = list(copy_target_dict.keys())[i]\n",
    "        # 각 key값을 'letter_box' 변수에 추가\n",
    "        letter_box.append(key_of_dictionary)\n",
    "        # i번째 Key&Value를 뽑아서 'target_dict'로 선언\n",
    "        copy_target_dict = dict(copy_target_dict[key_of_dictionary]) \n",
    "\n",
    "        # i번째 key&Value가 더이상 나눠지지 않을때까지 탐색\n",
    "        while copy_target_dict :\n",
    "            if len(copy_target_dict.keys()) > 0 :\n",
    "                # dict 내의 첫번째 key 값을 뽑아서 key 값으로 저장\n",
    "                key_of_dictionary = list(copy_target_dict.keys()).pop()\n",
    "                if key_of_dictionary != \"\" :\n",
    "                    letter_box.append(key_of_dictionary)\n",
    "                    print(key_of_dictionary)\n",
    "                    # 저장한 key값을 마찬가지로 'letter_box'에 저장\n",
    "                    # 저장한 key값으로 value를 뽑은 뒤 dict 선언\n",
    "                    if  sinstance(copy_target_dict[key_of_dictionary],dict) :\n",
    "                        copy_target_dict = dict(copy_target_dict[key_of_dictionary])\n",
    "                    else\n",
    "                        copy_target_dict = None\n",
    "            else :\n",
    "                print(\"saa\")\n",
    "                break\n",
    "\n",
    "    # 저장된 문자 박스를 반환\n",
    "    return letter_box          "
   ]
  },
  {
   "cell_type": "code",
   "execution_count": null,
   "metadata": {},
   "outputs": [],
   "source": []
  },
  {
   "cell_type": "code",
   "execution_count": null,
   "metadata": {},
   "outputs": [],
   "source": []
  },
  {
   "cell_type": "code",
   "execution_count": 246,
   "metadata": {},
   "outputs": [],
   "source": [
    "# Dict형 변수 선언\n",
    "target_dict1 = { 'a' : { 'b' : { 'c' : { 'd' : { 'e' : {}}}}},\n",
    "                'aa' : { 'bb' : { 'cc' : { 'dd' : { 'ee' : {'ff':'fff'}}}}}}"
   ]
  },
  {
   "cell_type": "code",
   "execution_count": 247,
   "metadata": {},
   "outputs": [
    {
     "ename": "KeyboardInterrupt",
     "evalue": "",
     "output_type": "error",
     "traceback": [
      "\u001b[1;31m---------------------------------------------------------------------------\u001b[0m",
      "\u001b[1;31mKeyboardInterrupt\u001b[0m                         Traceback (most recent call last)",
      "\u001b[1;32m<ipython-input-247-12d69b6b4fa0>\u001b[0m in \u001b[0;36m<module>\u001b[1;34m()\u001b[0m\n\u001b[0;32m      1\u001b[0m \u001b[1;31m# dict 인자로 넣어서 함수 호출\u001b[0m\u001b[1;33m\u001b[0m\u001b[1;33m\u001b[0m\u001b[0m\n\u001b[1;32m----> 2\u001b[1;33m \u001b[0mgathering_letter\u001b[0m\u001b[1;33m(\u001b[0m\u001b[0mtarget_dict1\u001b[0m\u001b[1;33m)\u001b[0m\u001b[1;33m\u001b[0m\u001b[0m\n\u001b[0m",
      "\u001b[1;32m<ipython-input-241-085ffbe33894>\u001b[0m in \u001b[0;36mgathering_letter\u001b[1;34m(target_dict)\u001b[0m\n\u001b[0;32m     19\u001b[0m             \u001b[1;32mif\u001b[0m \u001b[0mlen\u001b[0m\u001b[1;33m(\u001b[0m\u001b[0mcopy_target_dict\u001b[0m\u001b[1;33m.\u001b[0m\u001b[0mkeys\u001b[0m\u001b[1;33m(\u001b[0m\u001b[1;33m)\u001b[0m\u001b[1;33m)\u001b[0m \u001b[1;33m>\u001b[0m \u001b[1;36m0\u001b[0m \u001b[1;33m:\u001b[0m\u001b[1;33m\u001b[0m\u001b[0m\n\u001b[0;32m     20\u001b[0m                 \u001b[1;31m# dict 내의 첫번째 key 값을 뽑아서 key 값으로 저장\u001b[0m\u001b[1;33m\u001b[0m\u001b[1;33m\u001b[0m\u001b[0m\n\u001b[1;32m---> 21\u001b[1;33m                 \u001b[0mkey_of_dictionary\u001b[0m \u001b[1;33m=\u001b[0m \u001b[0mlist\u001b[0m\u001b[1;33m(\u001b[0m\u001b[0mcopy_target_dict\u001b[0m\u001b[1;33m.\u001b[0m\u001b[0mkeys\u001b[0m\u001b[1;33m(\u001b[0m\u001b[1;33m)\u001b[0m\u001b[1;33m)\u001b[0m\u001b[1;33m.\u001b[0m\u001b[0mpop\u001b[0m\u001b[1;33m(\u001b[0m\u001b[1;33m)\u001b[0m\u001b[1;33m\u001b[0m\u001b[0m\n\u001b[0m\u001b[0;32m     22\u001b[0m                 \u001b[1;32mif\u001b[0m \u001b[0mkey_of_dictionary\u001b[0m \u001b[1;33m!=\u001b[0m \u001b[1;34m\"\"\u001b[0m \u001b[1;33m:\u001b[0m\u001b[1;33m\u001b[0m\u001b[0m\n\u001b[0;32m     23\u001b[0m                     \u001b[0mletter_box\u001b[0m\u001b[1;33m.\u001b[0m\u001b[0mappend\u001b[0m\u001b[1;33m(\u001b[0m\u001b[0mkey_of_dictionary\u001b[0m\u001b[1;33m)\u001b[0m\u001b[1;33m\u001b[0m\u001b[0m\n",
      "\u001b[1;31mKeyboardInterrupt\u001b[0m: "
     ]
    }
   ],
   "source": [
    "# dict 인자로 넣어서 함수 호출\n",
    "gathering_letter(target_dict1)"
   ]
  },
  {
   "cell_type": "code",
   "execution_count": null,
   "metadata": {},
   "outputs": [],
   "source": []
  },
  {
   "cell_type": "code",
   "execution_count": null,
   "metadata": {},
   "outputs": [],
   "source": []
  },
  {
   "cell_type": "code",
   "execution_count": null,
   "metadata": {},
   "outputs": [],
   "source": []
  },
  {
   "cell_type": "code",
   "execution_count": null,
   "metadata": {},
   "outputs": [],
   "source": []
  }
 ],
 "metadata": {
  "kernelspec": {
   "display_name": "Python 3",
   "language": "python",
   "name": "python3"
  },
  "language_info": {
   "codemirror_mode": {
    "name": "ipython",
    "version": 3
   },
   "file_extension": ".py",
   "mimetype": "text/x-python",
   "name": "python",
   "nbconvert_exporter": "python",
   "pygments_lexer": "ipython3",
   "version": "3.6.5"
  }
 },
 "nbformat": 4,
 "nbformat_minor": 2
}
