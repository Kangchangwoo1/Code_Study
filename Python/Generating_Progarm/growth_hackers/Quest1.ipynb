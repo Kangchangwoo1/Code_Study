{
 "cells": [
  {
   "cell_type": "code",
   "execution_count": 51,
   "metadata": {},
   "outputs": [],
   "source": [
    "# 문자열에서 숨겨진 문자를 찾아주는 함수\n",
    "def count_hidden_letter(search_line, hidden_letter, overlap = True):\n",
    "    \n",
    "    # 문자 숫자를 세는 변수\n",
    "    hidden_letter_count = 0\n",
    "    # 문자를 찾을 문자열을 복사\n",
    "    copy_of_line = search_line\n",
    "    \n",
    "    # 숨겨진 문자가 없을 때까지 반복하는 While문 실행\n",
    "    while hidden_letter in copy_of_line:\n",
    "        # 찾을 문자의 인덱스 값 추출\n",
    "        search_index = copy_of_line.find(hidden_letter)\n",
    "        # 중복이 허용될 경우,\n",
    "        if overlap == True:\n",
    "            # (인덱스 값 + 1) 부터 문자열에서 호출 한 뒤 저장\n",
    "            copy_of_line = copy_of_line[search_index+1:]\n",
    "            # 문자 숫자 +1\n",
    "            hidden_letter_count += 1\n",
    "        # 중복이 불가할 경우,\n",
    "        else:\n",
    "            # (인덱스값 + 찾을 문자길이) 부터 문자열에서 호출 한 뒤 저장\n",
    "            copy_of_line = copy_of_line[search_index+len(hidden_letter):]\n",
    "            # 문자 숫자 +1\n",
    "            hidden_letter_count += 1\n",
    "            \n",
    "    # 목적 문자열 내에서 문자 숫자를 반환\n",
    "    return hidden_letter_count"
   ]
  },
  {
   "cell_type": "code",
   "execution_count": 52,
   "metadata": {},
   "outputs": [],
   "source": [
    "#문자열 선언\n",
    "Text_1 = 'azcbobobegghakl'\n",
    "Text_2 = 'incbobqadlbbobobbobd'"
   ]
  },
  {
   "cell_type": "code",
   "execution_count": 53,
   "metadata": {},
   "outputs": [
    {
     "data": {
      "text/plain": [
       "2"
      ]
     },
     "execution_count": 53,
     "metadata": {},
     "output_type": "execute_result"
    }
   ],
   "source": [
    "#1번 문자열 결과값 출력, 중복허용\n",
    "count_hidden_letter(Text_1,'bob')"
   ]
  },
  {
   "cell_type": "code",
   "execution_count": 54,
   "metadata": {},
   "outputs": [
    {
     "data": {
      "text/plain": [
       "1"
      ]
     },
     "execution_count": 54,
     "metadata": {},
     "output_type": "execute_result"
    }
   ],
   "source": [
    "#1번 문자열 결과값 출력, 중복불가\n",
    "count_hidden_letter(Text_1,'bob',False)"
   ]
  },
  {
   "cell_type": "code",
   "execution_count": 55,
   "metadata": {},
   "outputs": [
    {
     "data": {
      "text/plain": [
       "4"
      ]
     },
     "execution_count": 55,
     "metadata": {},
     "output_type": "execute_result"
    }
   ],
   "source": [
    "#2번 문자열 결과값 출력, 중복허용\n",
    "count_hidden_letter(Text_2,'bob')"
   ]
  },
  {
   "cell_type": "code",
   "execution_count": 56,
   "metadata": {},
   "outputs": [
    {
     "data": {
      "text/plain": [
       "3"
      ]
     },
     "execution_count": 56,
     "metadata": {},
     "output_type": "execute_result"
    }
   ],
   "source": [
    "#2번 문자열 결과값 출력, 중복불가\n",
    "count_hidden_letter(Text_2,'bob',False)"
   ]
  },
  {
   "cell_type": "code",
   "execution_count": 3,
   "metadata": {},
   "outputs": [
    {
     "data": {
      "text/plain": [
       "1"
      ]
     },
     "execution_count": 3,
     "metadata": {},
     "output_type": "execute_result"
    }
   ],
   "source": [
    "Text_1 = 'azcbobobegghakl'\n",
    "Text_2 = 'incbobqadlbbobobbobd'\n",
    "\n",
    "\n",
    "def count_hidden_letter(for_search_word, hidden_letter, overlap = True):\n",
    "    hidden_letter_count = 0\n",
    "    for_search_wordlist = list(for_search_word)\n",
    "    \n",
    "    while ''.join(for_search_wordlist).find(hidden_letter) != -1:\n",
    "        if overlap == True:\n",
    "            index_of_hidden_letter = ''.join(for_search_wordlist).find(hidden_letter)\n",
    "            for i in range(3):\n",
    "                for_search_wordlist.pop(index_of_hidden_letter)\n",
    "            hidden_letter_count += 1\n",
    "        else:\n",
    "            index_of_hidden_letter = ''.join(for_search_wordlist).find(hidden_letter)\n",
    "            for i in range(2):\n",
    "                for_search_wordlist.pop(index_of_hidden_letter)\n",
    "            hidden_letter_count += 1\n",
    "            \n",
    "    return hidden_letter_count\n",
    "\n",
    "\n",
    "count_hidden_letter(Text_1,'bob')"
   ]
  },
  {
   "cell_type": "code",
   "execution_count": 78,
   "metadata": {},
   "outputs": [],
   "source": [
    "# dict 내의 문자를 색출하는 함수\n",
    "def gathering_letter(target_dict):\n",
    "    # 반환할 문자를 담을 list 선언\n",
    "    letter_box = []\n",
    "\n",
    "    #입력받은 dict의 길이만큼 for 구문을 통해 반복\n",
    "    for i in range(len(target_dict)):\n",
    "        # 입력받은 dict를 복사 \n",
    "        copy_target_dict = target_dict\n",
    "        # 입력받은 dict의 i번째 key값을 저장\n",
    "        key_of_dictionary = list(copy_target_dict.keys())[i]\n",
    "        # 각 key값을 'letter_box' 변수에 추가\n",
    "        letter_box.append(key_of_dictionary)\n",
    "        # i번째 Key&Value를 뽑아서 'target_dict'로 선언\n",
    "        copy_target_dict = dict(copy_target_dict[key_of_dictionary])\n",
    "\n",
    "        # i번째 key&Value가 더이상 나눠지지 않을때까지 탐색\n",
    "        while True:\n",
    "            try:\n",
    "                # dict 내의 첫번째 key 값을 뽑아서 key 값으로 저장\n",
    "                key_of_dictionary = list(copy_target_dict.keys())[0]\n",
    "                # 저장한 key값을 마찬가지로 'letter_box'에 저장\n",
    "                letter_box.append(key_of_dictionary)\n",
    "                # 저장한 key값으로 value를 뽑은 뒤 dict 선언\n",
    "                copy_target_dict = dict(copy_target_dict[key_of_dictionary])\n",
    "            except Exception as E:\n",
    "                # 안 나눠질 경우 while문 종료\n",
    "                break\n",
    "\n",
    "    # 저장된 문자 박스를 반환\n",
    "    return letter_box          "
   ]
  },
  {
   "cell_type": "code",
   "execution_count": 6,
   "metadata": {},
   "outputs": [],
   "source": [
    "# dict 내의 문자를 색출하는 함수\n",
    "def gathering_letter(target_dict):\n",
    "    # 반환할 문자를 담을 list 선언\n",
    "    letter_box = []\n",
    "\n",
    "    #입력받은 dict의 길이만큼 for 구문을 통해 반복\n",
    "    for i in range(len(target_dict)):\n",
    "        # 입력받은 dict를 복사 \n",
    "        copy_target_dict = target_dict\n",
    "        # 입력받은 dict의 i번째 key값을 list로 저장\n",
    "        key_of_dictionary = list(copy_target_dict.keys())[i]\n",
    "        # 각 key값을 'letter_box' 변수에 추가\n",
    "        letter_box.append(key_of_dictionary)\n",
    "        # i번째 Key&Value를 뽑아서 'target_dict'로 선언\n",
    "        copy_target_dict = dict(copy_target_dict[key_of_dictionary]) \n",
    "\n",
    "        # dict 값이 없을 경우 while문을 종료\n",
    "        while copy_target_dict :\n",
    "            # dict 내의 첫번째 key 값을 뽑아서 key 값으로 저장\n",
    "            key_of_dictionary = list(copy_target_dict.keys()).pop()\n",
    "            # 다음 Value를 꺼냈을 떄 None값이 아닐 경우,\n",
    "            if key_of_dictionary != \"\" :\n",
    "                # Key를 'letterbox'에 추가한다.\n",
    "                letter_box.append(key_of_dictionary)\n",
    "            #만약, 꺼낸 Value 값이 dict 형이라면,\n",
    "            if  isinstance(copy_target_dict[key_of_dictionary],dict) :\n",
    "                # 추가적으로 탐색가능하기 때문에 dict형으로 할당한다.\n",
    "                copy_target_dict = dict(copy_target_dict[key_of_dictionary])\n",
    "            #만약, 꺼낸 Value 값이 dict형이 아니라면,\n",
    "            else :\n",
    "                # Value를 'letterbox'에 추가한다.\n",
    "                letter_box.append(copy_target_dict[key_of_dictionary])\n",
    "                # while문을 종료하게끔 None을 할당한다.\n",
    "                copy_target_dict = None\n",
    "    # 저장된 문자 박스를 반환\n",
    "    return letter_box          "
   ]
  },
  {
   "cell_type": "code",
   "execution_count": null,
   "metadata": {},
   "outputs": [],
   "source": []
  },
  {
   "cell_type": "code",
   "execution_count": null,
   "metadata": {},
   "outputs": [],
   "source": []
  },
  {
   "cell_type": "code",
   "execution_count": 10,
   "metadata": {},
   "outputs": [],
   "source": [
    "# Dict형 변수 선언\n",
    "target_dict1 = { 'a' : { 'b' : { 'c' : { 'd' : { 'e' : {}}}}},\n",
    "                'aa' : { 'bb' : { 'cc' : { 'dd' : { 'ee' : {}}}}}}\n",
    "target_dict2 = { 'a' : { 'b' : { 'c' : { 'd' : { 'e' : {}}}}},\n",
    "                'aa' : { 'bb' : { 'cc' : { 'dd' : { 'ee' : 'ff'}}}}}"
   ]
  },
  {
   "cell_type": "code",
   "execution_count": 11,
   "metadata": {},
   "outputs": [
    {
     "data": {
      "text/plain": [
       "['a', 'b', 'c', 'd', 'e', 'aa', 'bb', 'cc', 'dd', 'ee']"
      ]
     },
     "execution_count": 11,
     "metadata": {},
     "output_type": "execute_result"
    }
   ],
   "source": [
    "# dict_1 인자를 넣어서 함수 호출\n",
    "gathering_letter(target_dict1)"
   ]
  },
  {
   "cell_type": "code",
   "execution_count": 12,
   "metadata": {},
   "outputs": [
    {
     "data": {
      "text/plain": [
       "['a', 'b', 'c', 'd', 'e', 'aa', 'bb', 'cc', 'dd', 'ee', 'ff']"
      ]
     },
     "execution_count": 12,
     "metadata": {},
     "output_type": "execute_result"
    }
   ],
   "source": [
    "# dict_2 인자를 넣어서 함수 호출\n",
    "gathering_letter(target_dict2)"
   ]
  },
  {
   "cell_type": "code",
   "execution_count": null,
   "metadata": {},
   "outputs": [],
   "source": []
  },
  {
   "cell_type": "code",
   "execution_count": null,
   "metadata": {},
   "outputs": [],
   "source": []
  },
  {
   "cell_type": "code",
   "execution_count": null,
   "metadata": {},
   "outputs": [],
   "source": []
  },
  {
   "cell_type": "code",
   "execution_count": null,
   "metadata": {},
   "outputs": [],
   "source": []
  }
 ],
 "metadata": {
  "kernelspec": {
   "display_name": "Python 3",
   "language": "python",
   "name": "python3"
  },
  "language_info": {
   "codemirror_mode": {
    "name": "ipython",
    "version": 3
   },
   "file_extension": ".py",
   "mimetype": "text/x-python",
   "name": "python",
   "nbconvert_exporter": "python",
   "pygments_lexer": "ipython3",
   "version": "3.6.5"
  }
 },
 "nbformat": 4,
 "nbformat_minor": 2
}
