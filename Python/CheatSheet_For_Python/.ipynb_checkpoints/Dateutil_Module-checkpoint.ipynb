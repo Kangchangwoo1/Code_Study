{
 "cells": [
  {
   "cell_type": "markdown",
   "metadata": {},
   "source": [
    "# Dateutil 용법 관련된 CheatSheet"
   ]
  },
  {
   "cell_type": "markdown",
   "metadata": {},
   "source": [
    "## Parsing\n",
    "\n",
    "### parse( )\n",
    "\n",
    ": 유니코드로 작성된 Date를 년,월,일을 각각 Parsing 하여서 date 데이터형으로 변환해준다."
   ]
  },
  {
   "cell_type": "code",
   "execution_count": 1,
   "metadata": {},
   "outputs": [],
   "source": [
    "import requests, json\n",
    "from dateutil.parser import parse\n",
    "from collections import Counter\n",
    "\n",
    "\n",
    "endpoint = \"https://api.github.com/users/joelgrus/repos\"\n",
    "\n",
    "repos = json.loads(requests.get(endpoint).text)\n",
    "\n",
    "\n",
    "\n",
    "dates = [parse(repo[\"created_at\"]) for repo in repos]\n",
    "month_counts = Counter(date.month for date in dates)\n",
    "weekday_counts = Counter(date.weekday() for date in dates)"
   ]
  },
  {
   "cell_type": "code",
   "execution_count": 2,
   "metadata": {},
   "outputs": [
    {
     "data": {
      "text/plain": [
       "(' 날짜 묶음: ',\n",
       " [datetime.datetime(2017, 12, 2, 20, 13, 49, tzinfo=tzutc()),\n",
       "  datetime.datetime(2018, 2, 23, 15, 51, 4, tzinfo=tzutc()),\n",
       "  datetime.datetime(2017, 12, 19, 0, 12, 40, tzinfo=tzutc()),\n",
       "  datetime.datetime(2018, 1, 31, 23, 51, 16, tzinfo=tzutc()),\n",
       "  datetime.datetime(2013, 7, 5, 2, 2, 28, tzinfo=tzutc()),\n",
       "  datetime.datetime(2017, 5, 10, 17, 22, 45, tzinfo=tzutc()),\n",
       "  datetime.datetime(2013, 11, 15, 5, 33, 22, tzinfo=tzutc()),\n",
       "  datetime.datetime(2012, 9, 18, 4, 20, 23, tzinfo=tzutc()),\n",
       "  datetime.datetime(2016, 7, 19, 17, 34, 31, tzinfo=tzutc()),\n",
       "  datetime.datetime(2015, 11, 11, 14, 15, 36, tzinfo=tzutc()),\n",
       "  datetime.datetime(2016, 5, 31, 14, 33, 6, tzinfo=tzutc()),\n",
       "  datetime.datetime(2015, 6, 30, 0, 33, 3, tzinfo=tzutc()),\n",
       "  datetime.datetime(2013, 8, 21, 13, 26, 5, tzinfo=tzutc()),\n",
       "  datetime.datetime(2013, 8, 18, 5, 3, 41, tzinfo=tzutc()),\n",
       "  datetime.datetime(2015, 7, 30, 1, 54, 55, tzinfo=tzutc()),\n",
       "  datetime.datetime(2014, 11, 9, 2, 31, 24, tzinfo=tzutc()),\n",
       "  datetime.datetime(2013, 11, 10, 6, 52, 56, tzinfo=tzutc()),\n",
       "  datetime.datetime(2015, 4, 8, 1, 1, 47, tzinfo=tzutc()),\n",
       "  datetime.datetime(2016, 1, 8, 3, 33, 58, tzinfo=tzutc()),\n",
       "  datetime.datetime(2016, 1, 21, 6, 46, 49, tzinfo=tzutc()),\n",
       "  datetime.datetime(2013, 7, 1, 3, 36, 23, tzinfo=tzutc()),\n",
       "  datetime.datetime(2013, 2, 22, 0, 12, 38, tzinfo=tzutc()),\n",
       "  datetime.datetime(2016, 5, 21, 23, 57, 23, tzinfo=tzutc()),\n",
       "  datetime.datetime(2015, 7, 2, 21, 47, 55, tzinfo=tzutc()),\n",
       "  datetime.datetime(2016, 10, 23, 21, 28, 37, tzinfo=tzutc()),\n",
       "  datetime.datetime(2012, 2, 15, 4, 55, 49, tzinfo=tzutc()),\n",
       "  datetime.datetime(2017, 11, 21, 23, 59, 6, tzinfo=tzutc()),\n",
       "  datetime.datetime(2018, 1, 3, 0, 44, 38, tzinfo=tzutc()),\n",
       "  datetime.datetime(2017, 5, 23, 14, 0, 58, tzinfo=tzutc()),\n",
       "  datetime.datetime(2016, 7, 11, 15, 48, 39, tzinfo=tzutc())],\n",
       " '달의 갯수 세기: ',\n",
       " Counter({12: 2,\n",
       "          2: 3,\n",
       "          1: 4,\n",
       "          7: 6,\n",
       "          5: 4,\n",
       "          11: 5,\n",
       "          9: 1,\n",
       "          6: 1,\n",
       "          8: 2,\n",
       "          4: 1,\n",
       "          10: 1}),\n",
       " '요일의 갯수 세기: ',\n",
       " Counter({5: 2, 4: 5, 1: 7, 2: 7, 6: 4, 3: 3, 0: 2}))"
      ]
     },
     "execution_count": 2,
     "metadata": {},
     "output_type": "execute_result"
    }
   ],
   "source": [
    "\" 날짜 묶음: \",dates, \"달의 갯수 세기: \",month_counts, \"요일의 갯수 세기: \",weekday_counts"
   ]
  },
  {
   "cell_type": "code",
   "execution_count": null,
   "metadata": {},
   "outputs": [],
   "source": []
  }
 ],
 "metadata": {
  "kernelspec": {
   "display_name": "Python 3",
   "language": "python",
   "name": "python3"
  },
  "language_info": {
   "codemirror_mode": {
    "name": "ipython",
    "version": 3
   },
   "file_extension": ".py",
   "mimetype": "text/x-python",
   "name": "python",
   "nbconvert_exporter": "python",
   "pygments_lexer": "ipython3",
   "version": "3.6.5"
  }
 },
 "nbformat": 4,
 "nbformat_minor": 2
}
