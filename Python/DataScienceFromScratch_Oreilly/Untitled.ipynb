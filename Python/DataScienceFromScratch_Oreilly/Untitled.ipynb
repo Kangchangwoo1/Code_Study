{
 "cells": [
  {
   "cell_type": "markdown",
   "metadata": {},
   "source": [
    "# 9장. 파이썬을 데이터 수집하기"
   ]
  },
  {
   "cell_type": "markdown",
   "metadata": {},
   "source": [
    "#  "
   ]
  },
  {
   "cell_type": "markdown",
   "metadata": {},
   "source": [
    "## 9.1 stdin과 stdout"
   ]
  },
  {
   "cell_type": "code",
   "execution_count": 1,
   "metadata": {},
   "outputs": [],
   "source": [
    "#egrep.py\n",
    "import sys,re\n",
    "\n",
    "regex = sys.argv[1]\n",
    "\n",
    "for line in sys.stdin:\n",
    "    if re.search(regex,line):\n",
    "        sys.stdout.write(line)\n",
    "        "
   ]
  },
  {
   "cell_type": "code",
   "execution_count": 4,
   "metadata": {},
   "outputs": [
    {
     "name": "stdout",
     "output_type": "stream",
     "text": [
      "0\n"
     ]
    }
   ],
   "source": [
    "#line_count.py\n",
    "import sys\n",
    "\n",
    "count = 0\n",
    "for line in sys.stdin:\n",
    "    count+=1\n",
    "    \n",
    "#출력값은 sys.stdout으로 보낸다.\n",
    "print (count)"
   ]
  },
  {
   "cell_type": "code",
   "execution_count": 7,
   "metadata": {},
   "outputs": [
    {
     "name": "stdout",
     "output_type": "stream",
     "text": [
      "usage:most_common_words.py num_words\n"
     ]
    },
    {
     "ename": "SystemExit",
     "evalue": "1",
     "output_type": "error",
     "traceback": [
      "An exception has occurred, use %tb to see the full traceback.\n",
      "\u001b[1;31mSystemExit\u001b[0m\u001b[1;31m:\u001b[0m 1\n"
     ]
    },
    {
     "name": "stderr",
     "output_type": "stream",
     "text": [
      "C:\\Users\\Kang\\AppData\\Local\\conda\\conda\\envs\\ml_scratch\\lib\\site-packages\\IPython\\core\\interactiveshell.py:2971: UserWarning: To exit: use 'exit', 'quit', or Ctrl-D.\n",
      "  warn(\"To exit: use 'exit', 'quit', or Ctrl-D.\", stacklevel=1)\n"
     ]
    }
   ],
   "source": [
    "#most_common_words.py\n",
    "\n",
    "import sys\n",
    "\n",
    "from collections import Counter\n",
    "\n",
    "# 출력하고 싶은 단어의 수를 첫 번째 인자로 입력\n",
    "\n",
    "try:\n",
    "    num_works = int(sys.argv[1])\n",
    "except:\n",
    "    print(\"usage:most_common_words.py num_words\")\n",
    "    sys.exit(1)\n",
    "    \n",
    "counter = Counter(word.lower() for line in sys.stdin for word in line.strip().split() if word)\n",
    "\n",
    "for word,count in counter.most_common(num_words):\n",
    "    sys.stdout.write(str(count))\n",
    "    sys.stdout.write(\"\\t\")\n",
    "    sys.stdout.write(word)\n",
    "    sys.stdout.write(\"\\n\")\n",
    "    \n",
    "\n",
    "    "
   ]
  },
  {
   "cell_type": "code",
   "execution_count": 8,
   "metadata": {},
   "outputs": [
    {
     "ename": "SyntaxError",
     "evalue": "invalid syntax (<ipython-input-8-c61a5e503872>, line 1)",
     "output_type": "error",
     "traceback": [
      "\u001b[1;36m  File \u001b[1;32m\"<ipython-input-8-c61a5e503872>\"\u001b[1;36m, line \u001b[1;32m1\u001b[0m\n\u001b[1;33m    type life.txt | python most_common_words.py 10\u001b[0m\n\u001b[1;37m            ^\u001b[0m\n\u001b[1;31mSyntaxError\u001b[0m\u001b[1;31m:\u001b[0m invalid syntax\n"
     ]
    }
   ],
   "source": [
    "type life.txt | python most_common_words.py 10"
   ]
  },
  {
   "cell_type": "markdown",
   "metadata": {},
   "source": [
    "## 9.2 파일읽기"
   ]
  },
  {
   "cell_type": "code",
   "execution_count": 14,
   "metadata": {},
   "outputs": [],
   "source": [
    "# 'r'은 read_only(읽기전용)을 일컫는다.\n",
    "file_for_reading = open('life.txt','r',encoding='cp949')\n",
    "\n",
    "# 'w'는 write(쓰기)를 의미함 ( 해당 파일이 이미 존재한다면, 기존 파일을 제거함)\n",
    "#file_for_writing = open('life.txt','w',encoding='cp949')\n",
    "\n",
    "# 'a'는 append(덧붙이기)를 의미함 ( 해당의 맨 끝에 덧붙임)\n",
    "#file_for_appending = open('life.txt','a',encoding='cp949')\n",
    "\n",
    "# 작업이 끝났다면 파일을 닫는 것을 잊지말자!\n",
    "file_for_reading.close()"
   ]
  },
  {
   "cell_type": "code",
   "execution_count": 17,
   "metadata": {},
   "outputs": [
    {
     "ename": "NameError",
     "evalue": "name 'process' is not defined",
     "output_type": "error",
     "traceback": [
      "\u001b[1;31m---------------------------------------------------------------------------\u001b[0m",
      "\u001b[1;31mNameError\u001b[0m                                 Traceback (most recent call last)",
      "\u001b[1;32m<ipython-input-17-90bfb0a5ace6>\u001b[0m in \u001b[0;36m<module>\u001b[1;34m()\u001b[0m\n\u001b[0;32m      2\u001b[0m     \u001b[0mdata\u001b[0m \u001b[1;33m=\u001b[0m \u001b[0mf\u001b[0m\u001b[1;33m\u001b[0m\u001b[0m\n\u001b[0;32m      3\u001b[0m \u001b[1;31m# 이 시점부터는 f가 이미 종료되었기 떄문에 f를 다시 사용하지말자.\u001b[0m\u001b[1;33m\u001b[0m\u001b[1;33m\u001b[0m\u001b[0m\n\u001b[1;32m----> 4\u001b[1;33m \u001b[0mprocess\u001b[0m\u001b[1;33m(\u001b[0m\u001b[0mdata\u001b[0m\u001b[1;33m)\u001b[0m\u001b[1;33m\u001b[0m\u001b[0m\n\u001b[0m",
      "\u001b[1;31mNameError\u001b[0m: name 'process' is not defined"
     ]
    }
   ],
   "source": [
    "with open(\"life.txt\",'r') as f:\n",
    "    data = f\n",
    "# 이 시점부터는 f가 이미 종료되었기 떄문에 f를 다시 사용하지말자.\n",
    "process(data)"
   ]
  },
  {
   "cell_type": "code",
   "execution_count": 22,
   "metadata": {},
   "outputs": [
    {
     "name": "stdout",
     "output_type": "stream",
     "text": [
      "1. 인생에 별 기대를 걸지마라!\n",
      "인생에 별 기대를 걸지 않고 사는 게 낫다. 과도한 기대는 과도한 절망을 가져온다.\n",
      "허무주의를 삶의 지표로 삼아라. 어려움과 고난이 닥쳐 오더라도 어느 정도 견뎌낼 수 있다.\n",
      "행복은 느긋한 체념에서 온다. 자존감, 의지력, 긍정적사고, 패기, 용기 등의 말로부터 스스로를 압박하고 괴롭히지 말아라.\n",
      "인간은 우주 속의 한알의 먼지같은 존재이다. 인간의 삶에 의미를 두지 말라. 그러면 작은 행복감이나마 맛보게 된다.\n",
      "굵고 짧게 살려고 하지마라. 가늘더라도 길게 살고 보는 것이 더 현명할 수도 있다.\n",
      "아무리 성공적인 삶을 산다해도 인간은 결국 죽는다. 죽은 후의 내세 따위는 없다.\n",
      "그런 것들은 전부 종교산업에 종사하며 명예와 부를 챙기는 자들의 세속적 욕심이 만들어낸 미끼일 뿐이다.\n",
      "\n",
      "2. 게을러져야 행복할 수 있다.\n",
      "바쁘고 부지런하게 일하는 사람들에 대해 열등감을 느끼지 마라. 그런 사람들은 머지않아 기계(육체)가 고장나서 죽는다.\n",
      "\n",
      "3. 싱글라이프가 행복의 지름길이다.\n",
      "결혼 안하고 외로운 것이 결혼하고서 온갖 스트레스에 시달리는 것보다 훨씬 낫다.\n",
      "굳이 같이 살고 싶다면 계약동거가 결혼보다 낫다.\n",
      "옛말에 '자식이 웬수, 무자식 상팔자'란 말이 괜히 나온게 아니다.\n",
      "\n",
      "4. 복습형, 예습형으로 본 행복론\n",
      "부모에 대한 일체의 원망이나 감사의 맘을 갖지 말아라.\n",
      "유교사상의 치명적 약점은 '옛날이 좋았다'라는 과거 집착이다. 그래서야 어찌 행복을 누리겟는가?\n",
      "불교사상 역시 현재 불행을 과거 탓으로 돌리랴고만 한다. 현재 불행은 인내해서 참을게 아니라 개선해야 하는 것이다.\n",
      "기독교 사상은 젤 심하다. 원죄라는 해괴망측한 망상에 얽매여 행복한 삶을 누리는 것에 반대한다.\n",
      "그때 그때 직감이 시키는대로 행동하라. 잔머리 굴리면 자연의 선물인 본원의 원시적 생명력을 잃게 된다.\n",
      "\n",
      "5. 있는 그대로의 나 자신을 받아들여라.\n",
      "조선왕조 시절 양반 쌍놈 구별이 있었듯이 지금고 귀족 평민의 구별이 있다. 돈 많으면 귀족이고 없으면 평민이다.\n",
      "평민에 속한다고 당장 자살할 게 아니라면 주어진 조건을 수긍하고 열심히 노력헤보는 수밖에 딴 도리가 없다.\n",
      "역경에 처했을 때는 절망으로 도피하거나 억울해하지 말고 자신의 실존을 직시하라. 맘을 가라앉히고\n",
      "자신의 운이 통할때까지 묵묵히 기다려야 한다. 궁즉통이다.\n",
      "제 잘난 맛으로 사는 사람은 행복하다. 괜한 열등감에 시달리지 마라.\n",
      "\n",
      "\n",
      "6. 정치에 관심 두지 마라.\n",
      "우리나라는 정치과잉이다. 정치 하나로 모든 것을 해결할 수 있다고 믿는 사람들이 많다.\n",
      "정치, 문화, 경제가 삼권분립을 이뤄야 나라도 행복해비고 국민들도 행복해진다.\n",
      "정치권력이 개인에게 미치는 힘을 최소로 해야 한다고 주장하는 '아나키즘'이 놓다고 본다.\n",
      "\n",
      "\n",
      "7.야한 본성에 충실하라.\n",
      "야한 마음을 갖고 살아야 행복해진다. '야한 마음'이란 도덕보다 본능에, 정신보다 육체에,\n",
      "아가페적 사랑보다 에로스적 사랑에, 질서보다 자유에, 전체보다 개인에, 검약보다 사치에가치를 매기는 마음이다.\n",
      "일해서 버는 돈을 섹스와 놀이를 위해서만 써라. 정신적 성취감(교회에 갖다 바치는 헌금 따위)를 위해서는 절대로 쓰지 마라!\n",
      "인간 예수가 말한 '너희는 어린아이같이 되지 않으면 천국에 들어갈 수 없다'는 얘기는 착하고 순수해야 천국에 살 수 있다는 얘기가 아니다.\n",
      "어린아이처럼 동물적으로 야한 욕심꾸러기가 되어야 살아 있을 때 행복하단 얘기다.\n",
      "\n",
      "\n",
      "8. 내일을 걱정하지 마라.\n",
      "인간 예수는 '내일 무엇을 먹을까 무엇을 입을까 걱정하지 마라'고 했다. 명언\n",
      "중의 명언이다. 미래 걱정에 사로잡히다 보면 오늘이 피폐해진다.\n",
      "인생의 장기적인 계획을 세워두지 않는게 좋다. 모든 일을 그때 그때 가서\n",
      "'벼락직관'과 '벼락치기'로 대처하는 것이 행복한 삶에 유리하다.\n",
      "행복한 삶은 미래를 차근차근 대비해가는 성실한 자세에서 이뤄지는 게 아니라\n",
      "미래에 대한 태연한 방심상태에서 이뤄진다.\n",
      "살아 있을때 실컷 쾌락을 즐겨라! 있지도 않은 내세를 위해 쾌락을 참아가며\n",
      "기도만 하고 있는 것처럼 바보 같은 짓은 없다.\n",
      "나는 지금까지 장편소설을 쓸 때 소설 전체의 줄거리와 플롯을 미리 구상해놓고 써본 적이 한 번도 없다.\n",
      "쓰다보면 어떻게든 굴러가겠지...하는 식으로 생각하고 처음 부분부터 우선 쓰고 본다.\n",
      "시작이 반이라고 그런식으로 맞춰 가다 보면 오느새 장편 소설 한 편이 완성되곤 했다.\n",
      "\n",
      "\n",
      "9. 건강과 행복\n",
      "비타민 노이로제에 걸리지 마라. 동물들은 그런 거 안먹어도 건강하게 잘들 산다.\n",
      "제약회사와 의사들의 합작에 의한 비타민 결핍 공포증에 속지마라.\n",
      "겅강하게 살려고 술끊고 담배끊고 무공해 자연식 고집하고...이런 식으로 살다보면 돌연사나 우울증에 걸리기 쉽다.\n",
      "본원적 본능을 억눌렀기 때문이다.\n",
      "최고의 건강법은 입에는 말이 적게, 머릿속에는 생각이 적게, 뱃속에는 음식이 적게 하는 것이다.\n",
      "대한민국 자살율은 세계 최고이다. 산다는 것 자체가 돌연사나 극심한 우울증의 원인이 되다. GDP가 아무리 높으면 뭐하나.\n",
      "질투, 중상모략, 튀는 놈 매장시키기, 상상을 초월하는 빈부격차 등 온갖 사회명이 만연한 대한민국을 용기있는 젊은이라면\n",
      "하루 빨리 뜨는 것이 행복한 삶을 유지하는 데 유리할 수 있다.\n",
      "많은 청소년들이 겪는 우울증이나 사살, 탈선 등의 원인은 한창 성욕이 끓어오르는 사춘기의 섹스(또는 대리만족을 위한 야동)를\n",
      "단지 미성년자라는 이유만으로 가로막는 이상한 법규 때문이다.\n",
      "성춘향과 이옹룡은 이미 15세에 질탕한 섹스를 즐겼다. 미성년자의 나이를 17세 정도로 개정하고 철저한 피임교육을 시킬 필요가 있다.\n",
      "자유를 주면 자율이 생긴다.\n",
      "\n",
      "\n",
      "10. 고독을 기쁘게 감수하라.\n",
      "혼자서 영화보고 카페이세 커피나 술을 마시고 한가로이 산책할할 수 있어야 고독을 두려워하지 않게 되어 행복해진다.\n",
      "마음속으로라도 가족관계로 인한 온갖 의무감에서 탈출해 스스로 홀로 독립하기를 시도해 보라. 그럼 차츰 행복해진다.\n",
      "일체의 모임이나 조직에 가입하지 말고 스스로 홀로되어 삶을 당당하게 살 수 잇어야 행복하다.\n",
      "옛말에 '군자의 사귐은 물맛같고 소인의 사귐은 꿀맛같다'...라는 좋은 말이 있다.\n",
      "고독한 일상에서 기쁨을 맛볼 수 있어야 한다. 혼자서 시간을 처리해 나가는 방법을 터득해애 한다.\n",
      "진한 우정도 없이 일부러 술친구, 수다친구를 만들 필요는 없다.\n",
      "\n",
      "\n",
      "11. 종교를 멀리하라.\n",
      "기독교에서는 모든 사람이 죄인이라고 가르친다. 그런 쓸데없는 죄의식은 그 사람을 불행으로 몰고 간다.\n",
      "기독교는 죗값에 대한 공포를 조장한다.\n",
      "예수는 석가는 만민평등주의와 휴머니즘을 설파한 사회개혁가였다.\n",
      "그러나 종교라는 권력집단이 우상화하여 이용하고 난 뒤부터 그들은 공포와 전율의 대상이 되어 버렸다.\n",
      "광적으로 종교에 빠져드는 사람은 정신의학자들은 일종의 정신병자로 본다. 그 사람의 삶은 이루 말할 수 없이 불행해진다.\n",
      "평생을 원인 모를 '죄의식'에 사로 잡혀 공포에 떨면서 산다면 도저히 행복해질 수가 없다.\n",
      "대부분의 종교는 죄의식을 지나치게 강조하면서 신도를 겁주고 윽박지른다.\n",
      "\n",
      "\n",
      "12. 마음의 행복에는 허무주의가 답이다.\n",
      "무슨일을 당하든 '대수롭지 않게' 생각할 수 있는 버릇을 들여야 한다. 과도하게 기뻐하거나 슬퍼할 필요도 없다.\n",
      "'천치같은 동심'으로 돌아가 무엇이든 덤덤해질 필요가 있다. 소금없는 음식을 먹는 것처럼.\n",
      "긍정적 허무주의야말로 고만으로 점철된 우리네 인생길에 위안을 줄 수 있는 유일한 친구가 된다.\n",
      "죽은 뒤의 일에 대한 관심을 끊고 오직 살아있을 때의 쾌락을 위해서만 살아가는 것...그것이 바로 퇘락주의적 허무주의의 요체다.\n",
      "인생은 어차피 허무하고 부질없는 짓이다. 특별히 악을 써봐야 결국 남는 건 씁쓸한 절망감 뿐이다. 죽음에 대한 공포는\n",
      "내세에 대한 공연한 기대심리로 이어지져 정신분열적 광신을 낳는다.\n",
      "육체적 쾌락에 대한 부정은 편협하고 가학적인 성품과 신경질적 적개심을 자겨다 준다.\n",
      "허무주의자는 과대망상적 정신질환을 앓지 않는다. 조울증에도 안걸린다.\n",
      "기대가 없으니 절망도 없고 평정한 정신상태를 유지할 수 있다.\n",
      "그들은 생의 본질이나 죽음의 본질 따위를 캐보려고 하지 않고\n",
      "흐르는 물처럼 인생을 담담하게 살아가기 떄문에 마음이 늘 행복하다.\n",
      "\n",
      "\n",
      "13. 용감보다는 비겁을 선택하라.\n",
      "을사늑약때 분에 못이겨 자결한 민영환 선생이, 자신이 비겁하다고 느끼더라도 악착같이 살아남아\n",
      "끈질긴 독립운동을 했더라면 조국에 훨씬 더 보탬이 되었을 것이다. 어떤 자살도 용감하지 않다. 남들이 비겁하다고 할지언정 질깃질깃\n",
      "살아남아 길게 보고 차근차근 목적을 이뤄 나가야 한다.\n",
      "\n",
      "\n",
      "14. 남의 눈치를 보지 말고 살아라.\n",
      "우리는 혼자 나왔다 혼자 죽는 외로운 인생이라는 사실을 잊지 말아야 한다. 부모, 형제, 남편(아내),친구...결국엔 다 소용없다.\n",
      "그러니 어떤 사람의 눈치도 보지 말고 의지도 말고 살아야 한다. 그러한 처신의 결과는 '실질적 행복'으로 내게 되돌아 온다.\n",
      "고독은 의존심에서 온다. 징징거리지 말고 당당한 나르시시즘으로 고독에 맞서야 한다.\n",
      "설사 욕을 얻어먹더라도 언제나 '독불장군'이 되어라. 그러는 것이 결국에 가서는 행복한 삶의 획득에 유리하다.\n",
      "진리가 너희를 자유케 하리라가 아니라 자유가 너희를 진리케 하리라가 맞다!\n"
     ]
    }
   ],
   "source": [
    "starts_with_hash = 0\n",
    "with open('life.txt','r') as file:\n",
    "    for line in file:\n",
    "        print(line.strip())\n",
    "        #if re.match(\"^#\",line):\n",
    "        #    starts_with_hash += 1"
   ]
  },
  {
   "cell_type": "code",
   "execution_count": 24,
   "metadata": {},
   "outputs": [],
   "source": [
    "def get_domain(email_address):\n",
    "    return email_address.lower().split(\"@\")[-1]"
   ]
  },
  {
   "cell_type": "code",
   "execution_count": 26,
   "metadata": {},
   "outputs": [
    {
     "data": {
      "text/plain": [
       "'naver.com'"
      ]
     },
     "execution_count": 26,
     "metadata": {},
     "output_type": "execute_result"
    }
   ],
   "source": [
    "get_domain(\"kangcw2020@naver.com\")"
   ]
  },
  {
   "cell_type": "code",
   "execution_count": 30,
   "metadata": {},
   "outputs": [],
   "source": [
    "with open('./data/email_addresses.txt','r') as f:\n",
    "    domain_counts = Counter(get_domain(line.strip()) for line in f if \"@\" in line)"
   ]
  },
  {
   "cell_type": "code",
   "execution_count": 31,
   "metadata": {},
   "outputs": [
    {
     "name": "stdout",
     "output_type": "stream",
     "text": [
      "Counter({'gmail.com': 28, 'ru.ac.za': 4, 'wits.ac.za': 3, 'ukzn.ac.za': 3, 'dut.ac.za': 3, 'unizulu.ac.za': 2, 'aims.ac.za': 2, 'uct.ac.za': 2, 'campus.ru.ac.za': 2, 'uclouvain.be': 2, 'yahoo.com': 1, 'yahoo.co.uk': 1, 'uofk.edu': 1, 'stu.ukzn.ac.za': 1, 'uj.ac.za': 1, 'sun.ac.za': 1, 'fis.ucm.es': 1, 'aip.de': 1, 'iburst.co.za': 1, 'kasi.re.kr': 1, 'ieec.uab.es': 1, 'icranet.org': 1, 'icra.it': 1, 'ehu.es': 1, 'myuct.ac.za': 1})\n"
     ]
    }
   ],
   "source": [
    "print(domain_counts)"
   ]
  },
  {
   "cell_type": "markdown",
   "metadata": {},
   "source": [
    "## 9.2.2 구분자가 있는 파일"
   ]
  },
  {
   "cell_type": "code",
   "execution_count": 36,
   "metadata": {},
   "outputs": [
    {
     "name": "stdout",
     "output_type": "stream",
     "text": [
      "['6/20/2014', 'AAPL', '90.91']\n",
      "['6/20/2014', 'MSFT', '41.68']\n",
      "['6/20/2014', 'FB', '64.5']\n",
      "['6/19/2014', 'AAPL', '91.86']\n",
      "['6/19/2014', 'MSFT', '41.51']\n",
      "['6/19/2014', 'FB', '64.34']\n"
     ]
    }
   ],
   "source": [
    "import csv\n",
    "\n",
    "with open(\"./data/tab_delimited_stock_prices.txt\",'r') as f:\n",
    "    reader = csv.reader(f, delimiter='\\t')\n",
    "    for row in reader:\n",
    "        print (row)\n",
    "        date = row[0]\n",
    "        symbol = row[1]\n",
    "        closing_price = float(row[2])\n",
    "        #process(date,symbol, closing_price)"
   ]
  },
  {
   "cell_type": "code",
   "execution_count": 40,
   "metadata": {},
   "outputs": [
    {
     "name": "stdout",
     "output_type": "stream",
     "text": [
      "OrderedDict([('date', '6/20/2014'), ('symbol', 'AAPL'), ('closing_price', '90.91')])\n",
      "OrderedDict([('date', '6/20/2014'), ('symbol', 'MSFT'), ('closing_price', '41.68')])\n",
      "OrderedDict([('date', '6/20/2014'), ('symbol', 'FB'), ('closing_price', '64.5')])\n"
     ]
    }
   ],
   "source": [
    "with open(\"./data/chcolon_delimited_stock_prices.txt\",'r') as f:\n",
    "    reader = csv.DictReader(f, delimiter=':')\n",
    "    for row in reader:\n",
    "        print (row)\n",
    "        date = row['date']\n",
    "        symbol = row['symbol']\n",
    "        closing_price = float(row['closing_price'])\n",
    "        #process(date,symbol, closing_price)    "
   ]
  },
  {
   "cell_type": "code",
   "execution_count": 41,
   "metadata": {},
   "outputs": [
    {
     "ename": "NameError",
     "evalue": "name 'today_prices' is not defined",
     "output_type": "error",
     "traceback": [
      "\u001b[1;31m---------------------------------------------------------------------------\u001b[0m",
      "\u001b[1;31mNameError\u001b[0m                                 Traceback (most recent call last)",
      "\u001b[1;32m<ipython-input-41-df6eed4de60a>\u001b[0m in \u001b[0;36m<module>\u001b[1;34m()\u001b[0m\n\u001b[0;32m      1\u001b[0m \u001b[1;32mwith\u001b[0m \u001b[0mopen\u001b[0m\u001b[1;33m(\u001b[0m\u001b[1;34m'comma_delimited_stock_prices.txt'\u001b[0m\u001b[1;33m,\u001b[0m\u001b[1;34m'w'\u001b[0m\u001b[1;33m)\u001b[0m \u001b[1;32mas\u001b[0m \u001b[0mf\u001b[0m\u001b[1;33m:\u001b[0m\u001b[1;33m\u001b[0m\u001b[0m\n\u001b[0;32m      2\u001b[0m     \u001b[0mwriter\u001b[0m \u001b[1;33m=\u001b[0m \u001b[0mcsv\u001b[0m\u001b[1;33m.\u001b[0m\u001b[0mwriter\u001b[0m\u001b[1;33m(\u001b[0m\u001b[0mf\u001b[0m\u001b[1;33m,\u001b[0m \u001b[0mdelimiter\u001b[0m\u001b[1;33m=\u001b[0m\u001b[1;34m','\u001b[0m\u001b[1;33m)\u001b[0m\u001b[1;33m\u001b[0m\u001b[0m\n\u001b[1;32m----> 3\u001b[1;33m     \u001b[1;32mfor\u001b[0m \u001b[0mstock\u001b[0m\u001b[1;33m,\u001b[0m \u001b[0mprice\u001b[0m \u001b[1;32min\u001b[0m \u001b[0mtoday_prices\u001b[0m\u001b[1;33m.\u001b[0m\u001b[0mitems\u001b[0m\u001b[1;33m(\u001b[0m\u001b[1;33m)\u001b[0m\u001b[1;33m:\u001b[0m\u001b[1;33m\u001b[0m\u001b[0m\n\u001b[0m\u001b[0;32m      4\u001b[0m         \u001b[0mwriter\u001b[0m\u001b[1;33m.\u001b[0m\u001b[0mwriterow\u001b[0m\u001b[1;33m(\u001b[0m\u001b[1;33m[\u001b[0m\u001b[0mstock\u001b[0m\u001b[1;33m,\u001b[0m\u001b[0mprice\u001b[0m\u001b[1;33m]\u001b[0m\u001b[1;33m)\u001b[0m\u001b[1;33m\u001b[0m\u001b[0m\n",
      "\u001b[1;31mNameError\u001b[0m: name 'today_prices' is not defined"
     ]
    }
   ],
   "source": [
    "with open('comma_delimited_stock_prices.txt','w') as f:\n",
    "    writer = csv.writer(f, delimiter=',')\n",
    "    for stock, price in today_prices.items():\n",
    "        writer.writerow([stock,price])"
   ]
  },
  {
   "cell_type": "markdown",
   "metadata": {},
   "source": [
    "## 9.3 웹 스크래핑"
   ]
  },
  {
   "cell_type": "markdown",
   "metadata": {},
   "source": [
    "## 9.3.1 HTML과 파싱"
   ]
  },
  {
   "cell_type": "code",
   "execution_count": 44,
   "metadata": {},
   "outputs": [],
   "source": [
    "# <html>\n",
    "#     <head>\n",
    "#         <title>A Web page</title>\n",
    "#     </head>\n",
    "    \n",
    "#     <body>\n",
    "#         <p id=\"author\">Joel Grus</p>\n",
    "#         <p id=\"subject\">Data Science</p>\n",
    "#     </body>\n",
    "# </html>"
   ]
  },
  {
   "cell_type": "code",
   "execution_count": 47,
   "metadata": {},
   "outputs": [],
   "source": [
    "from bs4 import BeautifulSoup\n",
    "import requests\n",
    "\n",
    "html = requests.get(\"https://wikidocs.net/book/1\").text\n",
    "soup = BeautifulSoup(html,'html5lib')"
   ]
  },
  {
   "cell_type": "code",
   "execution_count": 48,
   "metadata": {},
   "outputs": [],
   "source": [
    "first_paragraph = soup.find('p')"
   ]
  },
  {
   "cell_type": "code",
   "execution_count": 51,
   "metadata": {},
   "outputs": [],
   "source": [
    "first_paragraph_text = soup.p.text\n",
    "first_paragraph_word = soup.p.text.split()"
   ]
  },
  {
   "cell_type": "code",
   "execution_count": 53,
   "metadata": {},
   "outputs": [
    {
     "ename": "KeyError",
     "evalue": "'page_contents'",
     "output_type": "error",
     "traceback": [
      "\u001b[1;31m---------------------------------------------------------------------------\u001b[0m",
      "\u001b[1;31mKeyError\u001b[0m                                  Traceback (most recent call last)",
      "\u001b[1;32m<ipython-input-53-da6c044279f0>\u001b[0m in \u001b[0;36m<module>\u001b[1;34m()\u001b[0m\n\u001b[1;32m----> 1\u001b[1;33m \u001b[0mfirst_paragraph_id\u001b[0m \u001b[1;33m=\u001b[0m \u001b[0msoup\u001b[0m\u001b[1;33m.\u001b[0m\u001b[0mp\u001b[0m\u001b[1;33m[\u001b[0m\u001b[1;34m'page_contents'\u001b[0m\u001b[1;33m]\u001b[0m\u001b[1;33m\u001b[0m\u001b[0m\n\u001b[0m\u001b[0;32m      2\u001b[0m \u001b[0mfirst_paragraph_id2\u001b[0m \u001b[1;33m=\u001b[0m \u001b[0msoup\u001b[0m\u001b[1;33m.\u001b[0m\u001b[0mp\u001b[0m\u001b[1;33m.\u001b[0m\u001b[0mget\u001b[0m\u001b[1;33m(\u001b[0m\u001b[1;34m'page_contents'\u001b[0m\u001b[1;33m)\u001b[0m\u001b[1;33m\u001b[0m\u001b[0m\n",
      "\u001b[1;32m~\\AppData\\Local\\conda\\conda\\envs\\ml_scratch\\lib\\site-packages\\bs4\\element.py\u001b[0m in \u001b[0;36m__getitem__\u001b[1;34m(self, key)\u001b[0m\n\u001b[0;32m    995\u001b[0m         \"\"\"tag[key] returns the value of the 'key' attribute for the tag,\n\u001b[0;32m    996\u001b[0m         and throws an exception if it's not there.\"\"\"\n\u001b[1;32m--> 997\u001b[1;33m         \u001b[1;32mreturn\u001b[0m \u001b[0mself\u001b[0m\u001b[1;33m.\u001b[0m\u001b[0mattrs\u001b[0m\u001b[1;33m[\u001b[0m\u001b[0mkey\u001b[0m\u001b[1;33m]\u001b[0m\u001b[1;33m\u001b[0m\u001b[0m\n\u001b[0m\u001b[0;32m    998\u001b[0m \u001b[1;33m\u001b[0m\u001b[0m\n\u001b[0;32m    999\u001b[0m     \u001b[1;32mdef\u001b[0m \u001b[0m__iter__\u001b[0m\u001b[1;33m(\u001b[0m\u001b[0mself\u001b[0m\u001b[1;33m)\u001b[0m\u001b[1;33m:\u001b[0m\u001b[1;33m\u001b[0m\u001b[0m\n",
      "\u001b[1;31mKeyError\u001b[0m: 'page_contents'"
     ]
    }
   ],
   "source": [
    "first_paragraph_id = soup.p['page_contents']\n",
    "first_paragraph_id2 = soup.p.get('page_contents')"
   ]
  },
  {
   "cell_type": "code",
   "execution_count": 54,
   "metadata": {},
   "outputs": [],
   "source": [
    "all_paragraphs = soup.find_all('p')\n",
    "paragraphs_with_ids = [p for p in soup('p') if p.get('id')]"
   ]
  },
  {
   "cell_type": "code",
   "execution_count": 60,
   "metadata": {},
   "outputs": [
    {
     "data": {
      "text/plain": [
       "[<p><strong> 점프 투 파이썬 오프라인 책 출간 !! (2016.03) </strong></p>,\n",
       " <p>이 책은 파이썬이란 언어를 처음 접해보는 독자들과 프로그래밍을 한 번도 해 본적이 없는 사람들을 대상으로 한다. 프로그래밍을 할 때 사용되는 전문적인 용어들을 알기 쉽게 풀어서 쓰려고 노력하였으며, 파이썬이란 언어의 개별적인 특성만을 강조하지 않고 프로그래밍 전반에 관한 사항을 파이썬이란 언어를 통해 알 수 있도록 알기 쉽게 설명하였다.</p>,\n",
       " <p>파이썬에 대한 기본적인 지식을 알고 있는 사람이라도 이 책은 파이썬 프로그래밍에 대한 흥미를 가질 수 있는 좋은 안내서가 될 것이다. 이 책의 목표는 독자가 파이썬을 통해 프로그래밍에 대한 전반적인 이해를 갖게하는 것이며, 또 파이썬이라는 도구를 이용하여 원하는 프로그램을 쉽고 재미있게 만들 수 있게 하는 것이다. </p>,\n",
       " <p><strong>[파이썬 2.7 or 파이썬 3]</strong> <br/>\n",
       " 점프 투 파이썬은 파이썬 <strong>3 버전</strong>을 기준으로 설명하고 있지만 파이썬 2.7을 사용하는 경우에도 무리없이 책을 읽을 수 있도록 서로 다른부분에 대한 설명도 포함하고 있다. (참고: <a href=\"https://wikidocs.net/743\">파이썬 2.7 vs 파이썬 3</a>)</p>,\n",
       " <p style=\"font-size:12px;\">※ 피드백은 저자에게 e-메일로 전달됩니다.</p>]"
      ]
     },
     "execution_count": 60,
     "metadata": {},
     "output_type": "execute_result"
    }
   ],
   "source": [
    "all_paragraphs"
   ]
  },
  {
   "cell_type": "code",
   "execution_count": 61,
   "metadata": {},
   "outputs": [],
   "source": [
    "important_paragraphs = soup('p',{'class':'important'})\n",
    "important_paragraphs2 =soup('p','important')\n",
    "important_paragraphs3 = [p for p in soup('p') if 'important' in p.get('class',[])]"
   ]
  },
  {
   "cell_type": "code",
   "execution_count": 62,
   "metadata": {},
   "outputs": [],
   "source": [
    "spans_inside_divs = [span\n",
    "                    for div in soup(\"div\")\n",
    "                    for span in div('span')]\n"
   ]
  },
  {
   "cell_type": "markdown",
   "metadata": {},
   "source": [
    "## 9.3.2 예시: 오라일리의 데이터 관련 책"
   ]
  },
  {
   "cell_type": "markdown",
   "metadata": {},
   "source": [
    "- https://www.safaribooksonline.com/search/?query=data\n",
    "- http://oreilly.com/terms"
   ]
  },
  {
   "cell_type": "code",
   "execution_count": 63,
   "metadata": {},
   "outputs": [],
   "source": [
    "url = \"https://shop.oreilly.com/category/browse-subjects/\" + \"data.do?sortby=publicationDate&page=1\"\n",
    "soup = BeautifulSoup(requests.get(url).text, 'html5lib')"
   ]
  },
  {
   "cell_type": "code",
   "execution_count": 64,
   "metadata": {},
   "outputs": [
    {
     "data": {
      "text/plain": [
       "<!--[if IE]><![endif]--><!DOCTYPE html>\n",
       "<!--[if lt IE 9]><meta http-equiv=\"refresh\" content=\"0; url=/unsupported-browser/\" /><![endif]--><!--[if lt IE 10]><html class=\"no-js ie8 oldie\" lang=\"en\" prefix=\"og: http://ogp.me/ns/# og:book: http://ogp.me/ns/book# og:video: http://ogp.me/ns/video#\" data-login-url=\"/accounts/login/\"\n",
       "data-offline-url=\"/\"\n",
       "data-url=\"/search/\"\n",
       "data-csrf-cookie=\"csrfsafari\"\n",
       "data-highlight-privacy=\"\" data-debug=0 data-testing=0><![endif]--><!--[if gt IE 9]><!--><html class=\"no-js\" data-csrf-cookie=\"csrfsafari\" data-debug=\"0\" data-highlight-privacy=\"\" data-login-url=\"/accounts/login/\" data-offline-url=\"/\" data-testing=\"0\" data-url=\"/search/\" lang=\"en\" prefix=\"og: http://ogp.me/ns/# og:book: http://ogp.me/ns/book# og:video: http://ogp.me/ns/video#\"><!--<![endif]--><head><title>Search for : Safari</title><meta content=\"Search for : Safari\" name=\"description\"/><link href=\"https://www.oreilly.com/favicon.ico\" rel=\"shortcut icon\"/><meta charset=\"utf-8\"/><meta content=\"IE=edge,chrome=1\" http-equiv=\"X-UA-Compatible\"/><meta content=\"Safari Books Online\" name=\"author\"/><meta content=\"telephone=no\" name=\"format-detection\"/><meta content=\"on\" http-equiv=\"cleartype\"/><meta content=\"True\" name=\"HandheldFriendly\"/><meta content=\"320\" name=\"MobileOptimized\"/><meta content=\"app-id=881697395, app-argument=safaridetail://\" name=\"apple-itunes-app\"/><meta content=\"width=device-width, minimum-scale=1.0, initial-scale=1.0\" name=\"viewport\"/><meta content=\"4503599627559754\" property=\"twitter:account_id\"/><script type=\"text/javascript\">window.NREUM||(NREUM={}),__nr_require=function(e,t,n){function r(n){if(!t[n]){var o=t[n]={exports:{}};e[n][0].call(o.exports,function(t){var o=e[n][1][t];return r(o||t)},o,o.exports)}return t[n].exports}if(\"function\"==typeof __nr_require)return __nr_require;for(var o=0;o<n.length;o++)r(n[o]);return r}({1:[function(e,t,n){function r(){}function o(e,t,n){return function(){return i(e,[f.now()].concat(u(arguments)),t?null:this,n),t?void 0:this}}var i=e(\"handle\"),a=e(2),u=e(3),c=e(\"ee\").get(\"tracer\"),f=e(\"loader\"),s=NREUM;\"undefined\"==typeof window.newrelic&&(newrelic=s);var p=[\"setPageViewName\",\"setCustomAttribute\",\"setErrorHandler\",\"finished\",\"addToTrace\",\"inlineHit\",\"addRelease\"],d=\"api-\",l=d+\"ixn-\";a(p,function(e,t){s[t]=o(d+t,!0,\"api\")}),s.addPageAction=o(d+\"addPageAction\",!0),s.setCurrentRouteName=o(d+\"routeName\",!0),t.exports=newrelic,s.interaction=function(){return(new r).get()};var m=r.prototype={createTracer:function(e,t){var n={},r=this,o=\"function\"==typeof t;return i(l+\"tracer\",[f.now(),e,n],r),function(){if(c.emit((o?\"\":\"no-\")+\"fn-start\",[f.now(),r,o],n),o)try{return t.apply(this,arguments)}catch(e){throw c.emit(\"fn-err\",[arguments,this,e],n),e}finally{c.emit(\"fn-end\",[f.now()],n)}}}};a(\"setName,setAttribute,save,ignore,onEnd,getContext,end,get\".split(\",\"),function(e,t){m[t]=o(l+t)}),newrelic.noticeError=function(e){\"string\"==typeof e&&(e=new Error(e)),i(\"err\",[e,f.now()])}},{}],2:[function(e,t,n){function r(e,t){var n=[],r=\"\",i=0;for(r in e)o.call(e,r)&&(n[i]=t(r,e[r]),i+=1);return n}var o=Object.prototype.hasOwnProperty;t.exports=r},{}],3:[function(e,t,n){function r(e,t,n){t||(t=0),\"undefined\"==typeof n&&(n=e?e.length:0);for(var r=-1,o=n-t||0,i=Array(o<0?0:o);++r<o;)i[r]=e[t+r];return i}t.exports=r},{}],4:[function(e,t,n){t.exports={exists:\"undefined\"!=typeof window.performance&&window.performance.timing&&\"undefined\"!=typeof window.performance.timing.navigationStart}},{}],ee:[function(e,t,n){function r(){}function o(e){function t(e){return e&&e instanceof r?e:e?c(e,u,i):i()}function n(n,r,o,i){if(!d.aborted||i){e&&e(n,r,o);for(var a=t(o),u=m(n),c=u.length,f=0;f<c;f++)u[f].apply(a,r);var p=s[y[n]];return p&&p.push([b,n,r,a]),a}}function l(e,t){v[e]=m(e).concat(t)}function m(e){return v[e]||[]}function w(e){return p[e]=p[e]||o(n)}function g(e,t){f(e,function(e,n){t=t||\"feature\",y[n]=t,t in s||(s[t]=[])})}var v={},y={},b={on:l,emit:n,get:w,listeners:m,context:t,buffer:g,abort:a,aborted:!1};return b}function i(){return new r}function a(){(s.api||s.feature)&&(d.aborted=!0,s=d.backlog={})}var u=\"nr@context\",c=e(\"gos\"),f=e(2),s={},p={},d=t.exports=o();d.backlog=s},{}],gos:[function(e,t,n){function r(e,t,n){if(o.call(e,t))return e[t];var r=n();if(Object.defineProperty&&Object.keys)try{return Object.defineProperty(e,t,{value:r,writable:!0,enumerable:!1}),r}catch(i){}return e[t]=r,r}var o=Object.prototype.hasOwnProperty;t.exports=r},{}],handle:[function(e,t,n){function r(e,t,n,r){o.buffer([e],r),o.emit(e,t,n)}var o=e(\"ee\").get(\"handle\");t.exports=r,r.ee=o},{}],id:[function(e,t,n){function r(e){var t=typeof e;return!e||\"object\"!==t&&\"function\"!==t?-1:e===window?0:a(e,i,function(){return o++})}var o=1,i=\"nr@id\",a=e(\"gos\");t.exports=r},{}],loader:[function(e,t,n){function r(){if(!x++){var e=h.info=NREUM.info,t=d.getElementsByTagName(\"script\")[0];if(setTimeout(s.abort,3e4),!(e&&e.licenseKey&&e.applicationID&&t))return s.abort();f(y,function(t,n){e[t]||(e[t]=n)}),c(\"mark\",[\"onload\",a()+h.offset],null,\"api\");var n=d.createElement(\"script\");n.src=\"https://\"+e.agent,t.parentNode.insertBefore(n,t)}}function o(){\"complete\"===d.readyState&&i()}function i(){c(\"mark\",[\"domContent\",a()+h.offset],null,\"api\")}function a(){return E.exists&&performance.now?Math.round(performance.now()):(u=Math.max((new Date).getTime(),u))-h.offset}var u=(new Date).getTime(),c=e(\"handle\"),f=e(2),s=e(\"ee\"),p=window,d=p.document,l=\"addEventListener\",m=\"attachEvent\",w=p.XMLHttpRequest,g=w&&w.prototype;NREUM.o={ST:setTimeout,SI:p.setImmediate,CT:clearTimeout,XHR:w,REQ:p.Request,EV:p.Event,PR:p.Promise,MO:p.MutationObserver};var v=\"\"+location,y={beacon:\"bam.nr-data.net\",errorBeacon:\"bam.nr-data.net\",agent:\"js-agent.newrelic.com/nr-1071.min.js\"},b=w&&g&&g[l]&&!/CriOS/.test(navigator.userAgent),h=t.exports={offset:u,now:a,origin:v,features:{},xhrWrappable:b};e(1),d[l]?(d[l](\"DOMContentLoaded\",i,!1),p[l](\"load\",r,!1)):(d[m](\"onreadystatechange\",o),p[m](\"onload\",r)),c(\"mark\",[\"firstbyte\",u],null,\"api\");var x=0,E=e(4)},{}]},{},[\"loader\"]);</script><link href=\"/static/images/apple-touch-icon.0c29511d2d72.png\" rel=\"apple-touch-icon\"/><link href=\"/favicon.ico\" rel=\"shortcut icon\" type=\"image/x-icon\"/><link href=\"//fonts.googleapis.com/css?family=Source+Sans+Pro:200,300,400,600,700,900,200italic,300italic,400italic,600italic,700italic,900italic\" rel=\"stylesheet\" type=\"text/css\"/><link href=\"/static/CACHE/css/0ee62c3c71c1.css\" rel=\"stylesheet\" type=\"text/css\"/><link href=\"/static/CACHE/css/6c64b2946c09.css\" rel=\"stylesheet\" type=\"text/css\"/><meta content=\"noindex, follow\" name=\"robots\"/><!--[if lt IE 9]><script src=\"/static/js/src/respond.min.3b44ce04a146.js\"></script><![endif]--><script type=\"text/javascript\">\n",
       "    (function(i,s,o,g,r,a,m) {\n",
       "      i['GoogleAnalyticsObject']=r;\n",
       "      i[r]=i[r]||function(){(i[r].q=i[r].q||[]).push(arguments)},i[r].l=1*new Date();\n",
       "      a=s.createElement(o),m=s.getElementsByTagName(o)[0];\n",
       "      a.async=1;\n",
       "      a.src=g;\n",
       "      m.parentNode.insertBefore(a,m)\n",
       "    })(window,document,'script','//www.google-analytics.com/analytics.js','ga');\n",
       "\n",
       "    var matches = document.cookie.match(/BrowserCookie\\s*=\\s*([a-f0-9\\-]{36})/),\n",
       "      user_uuid = null;\n",
       "\n",
       "    if (matches && matches.length === 2) {\n",
       "      user_uuid = matches[1];\n",
       "    }\n",
       "\n",
       "  \n",
       "    ga('create', 'UA-39299553-7');\n",
       "  \n",
       "\n",
       "  \n",
       "    \n",
       "      ga('set', 'dimension1', 'Anonymous');\n",
       "    \n",
       "  \n",
       "\n",
       "  ga('set', 'dimension6', user_uuid);\n",
       "\n",
       "  \n",
       "\n",
       "  \n",
       "\n",
       "  \n",
       "\n",
       "  //enable enhanced link tracking\n",
       "  ga('require', 'linkid', 'linkid.js');\n",
       "\n",
       "  // reading interface will track pageviews itself\n",
       "  if (document.location.pathname.indexOf(\"/library/view\") !== 0) {\n",
       "    ga('send', 'pageview');\n",
       "  }\n",
       "  </script><script>\n",
       "    (function(w,d,s,l,i){w[l]=w[l]||[];w[l].push({'gtm.start':\n",
       "    new Date().getTime(),event:'gtm.js'});var f=d.getElementsByTagName(s)[0],\n",
       "    j=d.createElement(s),dl=l!='dataLayer'?'&l='+l:'';j.async=true;j.src=\n",
       "    '//www.googletagmanager.com/gtm.js?id='+i+dl;f.parentNode.insertBefore(j,f);\n",
       "    })(window,document,'script','dataLayer','GTM-5P4V6Z');\n",
       "  </script><script charset=\"utf-8\" defer=\"\" src=\"/jsi18n/web/\"></script><script src=\"/static/js/src/modernizr.8e35451ddb64.js\"></script><script>\n",
       "      var g = {};\n",
       "      \n",
       "      \n",
       "      window.SBO = {\n",
       "        \"constants\": {\n",
       "          \"SEARCH_ENDPOINT\": \"https://www.safaribooksonline.com/api/v2/search/\",\n",
       "          \"SEARCH_SELECT_ENDPOINT\": \"https://www.safaribooksonline.com/api/v2/search/select/\",\n",
       "          \"SUGGEST_ENDPOINT\": \"https://www.safaribooksonline.com/api/v1/search/suggest/\",\n",
       "          \"REVIEWS_ENDPOINT\": \"https://www.safaribooksonline.com/api/v1/reviews/\",\n",
       "          \"REPORTS_ENDPOINT\": \"https://www.safaribooksonline.com/api/v1/reports/\",\n",
       "          \"REPORTS_BATCH_ENDPOINT\": \"https://www.safaribooksonline.com/api/v1/reports/batch/\",\n",
       "          \"ACADEMIC_INSTITUTION_ACCOUNT\": \"false\",\n",
       "          \"ENABLE_ONLINE_TRAINING\": true,\n",
       "          \"SELF_ASSESSMENT_SWITCH\": \"true\"\n",
       "        }\n",
       "      };\n",
       "\n",
       "      \n",
       "    </script><script type=\"application/javascript\">\n",
       "        \n",
       "            window.PUBLISHER_PAGES = true;\n",
       "        \n",
       "    </script><script defer=\"\" src=\"/static/js/build/vendor.218bb2719961.js\"></script><script defer=\"\" src=\"/static/js/build/facetInit.f85e2f103ab8.js\"></script></head><body class=\"sidenav nav-collapsed grid2 search-result-page facet-search-page js-facet-search-page js-heron falcon-search \"><noscript><iframe height=\"0\" src=\"//www.googletagmanager.com/ns.html?id=GTM-5P4V6Z\" style=\"display:none;visibility:hidden\" width=\"0\"></iframe></noscript><a class=\"orm-topbar\" href=\"//www.oreilly.com/\"><svg height=\"13\" viewBox=\"0 0 60 10\" width=\"78\" xmlns=\"http://www.w3.org/2000/svg\"><desc>O'Reilly logo</desc><polygon points=\"28.09 1.96 28.09 0.42 21.68 0.42 21.68 9.64 28.09 9.64 28.09 8.11 23.22 8.11 23.22 5.8 27.86 5.8 27.86 4.27 23.22 4.27 23.22 1.96 28.09 1.96\"></polygon><polygon points=\"32.85 9.64 32.85 0.42 34.39 0.42 34.39 8.11 38.82 8.11 38.82 9.64 32.85 9.64\"></polygon><polygon points=\"40.07 9.64 40.07 0.42 41.61 0.42 41.61 8.11 46.04 8.11 46.04 9.64 40.07 9.64\"></polygon><rect height=\"9.22\" width=\"1.54\" x=\"29.71\" y=\"0.42\"></rect><path d=\"M1.59,6.28a4.8,4.8,0,1,1,4.8,4.8,4.8,4.8,0,0,1-4.8-4.8M4.09,4A3.27,3.27,0,1,0,6.4,3,3.27,3.27,0,0,0,4.09,4\" transform=\"translate(-1.59 -1.2)\"></path><path d=\"M19.82,6.89A2.69,2.69,0,0,0,19,1.62H14.41v9.22h1.54V7h2.14l2.32,3.84H22.2ZM15.95,5.47V3.16H19a1.15,1.15,0,0,1,0,2.31h-3.1Z\" transform=\"translate(-1.59 -1.2)\"></path><path d=\"M13.32,2.61a1.13,1.13,0,1,1-1.13-1.13,1.13,1.13,0,0,1,1.13,1.13\" transform=\"translate(-1.59 -1.2)\"></path><polygon points=\"52.9 0.42 51.03 0.42 48.66 3.85 46.3 0.42 44.43 0.42 47.89 5.44 47.89 9.64 49.43 9.64 49.43 5.44 52.9 0.42\"></polygon><path d=\"M58.31,1.2a2.41,2.41,0,1,0,2.41,2.42A2.42,2.42,0,0,0,58.31,1.2m0,4.44a2,2,0,1,1,2-2,2,2,0,0,1-2,2\" transform=\"translate(-1.59 -1.2)\"></path><path d=\"M59.4,3.09a0.72,0.72,0,0,0-.72-0.72H57.32V4.83h0.41v-1h0.69l0.49,1h0.46l-0.51-1a0.71,0.71,0,0,0,.54-0.69m-1.67-.31h0.95a0.31,0.31,0,0,1,.31.31,0.31,0.31,0,0,1-.31.3H57.73V2.78Z\" transform=\"translate(-1.59 -1.2)\"></path></svg></a><a class=\"skip\" href=\"#page-title\">Skip to content</a><header class=\"topbar t-topbar\"><nav class=\"js-site-nav\" role=\"navigation\"><ul class=\"topnav\"><li class=\"t-logo\"><a class=\"l0 None safari-home nav-icn js-keyboard-nav-home\" href=\"/\"><svg fill=\"#4A3C31\" height=\"20\" version=\"1.1\" viewBox=\"0 0 20 20\" width=\"20\" xmlns=\"http://www.w3.org/2000/svg\"><desc>Safari Home Icon</desc><g fill-rule=\"evenodd\" stroke=\"none\" stroke-width=\"1\"><path d=\"M4 9.9L4 9.9 4 18 16 18 16 9.9 10 4 4 9.9ZM2.6 8.1L2.6 8.1 8.7 1.9 10 0.5 11.3 1.9 17.4 8.1 18 8.7 18 9.5 18 18.1 18 20 16.1 20 3.9 20 2 20 2 18.1 2 9.5 2 8.7 2.6 8.1Z\"></path><rect height=\"7\" width=\"3\" x=\"10\" y=\"12\"></rect><rect height=\"2\" transform=\"translate(18.121320, 10.121320) rotate(-315.000000) translate(-18.121320, -10.121320) \" width=\"4\" x=\"16.1\" y=\"9.1\"></rect><rect height=\"2\" transform=\"translate(2.121320, 10.121320) scale(-1, 1) rotate(-315.000000) translate(-2.121320, -10.121320) \" width=\"4\" x=\"0.1\" y=\"9.1\"></rect></g></svg><span>Safari Home</span></a></li><li class=\"search\"><a class=\"trigger ss-search l0 t-search-box\" data-dropdown-selector=\".searchbox\" href=\"#\"><span>Search</span></a></li><li class=\"usermenu dropdown\"><a class=\"trigger l0 nav-icn nav-dropdown\" href=\"#\"><svg fill=\"#4A3C31\" height=\"20\" version=\"1.1\" viewBox=\"0 0 20 20\" width=\"20\" xmlns=\"http://www.w3.org/2000/svg\"><desc>navigation arrow</desc><g fill-rule=\"evenodd\" stroke=\"none\" stroke-width=\"1\"><path d=\"M0.1 12.5L9.7 3.1C9.8 3 9.9 3 10 3 10.1 3 10.2 3 10.3 3.1L19.9 12.5C20 12.5 20 12.6 20 12.8 20 12.9 20 13 19.9 13L17 15.9C16.9 16 16.8 16 16.7 16 16.5 16 16.4 16 16.4 15.9L10 9.7 3.6 15.9C3.6 16 3.5 16 3.3 16 3.2 16 3.1 16 3 15.9L0.1 13C0 12.9 0 12.8 0 12.7 0 12.7 0 12.6 0.1 12.5Z\"></path></g></svg><span>Expand Nav</span></a><div class=\"drop-content\"><ul><li id=\"nav-topics\"><a class=\"t-topics-link l1 nav-icn\" href=\"/learn/\"><svg fill=\"#4A3C31\" height=\"20\" version=\"1.1\" viewBox=\"0 0 50 55\" width=\"20\" xmlns=\"http://www.w3.org/2000/svg\"><desc>topics icon</desc><g fill-rule=\"evenodd\" stroke=\"none\" stroke-width=\"1\"><path d=\"M25 55L50 41.262 50 13.762 25 0 0 13.762 0 41.262 25 55ZM8.333 37.032L8.333 17.968 25 8.462 41.667 17.968 41.667 37.032 25 46.538 8.333 37.032Z\"></path></g></svg><span>Topics</span></a></li><li><a class=\"l1 nav-icn t-tutorials-nav None\" href=\"/tutorials/\"><svg fill=\"#4A3C31\" height=\"20\" version=\"1.1\" viewBox=\"0 0 20 20\" width=\"20\" xmlns=\"http://www.w3.org/2000/svg\"><desc>tutorials icon</desc><g fill-rule=\"evenodd\" stroke=\"none\" stroke-width=\"1\"><path d=\"M15.8 18.2C15.8 18.2 15.9 18.2 16 18.2 16.1 18.2 16.2 18.2 16.4 18.2 16.5 18.2 16.7 18.1 16.9 18 17 17.9 17.1 17.8 17.2 17.7 17.3 17.6 17.4 17.5 17.4 17.4 17.5 17.2 17.6 16.9 17.6 16.7 17.6 16.6 17.6 16.5 17.6 16.4 17.5 16.2 17.5 16.1 17.4 15.9 17.3 15.8 17.2 15.6 17 15.5 16.8 15.3 16.6 15.3 16.4 15.2 16.2 15.2 16 15.2 15.8 15.2 15.7 15.2 15.5 15.3 15.3 15.4 15.2 15.4 15.1 15.5 15 15.7 14.9 15.8 14.8 15.9 14.7 16 14.7 16.1 14.6 16.3 14.6 16.4 14.6 16.5 14.6 16.6 14.6 16.6 14.6 16.7 14.6 16.9 14.6 17 14.6 17.1 14.7 17.3 14.7 17.4 14.8 17.6 15 17.7 15.1 17.9 15.2 18 15.3 18 15.5 18.1 15.5 18.1 15.6 18.2 15.7 18.2 15.7 18.2 15.7 18.2 15.8 18.2L15.8 18.2ZM9.4 11.5C9.5 11.5 9.5 11.5 9.6 11.5 9.7 11.5 9.9 11.5 10 11.5 10.2 11.5 10.3 11.4 10.5 11.3 10.6 11.2 10.8 11.1 10.9 11 10.9 10.9 11 10.8 11.1 10.7 11.2 10.5 11.2 10.2 11.2 10 11.2 9.9 11.2 9.8 11.2 9.7 11.2 9.5 11.1 9.4 11 9.2 10.9 9.1 10.8 8.9 10.6 8.8 10.5 8.7 10.3 8.6 10 8.5 9.9 8.5 9.7 8.5 9.5 8.5 9.3 8.5 9.1 8.6 9 8.7 8.8 8.7 8.7 8.8 8.6 9 8.5 9.1 8.4 9.2 8.4 9.3 8.2 9.5 8.2 9.8 8.2 10 8.2 10.1 8.2 10.2 8.2 10.3 8.2 10.5 8.3 10.6 8.4 10.7 8.5 10.9 8.6 11.1 8.7 11.2 8.9 11.3 9 11.4 9.1 11.4 9.2 11.4 9.3 11.5 9.3 11.5 9.3 11.5 9.4 11.5 9.4 11.5L9.4 11.5ZM3 4.8C3.1 4.8 3.1 4.8 3.2 4.8 3.4 4.8 3.5 4.8 3.7 4.8 3.8 4.8 4 4.7 4.1 4.6 4.3 4.5 4.4 4.4 4.5 4.3 4.6 4.2 4.6 4.1 4.7 4 4.8 3.8 4.8 3.5 4.8 3.3 4.8 3.1 4.8 3 4.8 2.9 4.7 2.8 4.7 2.6 4.6 2.5 4.5 2.3 4.4 2.2 4.2 2.1 4 1.9 3.8 1.9 3.6 1.8 3.5 1.8 3.3 1.8 3.1 1.8 2.9 1.8 2.7 1.9 2.6 2 2.4 2.1 2.3 2.2 2.2 2.3 2.1 2.4 2 2.5 2 2.6 1.8 2.8 1.8 3 1.8 3.3 1.8 3.4 1.8 3.5 1.8 3.6 1.8 3.8 1.9 3.9 2 4 2.1 4.2 2.2 4.4 2.4 4.5 2.5 4.6 2.6 4.7 2.7 4.7 2.8 4.7 2.9 4.8 2.9 4.8 3 4.8 3 4.8 3 4.8L3 4.8ZM13.1 15.2C13.2 15.1 13.2 15.1 13.2 15.1 13.3 14.9 13.4 14.7 13.6 14.5 13.8 14.2 14.1 14 14.4 13.8 14.7 13.6 15.1 13.5 15.5 13.4 15.9 13.4 16.3 13.4 16.7 13.5 17.2 13.5 17.6 13.7 17.9 13.9 18.2 14.1 18.5 14.4 18.7 14.7 18.9 15 19.1 15.3 19.2 15.6 19.3 15.9 19.4 16.1 19.4 16.4 19.4 17 19.3 17.5 19.1 18.1 19 18.3 18.9 18.5 18.7 18.7 18.5 19 18.3 19.2 18 19.4 17.7 19.6 17.3 19.8 16.9 19.9 16.6 20 16.3 20 16 20 15.8 20 15.6 20 15.4 19.9 15.4 19.9 15.4 19.9 15.4 19.9 15.2 19.9 15 19.8 14.9 19.8 14.8 19.7 14.7 19.7 14.6 19.7 14.4 19.6 14.3 19.5 14.1 19.3 13.7 19.1 13.4 18.7 13.2 18.4 13.1 18.1 12.9 17.8 12.9 17.5 12.8 17.3 12.8 17.1 12.8 16.9L3.5 14.9C3.3 14.9 3.1 14.8 3 14.8 2.7 14.7 2.4 14.5 2.1 14.3 1.7 14 1.4 13.7 1.2 13.3 1 13 0.9 12.6 0.8 12.3 0.7 12 0.7 11.7 0.7 11.4 0.7 11 0.8 10.5 1 10.1 1.1 9.8 1.3 9.5 1.6 9.2 1.8 8.9 2.1 8.7 2.4 8.5 2.8 8.3 3.2 8.1 3.6 8.1 3.9 8 4.2 8 4.5 8 4.6 8 4.8 8 4.9 8.1L6.8 8.5C6.8 8.4 6.8 8.4 6.8 8.4 6.9 8.2 7.1 8 7.2 7.8 7.5 7.5 7.7 7.3 8 7.1 8.4 6.9 8.7 6.8 9.1 6.7 9.5 6.7 10 6.7 10.4 6.8 10.8 6.8 11.2 7 11.5 7.2 11.8 7.5 12.1 7.7 12.4 8 12.6 8.3 12.7 8.6 12.8 8.9 12.9 9.2 13 9.4 13 9.7 13 9.7 13 9.8 13 9.8 13.6 9.9 14.2 10.1 14.9 10.2 15 10.2 15 10.2 15.1 10.2 15.3 10.2 15.4 10.2 15.6 10.2 15.8 10.1 16 10 16.2 9.9 16.4 9.8 16.5 9.6 16.6 9.5 16.8 9.2 16.9 8.8 16.9 8.5 16.9 8.3 16.9 8.2 16.8 8 16.8 7.8 16.7 7.7 16.6 7.5 16.5 7.3 16.3 7.2 16.2 7.1 16 7 15.9 6.9 15.8 6.9 15.7 6.9 15.6 6.8 15.5 6.8L6.2 4.8C6.2 5 6 5.2 5.9 5.3 5.7 5.6 5.5 5.8 5.3 6 4.9 6.2 4.5 6.4 4.1 6.5 3.8 6.6 3.5 6.6 3.2 6.6 3 6.6 2.8 6.6 2.7 6.6 2.6 6.6 2.6 6.5 2.6 6.5 2.5 6.5 2.3 6.5 2.1 6.4 1.8 6.3 1.6 6.1 1.3 6 1 5.7 0.7 5.4 0.5 5 0.3 4.7 0.2 4.4 0.1 4.1 0 3.8 0 3.6 0 3.3 0 2.8 0.1 2.2 0.4 1.7 0.5 1.5 0.7 1.3 0.8 1.1 1.1 0.8 1.3 0.6 1.6 0.5 2 0.3 2.3 0.1 2.7 0.1 3.1 0 3.6 0 4 0.1 4.4 0.2 4.8 0.3 5.1 0.5 5.5 0.8 5.7 1 6 1.3 6.2 1.6 6.3 1.9 6.4 2.3 6.5 2.5 6.6 2.7 6.6 3 6.6 3 6.6 3.1 6.6 3.1 9.7 3.8 12.8 4.4 15.9 5.1 16.1 5.1 16.2 5.2 16.4 5.2 16.7 5.3 16.9 5.5 17.2 5.6 17.5 5.9 17.8 6.2 18.1 6.5 18.3 6.8 18.4 7.2 18.6 7.5 18.6 7.9 18.7 8.2 18.7 8.6 18.7 9 18.6 9.4 18.4 9.8 18.3 10.1 18.2 10.3 18 10.6 17.8 10.9 17.5 11.1 17.3 11.3 16.9 11.6 16.5 11.8 16 11.9 15.7 12 15.3 12 15 12 14.8 12 14.7 12 14.5 11.9 13.9 11.8 13.3 11.7 12.6 11.5 12.5 11.7 12.4 11.9 12.3 12 12.1 12.3 11.9 12.5 11.7 12.7 11.3 12.9 10.9 13.1 10.5 13.2 10.2 13.3 9.9 13.3 9.6 13.3 9.4 13.3 9.2 13.3 9 13.2 9 13.2 9 13.2 9 13.2 8.8 13.2 8.7 13.2 8.5 13.1 8.2 13 8 12.8 7.7 12.6 7.4 12.4 7.1 12 6.8 11.7 6.7 11.4 6.6 11.1 6.5 10.8 6.4 10.6 6.4 10.4 6.4 10.2 5.8 10.1 5.2 9.9 4.5 9.8 4.4 9.8 4.4 9.8 4.3 9.8 4.1 9.8 4 9.8 3.8 9.8 3.6 9.9 3.4 10 3.2 10.1 3 10.2 2.9 10.4 2.8 10.5 2.6 10.8 2.5 11.1 2.5 11.5 2.5 11.6 2.5 11.8 2.6 12 2.6 12.1 2.7 12.3 2.8 12.5 2.9 12.6 3.1 12.8 3.2 12.9 3.3 13 3.5 13.1 3.6 13.1 3.7 13.1 3.8 13.2 3.9 13.2L13.1 15.2 13.1 15.2Z\"></path></g></svg><span>Tutorials</span></a></li></ul><ul class=\"profile\"><li><a class=\"l2\" href=\"https://www.safaribooksonline.com/public/support\">Support</a></li></ul></div></li></ul></nav></header><div class=\"\" id=\"container\"><article data-subscription=\"\">\n",
       "\n",
       "    \n",
       "\n",
       "    \n",
       "    <header id=\"lead\">\n",
       "      <ul>\n",
       "        \n",
       "        \n",
       "      </ul>\n",
       "    </header>\n",
       "    \n",
       "\n",
       "    \n",
       "    \n",
       "\n",
       "\n",
       "\n",
       " <!--[if lt IE 9]>\n",
       "  \n",
       "<![endif]-->\n",
       "\n",
       "\n",
       "\n",
       "  <script defer=\"\" src=\"/static/js/build/djangoMessagesPage.36fdee1367e3.js\"></script>\n",
       "\n",
       "\n",
       "\n",
       "    \n",
       "    \n",
       "    \n",
       "\n",
       "    \n",
       "      \n",
       "         \n",
       "        \n",
       "      \n",
       "\n",
       "      \n",
       "\n",
       "      \n",
       "\n",
       "\n",
       "<div class=\"facets-form arriving search-page js-is-falcon-search\" id=\"js-faceted-search\">\n",
       "\t\n",
       "<div id=\"js-results-count-region\">\n",
       "  <!-- results count rendered here -->\n",
       "</div>\n",
       "\n",
       "<div id=\"search-layout\">\n",
       "  <div class=\"wrap-search-form\">\n",
       "    <div class=\"inner-search-form\">\n",
       "      <div id=\"js-search-form-region\">\n",
       "        <!-- search box with autocomplete rendered here -->\n",
       "      </div>\n",
       "    </div>\n",
       "  </div>\n",
       "\n",
       "  <div class=\"facets\" id=\"js-facets\">\n",
       "    <span class=\"js-calculate-text hidden\"></span>\n",
       "    <div class=\"inline text\">Showing</div>\n",
       "    <div class=\"item inline js-facet-item js-media-facets\">\n",
       "      <input autocomplete=\"off\" class=\"js-select-facet facet-input\" data-placeholder=\"all media\" data-type=\"format\" placeholder=\"all media\" tabindex=\"2\"/>\n",
       "      <div id=\"js-media-facets-region\">\n",
       "      \t<!-- media facets rendered here -->\n",
       "      </div>\n",
       "      <div class=\"active-facets-region\" id=\"js-active-media-facets-region\">\n",
       "        <!-- active media facets rendered here -->\n",
       "      </div>\n",
       "    </div>\n",
       "    <div class=\"inline text\">in</div>\n",
       "    <div class=\"item inline js-facet-item js-topics-facets\">\n",
       "      <input autocomplete=\"off\" class=\"js-select-facet facet-input\" data-placeholder=\"all topics\" data-type=\"topics\" placeholder=\"all topics\" tabindex=\"3\"/>\n",
       "      <div id=\"js-topic-facets-region\">\n",
       "      \t<!-- topic facets rendered here -->\n",
       "      </div>\n",
       "      <div class=\"active-facets-region\" id=\"js-active-topic-facets-region\">\n",
       "        <!-- active topic facets rendered here -->\n",
       "      </div>\n",
       "    </div>\n",
       "    <div class=\"inline text\">from</div>\n",
       "    <div class=\"item inline js-facet-item js-publisher-facets\">\n",
       "      <input autocomplete=\"off\" class=\"js-select-facet facet-input\" data-placeholder=\"all publishers\" data-type=\"publishers_exact\" placeholder=\"all publishers\" tabindex=\"4\"/>\n",
       "      <div id=\"js-publisher-facets-region\">\n",
       "      \t<!-- publisher facets rendered here -->\n",
       "      </div>\n",
       "      <div class=\"active-facets-region\" id=\"js-active-publisher-facets-region\">\n",
       "        <!-- active publisher facets rendered here -->\n",
       "      </div>\n",
       "    </div>\n",
       "    \n",
       "    <div class=\"inline text\">sorted by</div>\n",
       "    <div class=\"item inline sort\">\n",
       "      <select id=\"id_sort js-sort-facets\" name=\"sort\">\n",
       "        <option value=\"relevance\">Relevance</option>\n",
       "        <option value=\"popularity\">Popularity</option>\n",
       "        \n",
       "        <option value=\"report_score\">Rating</option>\n",
       "        \n",
       "        <option value=\"date_added\">Date Added</option>\n",
       "        <option value=\"publication_date\">Publication Date</option>\n",
       "      </select>\n",
       "    </div>\n",
       "  </div>\n",
       "\n",
       "  <div id=\"js-search-help-region\">\n",
       "    <!-- search help is rendered here -->\n",
       "  </div>\n",
       "  <div class=\"results-content\">\n",
       "    <div id=\"js-results-header-region\">\n",
       "      <!-- results header is rendered here -->\n",
       "    </div>\n",
       "    <div id=\"js-results-region\">\n",
       "      <div class=\"search-loading\"></div>\n",
       "      <!-- search results are rendered here -->\n",
       "    </div>\n",
       "    <div id=\"js-pagination-region\">\n",
       "      <!-- pagination is rendered here -->\n",
       "    </div>\n",
       "  </div>\n",
       "</div>\n",
       "\n",
       "</div>\n",
       "\n",
       "\t\n",
       "      <div id=\"js-ratings-modal-region\">\n",
       "        <!-- Ratings modal rendered here via js -->\n",
       "      </div>\n",
       "    \n",
       "\n",
       "\n",
       "\n",
       "  <div class=\"chat-wrapper t-sales-chat\">\n",
       "    <!-- Begin Button Code.  Paste this code where you want the chat button to appear. -->\n",
       "    <div class=\"live-agent\" id=\"liveagent_button_online_573000000008OVU\" style=\" display: none \">\n",
       "      <input class=\"button positive sales-chat-btn form-submit\" onclick=\"liveagent.startChat('573000000008OVU')\" style=\"\" type=\"submit\" value=\"Want Safari for teams? Chat with Sales\"/>\n",
       "    </div>\n",
       "\n",
       "    \n",
       "    <script src=\"/static/js/src/liveagent_deployment.min.js\"></script>\n",
       "    <script type=\"text/javascript\">\n",
       "      if (!window._laq) { window._laq = []; }\n",
       "      window._laq.push(function(){\n",
       "        liveagent.showWhenOnline('573000000008OVU', document.getElementById('liveagent_button_online_573000000008OVU'));\n",
       "      });\n",
       "      if (liveagent) {\n",
       "        liveagent.init('https://d.la1a1.salesforceliveagent.com/chat', '572000000008OUl', '00D00000000hgdL');\n",
       "      }\n",
       "    </script>\n",
       "    \n",
       "\n",
       "    <!-- End Button Code -->\n",
       "  </div> <!-- End chat-wrapper -->\n",
       "\n",
       "\n",
       "\n",
       "\n",
       "      \n",
       "\n",
       "\n",
       "    \n",
       "    \n",
       "\n",
       "    \n",
       "      \n",
       "        \n",
       "\n",
       "\n",
       "\n",
       "\n",
       "\n",
       "  \n",
       "  \n",
       "    <div class=\"subscribe-nag clearfix app-panel anon-panel t-subscribe-nag\" id=\"js-subscribe-nag\">\n",
       "      \n",
       "        <div class=\"sample-message\">\n",
       "          <h2 class=\"t-nag-heading\">Get Instant Access Now</h2>\n",
       "          <div class=\"cta-group t-cta-group\">\n",
       "            <!-- always display calls to action -->\n",
       "            \n",
       "               <a class=\"button-primary t-nag-cta\" href=\"/register/\">Start a Free Trial</a>\n",
       "            \n",
       "            <div class=\"text-links\">\n",
       "            \n",
       "            <span class=\"signin\">Have an account? <a class=\"t-preview-signin\" href=\"/accounts/login/?next=/search/%3Fquery%3Ddata\">Sign in.</a></span>\n",
       "            </div>\n",
       "          </div>\n",
       "        </div>\n",
       "      \n",
       "    </div>\n",
       "  \n",
       "\n",
       "  \n",
       "  \n",
       "\n",
       "\n",
       "      \n",
       "    \n",
       "\n",
       "    \n",
       "\n",
       "  \n",
       "\n",
       "\n",
       "\n",
       "    \n",
       "\n",
       "\n",
       "\n",
       "\n",
       "  <footer class=\"pagefoot\">\n",
       "    <a class=\"icon-up\" href=\"#\"><div class=\"visuallyhidden\">Back to top</div></a>\n",
       "    <ul class=\"js-footer-nav\">\n",
       "      <li class=\"full-support\"><a href=\"https://www.safaribooksonline.com/public/support\">Support</a></li>\n",
       "      <li><a href=\"https://www.safaribooksonline.com/apps/\">Get the App</a></li>\n",
       "      \n",
       "        <li><a href=\"/accounts/login/\">Sign In</a></li>\n",
       "      \n",
       "    </ul>\n",
       "    <span class=\"copyright\">© 2018 <a href=\"https://www.safaribooksonline.com\" target=\"_blank\">Safari</a>.</span>\n",
       "    <a href=\"/terms/\">Terms of Service</a> /\n",
       "    <a href=\"/membership-agreement/\">Membership Agreement</a> /\n",
       "    <a href=\"/privacy/\">Privacy Policy</a>\n",
       "  </footer>\n",
       "\n",
       "<script type=\"text/javascript\">window.NREUM||(NREUM={});NREUM.info={\"applicationTime\":35,\"queueTime\":0,\"beacon\":\"bam.nr-data.net\",\"agent\":\"\",\"licenseKey\":\"510f1a6865\",\"transactionName\":\"YgdaZ0NSW0cEB0RdWltNfkZfUEFdCgofXFBHDVYdR1pQQxZeVlVWUBZdV25AUFUXB1g=\",\"applicationID\":\"3275661\",\"errorBeacon\":\"bam.nr-data.net\"}</script>\n",
       "\n",
       "\n",
       "\n",
       "  </article>\n",
       "</div>\n",
       "\n",
       " \n",
       " \n",
       "\n",
       "</body></html>"
      ]
     },
     "execution_count": 64,
     "metadata": {},
     "output_type": "execute_result"
    }
   ],
   "source": [
    "soup"
   ]
  },
  {
   "cell_type": "code",
   "execution_count": 65,
   "metadata": {},
   "outputs": [
    {
     "name": "stdout",
     "output_type": "stream",
     "text": [
      "0\n"
     ]
    }
   ],
   "source": [
    "tds = soup('td',\"thumbtext\")\n",
    "print (len(tds))"
   ]
  },
  {
   "cell_type": "code",
   "execution_count": 66,
   "metadata": {},
   "outputs": [
    {
     "ename": "NameError",
     "evalue": "name 'td' is not defined",
     "output_type": "error",
     "traceback": [
      "\u001b[1;31m---------------------------------------------------------------------------\u001b[0m",
      "\u001b[1;31mNameError\u001b[0m                                 Traceback (most recent call last)",
      "\u001b[1;32m<ipython-input-66-c0778ac144a5>\u001b[0m in \u001b[0;36m<module>\u001b[1;34m()\u001b[0m\n\u001b[1;32m----> 1\u001b[1;33m \u001b[0mtitle\u001b[0m \u001b[1;33m=\u001b[0m \u001b[0mtd\u001b[0m\u001b[1;33m.\u001b[0m\u001b[0mfind\u001b[0m\u001b[1;33m(\u001b[0m\u001b[1;34m\"div\"\u001b[0m\u001b[1;33m,\u001b[0m\u001b[1;34m\"thumbheader\"\u001b[0m\u001b[1;33m)\u001b[0m\u001b[1;33m.\u001b[0m\u001b[0ma\u001b[0m\u001b[1;33m.\u001b[0m\u001b[0mtext\u001b[0m\u001b[1;33m\u001b[0m\u001b[0m\n\u001b[0m",
      "\u001b[1;31mNameError\u001b[0m: name 'td' is not defined"
     ]
    }
   ],
   "source": [
    "title = td.find(\"div\",\"thumbheader\").a.text"
   ]
  },
  {
   "cell_type": "code",
   "execution_count": null,
   "metadata": {},
   "outputs": [],
   "source": []
  },
  {
   "cell_type": "code",
   "execution_count": null,
   "metadata": {},
   "outputs": [],
   "source": []
  }
 ],
 "metadata": {
  "kernelspec": {
   "display_name": "Python 3",
   "language": "python",
   "name": "python3"
  },
  "language_info": {
   "codemirror_mode": {
    "name": "ipython",
    "version": 3
   },
   "file_extension": ".py",
   "mimetype": "text/x-python",
   "name": "python",
   "nbconvert_exporter": "python",
   "pygments_lexer": "ipython3",
   "version": "3.6.5"
  }
 },
 "nbformat": 4,
 "nbformat_minor": 2
}
