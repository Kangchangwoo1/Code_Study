{
 "cells": [
  {
   "cell_type": "markdown",
   "metadata": {},
   "source": [
    "# 10장. 기계학습(Machine Learning)"
   ]
  },
  {
   "cell_type": "markdown",
   "metadata": {},
   "source": [
    "###   "
   ]
  },
  {
   "cell_type": "markdown",
   "metadata": {},
   "source": [
    "## 11.1 모델링"
   ]
  },
  {
   "cell_type": "markdown",
   "metadata": {},
   "source": [
    "- 모델은 다양한 변수 간의 수학적(혹은 확률적) 관계를 표현한 것\n",
    "- 사전적으로는 '모형','본보기'라고 하는 것으로 보아, 이상적인 혹은 지향적인 것으로 보임"
   ]
  },
  {
   "cell_type": "markdown",
   "metadata": {},
   "source": [
    "## 11.2 기계학습이란?"
   ]
  },
  {
   "cell_type": "markdown",
   "metadata": {},
   "source": [
    "- '데이터마이닝(Data mining)','예측모델링(Predictive Modeling)','기계학습(Machine Learning)' 다 유사한 의미로 쓰인다.\n",
    "- 즉, 주어진 데이터로 모델을 구축하고, 새로운 데이터에 만들어진 모델을 적용해보는 것을 말한다.\n",
    "- 그 예시는 '스팸메일 여부', '사기 예측','클릭확률','우승팀 예측' 등 다양하다.\n",
    "- 정답이 있다면 지도 학습(Supervised Learning), 정답이 없다면 비지도 학습(Unsupervised Learning)이라고 한다.\n",
    "- 때에 따라서 준지도학습(Semi Supervised Learning), 온라인학습(Online Learning) 또한 있다."
   ]
  },
  {
   "cell_type": "markdown",
   "metadata": {},
   "source": [
    "## 11.3 오버피팅과 언더피팅"
   ]
  },
  {
   "cell_type": "markdown",
   "metadata": {},
   "source": [
    "- 일반적으로 오버피팅(Overfitting)이 문제가 된다. 만들어진 데이터에 대해선 성능이 좋지만 기존에 관측한 적 없는 데이터에서는 좋지 않은 경우를 일컫는다. (적절하지 않은 잡음이나 다른 요소가 학습되기 때문.)\n",
    "- 반대로 언더피팅(Underfitting)이란 모델의 성능이 학습 데이터에서도 좋지 않은 경우를 말한다."
   ]
  },
  {
   "cell_type": "code",
   "execution_count": 1,
   "metadata": {},
   "outputs": [],
   "source": [
    "def split_data(data,prob):\n",
    "    \"\"\"데이터를 [prob, 1-prob] 비율로 나눔\"\"\"\n",
    "    results = [], []\n",
    "    for row in data:\n",
    "        results[0 if random.random() < prob else 1].append(row)\n",
    "    return results"
   ]
  },
  {
   "cell_type": "code",
   "execution_count": 2,
   "metadata": {},
   "outputs": [],
   "source": [
    "def train_test_split(x,y,test_pct):\n",
    "    data = zip(x,y)\n",
    "    train, test = split_data(data, 1 - test_pct)\n",
    "    x_train, y_train = zip(*train)\n",
    "    x_test, y_test = zip(*test)\n",
    "    return x_train, x_test, y_train, y_test"
   ]
  },
  {
   "cell_type": "code",
   "execution_count": null,
   "metadata": {},
   "outputs": [],
   "source": [
    "# model = \n",
    "x_train, x_test, y_train, y_test = train_test_split(xs,ys,0.33)\n",
    "model.train(x_train, y_train)\n",
    "performance = model.test(x_test,y_test)"
   ]
  },
  {
   "cell_type": "markdown",
   "metadata": {},
   "source": [
    "- 이를 위해 validation set, train, test로 분할한다."
   ]
  },
  {
   "cell_type": "markdown",
   "metadata": {},
   "source": [
    "## 11.4 정확도"
   ]
  },
  {
   "cell_type": "markdown",
   "metadata": {},
   "source": [
    "-"
   ]
  },
  {
   "cell_type": "markdown",
   "metadata": {},
   "source": [
    "## 11.5 Bias-variance 트레이드오프"
   ]
  },
  {
   "cell_type": "markdown",
   "metadata": {},
   "source": [
    "- Overfitting 문제는 bias(편향)과 variance(분산)의 상충관계라고 말할 수 있다. \n",
    "- bias가 심하다면, 새로운 변수를 추가하거나 Test set을 Train set으로 일부 추가하면 해결책이 될 수 있다. (패턴이 있어야 하기에 데이터의 양은 상관이 없을 수 있다.)\n",
    "- variance가 심하다면, 모델의 변수를 줄이거나 가능하다면 더 많은 데이터를 구하는 것이 해결책이 될 수 있다."
   ]
  },
  {
   "cell_type": "markdown",
   "metadata": {},
   "source": [
    "## 11.6 특성 추출 및 선택"
   ]
  },
  {
   "cell_type": "markdown",
   "metadata": {},
   "source": [
    "- "
   ]
  },
  {
   "cell_type": "markdown",
   "metadata": {},
   "source": [
    "## 11.7 더 공부해 보고 싶다면"
   ]
  },
  {
   "cell_type": "markdown",
   "metadata": {},
   "source": [
    "- Coursera Machine Learning :: https://www.coursera.org/learn/machine-learning\n",
    "- Caltech Machine Learning :: https://work.caltech.edu/telecourse.html#lectures\n",
    "- The Elements of Statistical Learning :: https://web.stanford.edu/~hastie/Papers/ESLII.pdf"
   ]
  }
 ],
 "metadata": {
  "kernelspec": {
   "display_name": "Python 3",
   "language": "python",
   "name": "python3"
  },
  "language_info": {
   "codemirror_mode": {
    "name": "ipython",
    "version": 3
   },
   "file_extension": ".py",
   "mimetype": "text/x-python",
   "name": "python",
   "nbconvert_exporter": "python",
   "pygments_lexer": "ipython3",
   "version": "3.6.5"
  }
 },
 "nbformat": 4,
 "nbformat_minor": 2
}
