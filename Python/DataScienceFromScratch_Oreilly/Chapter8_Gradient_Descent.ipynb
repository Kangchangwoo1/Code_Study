{
 "cells": [
  {
   "cell_type": "markdown",
   "metadata": {},
   "source": [
    "# Chapter8. 경사하강법(Gradient Descent)\n",
    "\n",
    "- '가장 적합한(Best)' 것을 찾는다. == '모델의 오류(Error)를 최소화 하는' 또는 'Likelihood(우도)'를 최대화 하는 것 \n",
    "- 최적화 문제에 대한 답을 내리는 하나의 방법"
   ]
  },
  {
   "cell_type": "markdown",
   "metadata": {},
   "source": [
    " "
   ]
  },
  {
   "cell_type": "markdown",
   "metadata": {},
   "source": [
    "## 8.1 경사하강법에 숨은 의미"
   ]
  },
  {
   "cell_type": "code",
   "execution_count": 18,
   "metadata": {},
   "outputs": [],
   "source": [
    "def sum_of_squares(vector_package):\n",
    "    # v에 속해있는 항목들의 제곱합을 계산한다.\n",
    "    return sum(value ** 2 for value in vector_package)"
   ]
  },
  {
   "cell_type": "markdown",
   "metadata": {},
   "source": [
    "## 8.2 Gradient 계산하기"
   ]
  },
  {
   "cell_type": "code",
   "execution_count": 23,
   "metadata": {},
   "outputs": [],
   "source": [
    "# 특정 함수의 순간기울기(?)\n",
    "def difference_quotient(funtion, input_value , slight_increase):\n",
    "    return (funtion(input_value+slight_increase) - funtion(input_value)) / slight_increase\n",
    "\n",
    "# 입력값을 제곱으로 돌려주는 함수 선언\n",
    "def square(input_value):\n",
    "    return input_value * input_value\n",
    "\n",
    "# 제곱에 대한 도함수\n",
    "def derivative(input_value):\n",
    "    return 2 * input_value\n",
    "\n",
    "# 도함수와 비교를 위한 경사하강법\n",
    "derivative_estimate = lambda x: difference_quotient(square, x, slight_increase=0.00001)\n"
   ]
  },
  {
   "cell_type": "code",
   "execution_count": 24,
   "metadata": {},
   "outputs": [
    {
     "data": {
      "image/png": "[encoded data removed]",
      "text/plain": [
       "<matplotlib.figure.Figure at 0x235702ef4e0>"
      ]
     },
     "metadata": {},
     "output_type": "display_data"
    }
   ],
   "source": [
    "# 필요한 모듈 호출\n",
    "import matplotlib.pyplot as plt\n",
    "\n",
    "x = range(-10,10)\n",
    "\n",
    "plt.title(\"Actual Derivatives vs.Estimates\")\n",
    "plt.plot(x,list(map(derivative, x)), 'rx', label='Actual')\n",
    "plt.plot(x,list(map(derivative_estimate,x)), 'b+', label='Estimate')\n",
    "plt.legend(loc=9)\n",
    "plt.show()"
   ]
  },
  {
   "cell_type": "code",
   "execution_count": 25,
   "metadata": {},
   "outputs": [],
   "source": [
    "def partial_difference_quotient(f,v,i,h):\n",
    "    # 함수 f의 i번째 편도함수가 v에서 가지는 값\n",
    "    w = [v_j + (h if j ==i else 0)\n",
    "        for j,v_j in enumerate(v)]\n",
    "    return (f(w) - f(v)) /h \n",
    "\n",
    "def estiamte_gradient(f,v,h=0.00001):\n",
    "    return [partial_difference_quotient(f,v,i,h) for i, _ in enumerate(v)]"
   ]
  },
  {
   "cell_type": "markdown",
   "metadata": {},
   "source": [
    "## 8.3 Gradient 적용하기"
   ]
  },
  {
   "cell_type": "code",
   "execution_count": null,
   "metadata": {},
   "outputs": [],
   "source": [
    "# 필요한 모듈 호출\n",
    "import random,math\n",
    "\n",
    "def step(vector_package, direction, step_size):\n",
    "    # v에서 step_size만큼 이동하기\n",
    "    return [Value + step_size * direction_i for Value, direction_i in zip(vector_package, direction)]\n",
    "\n",
    "def sum_of_squares_gradient(vector_package):\n",
    "    return [2 * Value for Value in vector_package]\n",
    "\n",
    "vector = [random.randint(-10,10) for i in range(3)]\n",
    "\n",
    "tolerance = 0.0000001"
   ]
  },
  {
   "cell_type": "code",
   "execution_count": 1,
   "metadata": {},
   "outputs": [],
   "source": [
    "# while True:\n",
    "#     gradient = sum_of_squares_gradient(vector)\n",
    "#     print(\"Vector ::\",vector)\n",
    "#     next_v = step(vector,gradient,-0.01)\n",
    "#     print(\"Distance ::\",distance(next_v,v))\n",
    "#     if distance(next_v,v) < tolerance:\n",
    "#         break\n",
    "#     vector = next_v\n",
    "    \n"
   ]
  },
  {
   "cell_type": "code",
   "execution_count": 38,
   "metadata": {},
   "outputs": [],
   "source": [
    "def dot(v,w):\n",
    "    return sum(v_i * w_i for v_i, w_i in zip(v,w))\n",
    "\n",
    "def vector_subtract(v,w):\n",
    "    return [v_i - w_i for v_i,w_i in zip(v,w)]\n",
    "\n",
    "def sum_of_squares(v):\n",
    "    return dot(v,v)\n",
    "\n",
    "def squared_distance(v,w):\n",
    "    return sum_of_squares(vector_subtract(v,w))\n",
    "\n",
    "def distance(v,w):\n",
    "    return math.sqrt(squared_distance(v,w))"
   ]
  },
  {
   "cell_type": "markdown",
   "metadata": {},
   "source": [
    "## 8.4 적절한 이동거리 정하기"
   ]
  },
  {
   "cell_type": "code",
   "execution_count": 2,
   "metadata": {},
   "outputs": [],
   "source": [
    "def safe(f):\n",
    "    # f와 똑같은 함수를 반환하지만 f에 오류가 발생하면 무한대를 반환해준다.\n",
    "    def safe_f(*args, **kwargs):\n",
    "        try:\n",
    "            return f(*args,**kwargs)\n",
    "        except:\n",
    "            return float('inf')\n",
    "    return safe_f"
   ]
  },
  {
   "cell_type": "markdown",
   "metadata": {},
   "source": [
    "## 8.5 종합하기"
   ]
  },
  {
   "cell_type": "code",
   "execution_count": 3,
   "metadata": {},
   "outputs": [],
   "source": [
    "def minimize_batch(target_fn, gradient_fn, theta_0, tolerance = 0.000001):\n",
    "    # 목적함수를 최소화 시키는 theta를 경사 하강법을 사용해서 찾아준다.\n",
    "    \n",
    "    step_sizes = [100,10,1,0.1,0.01,0.001,0.0001,0.00001]\n",
    "    \n",
    "    theta = theta_0\n",
    "    target_fn = safe(target_fn)\n",
    "    value = target_f(theta)\n",
    "    \n",
    "    while True:\n",
    "        gradient = gradient_fn(theta)\n",
    "        next_thetas = [step(theta,gradient, -step_size)\n",
    "                      for step_size in step_sizes]\n",
    "        # 함수를 최소화 시키는 theta 선택\n",
    "        next_theta = min(next_thetas, key = target_fn)\n",
    "        next_value = target_fn(next_theta)\n",
    "        \n",
    "        #tolerance만큼 수렴하면 멈춤\n",
    "        if abs(value -next_value) < tolerance:\n",
    "            return theta\n",
    "        else:\n",
    "            theta,value = next_theta,next_value\n",
    "            \n",
    "    "
   ]
  },
  {
   "cell_type": "code",
   "execution_count": 4,
   "metadata": {},
   "outputs": [],
   "source": [
    "def negate(f):\n",
    "    # x를 입력하면 -f(x)를 반환해주는 함수 생성\n",
    "    return lambda *args, **kwargs : -f(*args,**kwargs)\n",
    "def negate_all(f):\n",
    "    return lambda *args, **kwargs: [-y for y in f(*args, **kwargs)]\n",
    "def maximize_batch(target_fn, gradient_fn, theta_0, tolerance = 0.000001):\n",
    "    return minimize_batch(negate(target_fn),negate_all(gradient_fn),theta_0,tolerance)"
   ]
  },
  {
   "cell_type": "markdown",
   "metadata": {},
   "source": [
    "## 8.6 SGD(Stochastic Gradient Descent)"
   ]
  },
  {
   "cell_type": "code",
   "execution_count": 7,
   "metadata": {},
   "outputs": [],
   "source": [
    "def in_random_order(data):\n",
    "    indexes = [i for i, _ in enumerate(data)]\n",
    "    random.shuffle(indexes)\n",
    "    for i in indexes:\n",
    "        yield data[i]\n",
    "\n",
    "def minimize_stochastic(target_fn,gradient_fn,x,y,theta_0,alpha_0 = 0.01):\n",
    "    \n",
    "    data = zip(x,y)\n",
    "    theta = theta_0\n",
    "    alpha = alpha_0\n",
    "    min_theta,min_value = None, float(\"inf\")\n",
    "    iterations_with_no_improvement = 0\n",
    "    \n",
    "    # 만약 100번 넘게 반복하는 동안 더 작아지지 않는다면 멈춤\n",
    "    while iterations_with_no_improvement < 100:\n",
    "        value = sum(target_fn(x_i,y_i,theta) for x_i,y_i in data)\n",
    "        \n",
    "        if value < min_value:\n",
    "            min_theta,min_value = theta,value\n",
    "            iterations_with_no_improvement = 0\n",
    "            alpha = alpha_0\n",
    "        else:\n",
    "            iterations_with_no_improvement += 1\n",
    "            alpha *= 0.9\n",
    "            \n",
    "        #각 포인트에 대해 경사를 계산\n",
    "        for x_i,y_i in in_random_order(data):\n",
    "            gradient_i = gradient_fn(x_i,y_i,theta)\n",
    "            theta = vector_subtract(theta,scaler_multiply(alpha,gradient_i))\n",
    "            \n",
    "    return min_theta\n",
    "\n",
    "def maximize_stochastic(target_fn,gradient_fn,x,y,theta_0,alpha_0 = 0.01):\n",
    "    return minimize_stochastic(negate(target_fn),negate_all(gradient_fn),x,y,theta_0,alpha_0)"
   ]
  },
  {
   "cell_type": "markdown",
   "metadata": {},
   "source": [
    "## 8.7 더 공부해보고 싶다면\n",
    "\n",
    "-Active Calculus :; https://scholarworks.gvsu.edu/books/15/"
   ]
  },
  {
   "cell_type": "markdown",
   "metadata": {},
   "source": [
    "## 도움자료\n",
    "\n",
    "- 앤드류응 머신러닝 강좌 :: https://www.youtube.com/watch?v=F6GSRDoB-Cg (Artificial Intelligence - All in One)\n",
    "- Gradient descent, how neural networks learn | Chapter 2, deep learning :: https://www.youtube.com/watch?v=IHZwWFHWa-w&t=589s (3blue1brown)\n",
    "- [딥러닝] 2. 선형회귀와 Gradient Descent :: https://www.youtube.com/watch?v=GmtqOlPYB84&t=4s (모두의 연구소)"
   ]
  },
  {
   "cell_type": "code",
   "execution_count": null,
   "metadata": {},
   "outputs": [],
   "source": []
  }
 ],
 "metadata": {
  "kernelspec": {
   "display_name": "Python 3",
   "language": "python",
   "name": "python3"
  },
  "language_info": {
   "codemirror_mode": {
    "name": "ipython",
    "version": 3
   },
   "file_extension": ".py",
   "mimetype": "text/x-python",
   "name": "python",
   "nbconvert_exporter": "python",
   "pygments_lexer": "ipython3",
   "version": "3.6.5"
  }
 },
 "nbformat": 4,
 "nbformat_minor": 2
}
